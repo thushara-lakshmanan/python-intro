{
 "cells": [
  {
   "cell_type": "markdown",
   "metadata": {},
   "source": [
    "# Lesson 6 - Statistics Part 2"
   ]
  },
  {
   "cell_type": "markdown",
   "metadata": {},
   "source": [
    "![stats2](https://cdns.tblsft.com/sites/default/files/pages/1_napolean_minard.png)"
   ]
  },
  {
   "cell_type": "markdown",
   "metadata": {},
   "source": [
    "I. Recap of lesson 5  \n",
    "II. Learning Outcomes  \n",
    "\n",
    "\n",
    "__Outline for the session:__\n",
    "\n",
    "1. Introduction to Statistical Inference\n",
    "2. Data\n",
    "3. Intro to SciPy\n",
    "4. Distributions\n",
    "5. Hypothesis Testing\n",
    "6. Summary  \n",
    "7. References  \n",
    "8. Feedback  "
   ]
  },
  {
   "cell_type": "markdown",
   "metadata": {},
   "source": [
    "# I. Recap of Lesson 5"
   ]
  },
  {
   "cell_type": "markdown",
   "metadata": {},
   "source": [
    "In lesson 5, we covered the basics of Statistics as well as two of its major fields, which deal with collecting and describing data. We touched on:\n",
    "\n",
    "- The shape and form of how data might be collected, structured and unstructured\n",
    "- Different approaches for collecting data through sampling, observation and experimentation\n",
    "- The characteristics of measures of central tendency and measures of variability and what each describes\n",
    "- In-depth descriptive statistics and how to calculate these with plain Python\n",
    "- We also covered a variety of cross-tabulation methods with `pivot_table()` and the `.groupby()` functions\n",
    "    - The best way to think of `.groupby()` is by stating: _for each \"category or group\" show me \"x\" aggregation by column(s)_.\n",
    "    - The `pivot_table()` function provides us with more detailed control over the way we cross-tabulate data."
   ]
  },
  {
   "cell_type": "markdown",
   "metadata": {},
   "source": [
    "# II. Learning Outcomes"
   ]
  },
  {
   "cell_type": "markdown",
   "metadata": {},
   "source": [
    "By the end of the lesson you will have learned:\n",
    "\n",
    "1. What is Statistics Inference and what role does it play in the data analytics cycle.\n",
    "2. What is a probability density function and how do we represent it.\n",
    "3. What is hypothesis testing, and which method to use in a variety of circumstances.\n",
    "4. How to test and evaluate different hypotheses tests."
   ]
  },
  {
   "cell_type": "markdown",
   "metadata": {},
   "source": [
    "# 1. Introduction to Statistical Inference"
   ]
  },
  {
   "cell_type": "markdown",
   "metadata": {},
   "source": [
    "![inf](https://user-images.githubusercontent.com/35218826/37026890-1e2bcfe0-2173-11e8-9b06-3db329d5f477.png)\n",
    "\n",
    "Statistical inference is one of the divisions of statistics that deals with what cannot (or has not) been observed in the data. It is also the side of statistics used to make predictions about what might happen in the future based on what has happen in the past. In other words, it helps us estimate some degree of uncertainty in the future (something we don't know anything about).\n",
    "\n",
    "Another way for thinking about inferential statistics goes as follows. We have evidence about the characteristics of all of the observations in our sample, the true parameters of the population are unkown but we can approximate an answer to the true parameters if the sample is large enough. In this scenario, we would like to make an inference or educated guess about the truth. \n",
    "\n",
    "Three broad goals of statistical inference are parameter estimation, prediction, and model comparison."
   ]
  },
  {
   "cell_type": "markdown",
   "metadata": {},
   "source": [
    "# 2. Data"
   ]
  },
  {
   "cell_type": "markdown",
   "metadata": {},
   "source": [
    "<img src=\"https://s29745.pcdn.co/wp-content/uploads/2019/05/Airbnb-Rentals-in-Melbourne.jpg.optimal.jpg\" alt=\"melbourne\" width=\"600\"/>  \n",
    "\n",
    "We will continue using the Melbourne Airbnb data we started using last class. This time though, we will skill the cleaning part build on the statistical concepts used in our previous lesson. Here is a refresher on the data and what we did to it.\n",
    "\n",
    "1. The data is scraped by a tool called [Inside Airbnb](http://insideairbnb.com/) and we are using a version which was last scraped in 2018.\n",
    "2. The data contains over 20k rows and each one of them represents a listing for a place to rent.\n",
    "3. We got rid of data above 400 and below 25.\n",
    "4. We dealt with missing values by using the median as a proxy.\n",
    "5. We got rid of more than half of the variables.\n",
    "\n",
    "We will load the saved version `mel_airbnb_ready.csv`, do a bit of additional cleaning and preparation, and use that data for this lesson."
   ]
  },
  {
   "cell_type": "code",
   "execution_count": null,
   "metadata": {},
   "outputs": [],
   "source": [
    "plt.xkcd()"
   ]
  },
  {
   "cell_type": "code",
   "execution_count": 3,
   "metadata": {},
   "outputs": [],
   "source": [
    "import pandas as pd\n",
    "import numpy as np\n",
    "import matplotlib.pyplot as plt\n",
    "import seaborn as sns\n",
    "\n",
    "plt.style.use('fivethirtyeight')\n",
    "pd.set_option('display.max_columns', None)\n",
    "pd.set_option('display.max_rows', None)\n",
    "pd.options.display.float_format = '{:.2f}'.format\n",
    "\n",
    "%matplotlib inline"
   ]
  },
  {
   "cell_type": "code",
   "execution_count": 4,
   "metadata": {},
   "outputs": [],
   "source": [
    "df = pd.read_csv('../lesson_5/mel_airbnb_ready.csv', parse_dates=['host_since'])"
   ]
  },
  {
   "cell_type": "markdown",
   "metadata": {},
   "source": [
    "Let's have a quick view of the data again."
   ]
  },
  {
   "cell_type": "code",
   "execution_count": 5,
   "metadata": {},
   "outputs": [
    {
     "data": {
      "text/html": [
       "<div>\n",
       "<style scoped>\n",
       "    .dataframe tbody tr th:only-of-type {\n",
       "        vertical-align: middle;\n",
       "    }\n",
       "\n",
       "    .dataframe tbody tr th {\n",
       "        vertical-align: top;\n",
       "    }\n",
       "\n",
       "    .dataframe thead th {\n",
       "        text-align: right;\n",
       "    }\n",
       "</style>\n",
       "<table border=\"1\" class=\"dataframe\">\n",
       "  <thead>\n",
       "    <tr style=\"text-align: right;\">\n",
       "      <th></th>\n",
       "      <th>id</th>\n",
       "      <th>host_since</th>\n",
       "      <th>host_is_superhost</th>\n",
       "      <th>host_identity_verified</th>\n",
       "      <th>city</th>\n",
       "      <th>latitude</th>\n",
       "      <th>longitude</th>\n",
       "      <th>is_location_exact</th>\n",
       "      <th>property_type</th>\n",
       "      <th>room_type</th>\n",
       "      <th>accommodates</th>\n",
       "      <th>bathrooms</th>\n",
       "      <th>bedrooms</th>\n",
       "      <th>beds</th>\n",
       "      <th>price</th>\n",
       "      <th>cleaning_fee</th>\n",
       "      <th>guests_included</th>\n",
       "      <th>extra_people</th>\n",
       "      <th>minimum_nights</th>\n",
       "      <th>maximum_nights</th>\n",
       "      <th>availability_30</th>\n",
       "      <th>number_of_reviews</th>\n",
       "      <th>review_scores_rating</th>\n",
       "      <th>review_scores_cleanliness</th>\n",
       "      <th>instant_bookable</th>\n",
       "      <th>cancellation_policy</th>\n",
       "      <th>calculated_host_listings_count</th>\n",
       "      <th>min_price_stay</th>\n",
       "      <th>month</th>\n",
       "      <th>year</th>\n",
       "      <th>week</th>\n",
       "      <th>weekday</th>\n",
       "      <th>quarter</th>\n",
       "      <th>day_of_week</th>\n",
       "      <th>week_or_end</th>\n",
       "    </tr>\n",
       "  </thead>\n",
       "  <tbody>\n",
       "    <tr>\n",
       "      <th>0</th>\n",
       "      <td>9835</td>\n",
       "      <td>2009-08-21</td>\n",
       "      <td>f</td>\n",
       "      <td>f</td>\n",
       "      <td>Manningham</td>\n",
       "      <td>-37.77</td>\n",
       "      <td>145.09</td>\n",
       "      <td>f</td>\n",
       "      <td>House</td>\n",
       "      <td>Private room</td>\n",
       "      <td>2</td>\n",
       "      <td>1.00</td>\n",
       "      <td>1.00</td>\n",
       "      <td>2.00</td>\n",
       "      <td>60</td>\n",
       "      <td>55.00</td>\n",
       "      <td>1</td>\n",
       "      <td>22</td>\n",
       "      <td>1</td>\n",
       "      <td>365</td>\n",
       "      <td>30</td>\n",
       "      <td>4</td>\n",
       "      <td>90.00</td>\n",
       "      <td>10.00</td>\n",
       "      <td>f</td>\n",
       "      <td>strict_14_with_grace_period</td>\n",
       "      <td>1</td>\n",
       "      <td>60</td>\n",
       "      <td>8</td>\n",
       "      <td>2009</td>\n",
       "      <td>34</td>\n",
       "      <td>4</td>\n",
       "      <td>3</td>\n",
       "      <td>Friday</td>\n",
       "      <td>week_day</td>\n",
       "    </tr>\n",
       "    <tr>\n",
       "      <th>1</th>\n",
       "      <td>10803</td>\n",
       "      <td>2009-09-16</td>\n",
       "      <td>f</td>\n",
       "      <td>t</td>\n",
       "      <td>Moreland</td>\n",
       "      <td>-37.77</td>\n",
       "      <td>144.98</td>\n",
       "      <td>t</td>\n",
       "      <td>Apartment</td>\n",
       "      <td>Private room</td>\n",
       "      <td>2</td>\n",
       "      <td>1.00</td>\n",
       "      <td>1.00</td>\n",
       "      <td>1.00</td>\n",
       "      <td>35</td>\n",
       "      <td>9.00</td>\n",
       "      <td>1</td>\n",
       "      <td>15</td>\n",
       "      <td>3</td>\n",
       "      <td>45</td>\n",
       "      <td>4</td>\n",
       "      <td>108</td>\n",
       "      <td>87.00</td>\n",
       "      <td>8.00</td>\n",
       "      <td>t</td>\n",
       "      <td>moderate</td>\n",
       "      <td>1</td>\n",
       "      <td>105</td>\n",
       "      <td>9</td>\n",
       "      <td>2009</td>\n",
       "      <td>38</td>\n",
       "      <td>2</td>\n",
       "      <td>3</td>\n",
       "      <td>Wednesday</td>\n",
       "      <td>week_day</td>\n",
       "    </tr>\n",
       "    <tr>\n",
       "      <th>2</th>\n",
       "      <td>12936</td>\n",
       "      <td>2009-10-31</td>\n",
       "      <td>t</td>\n",
       "      <td>t</td>\n",
       "      <td>Port Phillip</td>\n",
       "      <td>-37.86</td>\n",
       "      <td>144.98</td>\n",
       "      <td>t</td>\n",
       "      <td>Apartment</td>\n",
       "      <td>Entire home/apt</td>\n",
       "      <td>3</td>\n",
       "      <td>1.00</td>\n",
       "      <td>1.00</td>\n",
       "      <td>2.00</td>\n",
       "      <td>159</td>\n",
       "      <td>100.00</td>\n",
       "      <td>2</td>\n",
       "      <td>28</td>\n",
       "      <td>3</td>\n",
       "      <td>28</td>\n",
       "      <td>10</td>\n",
       "      <td>15</td>\n",
       "      <td>94.00</td>\n",
       "      <td>10.00</td>\n",
       "      <td>f</td>\n",
       "      <td>strict_14_with_grace_period</td>\n",
       "      <td>17</td>\n",
       "      <td>477</td>\n",
       "      <td>10</td>\n",
       "      <td>2009</td>\n",
       "      <td>44</td>\n",
       "      <td>5</td>\n",
       "      <td>4</td>\n",
       "      <td>Saturday</td>\n",
       "      <td>weekend</td>\n",
       "    </tr>\n",
       "  </tbody>\n",
       "</table>\n",
       "</div>"
      ],
      "text/plain": [
       "      id host_since host_is_superhost host_identity_verified          city  \\\n",
       "0   9835 2009-08-21                 f                      f    Manningham   \n",
       "1  10803 2009-09-16                 f                      t      Moreland   \n",
       "2  12936 2009-10-31                 t                      t  Port Phillip   \n",
       "\n",
       "   latitude  longitude is_location_exact property_type        room_type  \\\n",
       "0    -37.77     145.09                 f         House     Private room   \n",
       "1    -37.77     144.98                 t     Apartment     Private room   \n",
       "2    -37.86     144.98                 t     Apartment  Entire home/apt   \n",
       "\n",
       "   accommodates  bathrooms  bedrooms  beds  price  cleaning_fee  \\\n",
       "0             2       1.00      1.00  2.00     60         55.00   \n",
       "1             2       1.00      1.00  1.00     35          9.00   \n",
       "2             3       1.00      1.00  2.00    159        100.00   \n",
       "\n",
       "   guests_included  extra_people  minimum_nights  maximum_nights  \\\n",
       "0                1            22               1             365   \n",
       "1                1            15               3              45   \n",
       "2                2            28               3              28   \n",
       "\n",
       "   availability_30  number_of_reviews  review_scores_rating  \\\n",
       "0               30                  4                 90.00   \n",
       "1                4                108                 87.00   \n",
       "2               10                 15                 94.00   \n",
       "\n",
       "   review_scores_cleanliness instant_bookable          cancellation_policy  \\\n",
       "0                      10.00                f  strict_14_with_grace_period   \n",
       "1                       8.00                t                     moderate   \n",
       "2                      10.00                f  strict_14_with_grace_period   \n",
       "\n",
       "   calculated_host_listings_count  min_price_stay  month  year  week  weekday  \\\n",
       "0                               1              60      8  2009    34        4   \n",
       "1                               1             105      9  2009    38        2   \n",
       "2                              17             477     10  2009    44        5   \n",
       "\n",
       "   quarter day_of_week week_or_end  \n",
       "0        3      Friday    week_day  \n",
       "1        3   Wednesday    week_day  \n",
       "2        4    Saturday     weekend  "
      ]
     },
     "execution_count": 5,
     "metadata": {},
     "output_type": "execute_result"
    }
   ],
   "source": [
    "df.head(3)"
   ]
  },
  {
   "cell_type": "markdown",
   "metadata": {},
   "source": [
    "Our columns are."
   ]
  },
  {
   "cell_type": "code",
   "execution_count": 6,
   "metadata": {},
   "outputs": [
    {
     "data": {
      "text/plain": [
       "Index(['id', 'host_since', 'host_is_superhost', 'host_identity_verified',\n",
       "       'city', 'latitude', 'longitude', 'is_location_exact', 'property_type',\n",
       "       'room_type', 'accommodates', 'bathrooms', 'bedrooms', 'beds', 'price',\n",
       "       'cleaning_fee', 'guests_included', 'extra_people', 'minimum_nights',\n",
       "       'maximum_nights', 'availability_30', 'number_of_reviews',\n",
       "       'review_scores_rating', 'review_scores_cleanliness', 'instant_bookable',\n",
       "       'cancellation_policy', 'calculated_host_listings_count',\n",
       "       'min_price_stay', 'month', 'year', 'week', 'weekday', 'quarter',\n",
       "       'day_of_week', 'week_or_end'],\n",
       "      dtype='object')"
      ]
     },
     "execution_count": 6,
     "metadata": {},
     "output_type": "execute_result"
    }
   ],
   "source": [
    "df.columns"
   ]
  },
  {
   "cell_type": "code",
   "execution_count": 7,
   "metadata": {},
   "outputs": [
    {
     "data": {
      "text/plain": [
       "(21914, 35)"
      ]
     },
     "execution_count": 7,
     "metadata": {},
     "output_type": "execute_result"
    }
   ],
   "source": [
    "df.shape"
   ]
  },
  {
   "cell_type": "markdown",
   "metadata": {},
   "source": [
    "Let's deal with the extreme values in the cleaning fee and the minimum night by assigning new values to them."
   ]
  },
  {
   "cell_type": "code",
   "execution_count": 8,
   "metadata": {},
   "outputs": [
    {
     "data": {
      "text/plain": [
       "3.0821917808219177"
      ]
     },
     "execution_count": 8,
     "metadata": {},
     "output_type": "execute_result"
    }
   ],
   "source": [
    "1125 / 365"
   ]
  },
  {
   "cell_type": "code",
   "execution_count": 7,
   "metadata": {},
   "outputs": [
    {
     "data": {
      "text/html": [
       "<div>\n",
       "<style scoped>\n",
       "    .dataframe tbody tr th:only-of-type {\n",
       "        vertical-align: middle;\n",
       "    }\n",
       "\n",
       "    .dataframe tbody tr th {\n",
       "        vertical-align: top;\n",
       "    }\n",
       "\n",
       "    .dataframe thead th {\n",
       "        text-align: right;\n",
       "    }\n",
       "</style>\n",
       "<table border=\"1\" class=\"dataframe\">\n",
       "  <thead>\n",
       "    <tr style=\"text-align: right;\">\n",
       "      <th></th>\n",
       "      <th>price</th>\n",
       "      <th>minimum_nights</th>\n",
       "      <th>cleaning_fee</th>\n",
       "    </tr>\n",
       "  </thead>\n",
       "  <tbody>\n",
       "    <tr>\n",
       "      <th>9726</th>\n",
       "      <td>143</td>\n",
       "      <td>1125</td>\n",
       "      <td>75.00</td>\n",
       "    </tr>\n",
       "    <tr>\n",
       "      <th>15894</th>\n",
       "      <td>148</td>\n",
       "      <td>1125</td>\n",
       "      <td>65.00</td>\n",
       "    </tr>\n",
       "    <tr>\n",
       "      <th>10957</th>\n",
       "      <td>80</td>\n",
       "      <td>1120</td>\n",
       "      <td>20.00</td>\n",
       "    </tr>\n",
       "    <tr>\n",
       "      <th>15611</th>\n",
       "      <td>179</td>\n",
       "      <td>1000</td>\n",
       "      <td>88.00</td>\n",
       "    </tr>\n",
       "    <tr>\n",
       "      <th>1360</th>\n",
       "      <td>219</td>\n",
       "      <td>1000</td>\n",
       "      <td>55.00</td>\n",
       "    </tr>\n",
       "    <tr>\n",
       "      <th>15309</th>\n",
       "      <td>60</td>\n",
       "      <td>1000</td>\n",
       "      <td>55.00</td>\n",
       "    </tr>\n",
       "    <tr>\n",
       "      <th>11740</th>\n",
       "      <td>40</td>\n",
       "      <td>1000</td>\n",
       "      <td>55.00</td>\n",
       "    </tr>\n",
       "    <tr>\n",
       "      <th>19468</th>\n",
       "      <td>35</td>\n",
       "      <td>1000</td>\n",
       "      <td>55.00</td>\n",
       "    </tr>\n",
       "    <tr>\n",
       "      <th>10940</th>\n",
       "      <td>199</td>\n",
       "      <td>900</td>\n",
       "      <td>100.00</td>\n",
       "    </tr>\n",
       "    <tr>\n",
       "      <th>4495</th>\n",
       "      <td>35</td>\n",
       "      <td>900</td>\n",
       "      <td>45.00</td>\n",
       "    </tr>\n",
       "    <tr>\n",
       "      <th>2148</th>\n",
       "      <td>136</td>\n",
       "      <td>666</td>\n",
       "      <td>55.00</td>\n",
       "    </tr>\n",
       "    <tr>\n",
       "      <th>1572</th>\n",
       "      <td>138</td>\n",
       "      <td>500</td>\n",
       "      <td>55.00</td>\n",
       "    </tr>\n",
       "    <tr>\n",
       "      <th>15422</th>\n",
       "      <td>145</td>\n",
       "      <td>365</td>\n",
       "      <td>75.00</td>\n",
       "    </tr>\n",
       "    <tr>\n",
       "      <th>12459</th>\n",
       "      <td>163</td>\n",
       "      <td>365</td>\n",
       "      <td>65.00</td>\n",
       "    </tr>\n",
       "    <tr>\n",
       "      <th>3459</th>\n",
       "      <td>210</td>\n",
       "      <td>365</td>\n",
       "      <td>55.00</td>\n",
       "    </tr>\n",
       "  </tbody>\n",
       "</table>\n",
       "</div>"
      ],
      "text/plain": [
       "       price  minimum_nights  cleaning_fee\n",
       "9726     143            1125         75.00\n",
       "15894    148            1125         65.00\n",
       "10957     80            1120         20.00\n",
       "15611    179            1000         88.00\n",
       "1360     219            1000         55.00\n",
       "15309     60            1000         55.00\n",
       "11740     40            1000         55.00\n",
       "19468     35            1000         55.00\n",
       "10940    199             900        100.00\n",
       "4495      35             900         45.00\n",
       "2148     136             666         55.00\n",
       "1572     138             500         55.00\n",
       "15422    145             365         75.00\n",
       "12459    163             365         65.00\n",
       "3459     210             365         55.00"
      ]
     },
     "execution_count": 7,
     "metadata": {},
     "output_type": "execute_result"
    }
   ],
   "source": [
    "(df[['price', 'minimum_nights', 'cleaning_fee']]\n",
    " .sort_values(by=['minimum_nights', 'cleaning_fee', 'price'], \n",
    "              ascending=False).head(15))"
   ]
  },
  {
   "cell_type": "code",
   "execution_count": 9,
   "metadata": {},
   "outputs": [
    {
     "data": {
      "text/plain": [
       "id                                           23757539\n",
       "host_since                        2013-11-29 00:00:00\n",
       "host_is_superhost                                   f\n",
       "host_identity_verified                              t\n",
       "city                                    Moonee Valley\n",
       "latitude                                       -37.78\n",
       "longitude                                      144.94\n",
       "is_location_exact                                   t\n",
       "property_type                      Serviced apartment\n",
       "room_type                                Private room\n",
       "accommodates                                        2\n",
       "bathrooms                                        1.00\n",
       "bedrooms                                         1.00\n",
       "beds                                             2.00\n",
       "price                                              60\n",
       "cleaning_fee                                    55.00\n",
       "guests_included                                     1\n",
       "extra_people                                        0\n",
       "minimum_nights                                   1000\n",
       "maximum_nights                                   1125\n",
       "availability_30                                    29\n",
       "number_of_reviews                                   0\n",
       "review_scores_rating                            97.00\n",
       "review_scores_cleanliness                       10.00\n",
       "instant_bookable                                    f\n",
       "cancellation_policy                          flexible\n",
       "calculated_host_listings_count                      1\n",
       "min_price_stay                                  60000\n",
       "month                                              11\n",
       "year                                             2013\n",
       "week                                               48\n",
       "weekday                                             4\n",
       "quarter                                             4\n",
       "day_of_week                                    Friday\n",
       "week_or_end                                  week_day\n",
       "Name: 15309, dtype: object"
      ]
     },
     "execution_count": 9,
     "metadata": {},
     "output_type": "execute_result"
    }
   ],
   "source": [
    "df.loc[15309]"
   ]
  },
  {
   "cell_type": "code",
   "execution_count": 10,
   "metadata": {},
   "outputs": [
    {
     "data": {
      "text/html": [
       "<div>\n",
       "<style scoped>\n",
       "    .dataframe tbody tr th:only-of-type {\n",
       "        vertical-align: middle;\n",
       "    }\n",
       "\n",
       "    .dataframe tbody tr th {\n",
       "        vertical-align: top;\n",
       "    }\n",
       "\n",
       "    .dataframe thead th {\n",
       "        text-align: right;\n",
       "    }\n",
       "</style>\n",
       "<table border=\"1\" class=\"dataframe\">\n",
       "  <thead>\n",
       "    <tr style=\"text-align: right;\">\n",
       "      <th></th>\n",
       "      <th>price</th>\n",
       "      <th>minimum_nights</th>\n",
       "      <th>cleaning_fee</th>\n",
       "    </tr>\n",
       "  </thead>\n",
       "  <tbody>\n",
       "    <tr>\n",
       "      <th>17371</th>\n",
       "      <td>332</td>\n",
       "      <td>1</td>\n",
       "      <td>867.00</td>\n",
       "    </tr>\n",
       "    <tr>\n",
       "      <th>18387</th>\n",
       "      <td>399</td>\n",
       "      <td>120</td>\n",
       "      <td>500.00</td>\n",
       "    </tr>\n",
       "    <tr>\n",
       "      <th>8044</th>\n",
       "      <td>150</td>\n",
       "      <td>1</td>\n",
       "      <td>500.00</td>\n",
       "    </tr>\n",
       "    <tr>\n",
       "      <th>20494</th>\n",
       "      <td>251</td>\n",
       "      <td>15</td>\n",
       "      <td>450.00</td>\n",
       "    </tr>\n",
       "    <tr>\n",
       "      <th>17265</th>\n",
       "      <td>278</td>\n",
       "      <td>3</td>\n",
       "      <td>440.00</td>\n",
       "    </tr>\n",
       "    <tr>\n",
       "      <th>740</th>\n",
       "      <td>260</td>\n",
       "      <td>7</td>\n",
       "      <td>355.00</td>\n",
       "    </tr>\n",
       "    <tr>\n",
       "      <th>7617</th>\n",
       "      <td>125</td>\n",
       "      <td>90</td>\n",
       "      <td>350.00</td>\n",
       "    </tr>\n",
       "    <tr>\n",
       "      <th>15686</th>\n",
       "      <td>141</td>\n",
       "      <td>28</td>\n",
       "      <td>350.00</td>\n",
       "    </tr>\n",
       "    <tr>\n",
       "      <th>15679</th>\n",
       "      <td>137</td>\n",
       "      <td>14</td>\n",
       "      <td>350.00</td>\n",
       "    </tr>\n",
       "    <tr>\n",
       "      <th>17933</th>\n",
       "      <td>215</td>\n",
       "      <td>2</td>\n",
       "      <td>350.00</td>\n",
       "    </tr>\n",
       "    <tr>\n",
       "      <th>1047</th>\n",
       "      <td>385</td>\n",
       "      <td>7</td>\n",
       "      <td>341.00</td>\n",
       "    </tr>\n",
       "    <tr>\n",
       "      <th>1385</th>\n",
       "      <td>385</td>\n",
       "      <td>7</td>\n",
       "      <td>341.00</td>\n",
       "    </tr>\n",
       "    <tr>\n",
       "      <th>2939</th>\n",
       "      <td>385</td>\n",
       "      <td>7</td>\n",
       "      <td>341.00</td>\n",
       "    </tr>\n",
       "    <tr>\n",
       "      <th>19563</th>\n",
       "      <td>383</td>\n",
       "      <td>7</td>\n",
       "      <td>331.00</td>\n",
       "    </tr>\n",
       "    <tr>\n",
       "      <th>18580</th>\n",
       "      <td>350</td>\n",
       "      <td>2</td>\n",
       "      <td>330.00</td>\n",
       "    </tr>\n",
       "  </tbody>\n",
       "</table>\n",
       "</div>"
      ],
      "text/plain": [
       "       price  minimum_nights  cleaning_fee\n",
       "17371    332               1        867.00\n",
       "18387    399             120        500.00\n",
       "8044     150               1        500.00\n",
       "20494    251              15        450.00\n",
       "17265    278               3        440.00\n",
       "740      260               7        355.00\n",
       "7617     125              90        350.00\n",
       "15686    141              28        350.00\n",
       "15679    137              14        350.00\n",
       "17933    215               2        350.00\n",
       "1047     385               7        341.00\n",
       "1385     385               7        341.00\n",
       "2939     385               7        341.00\n",
       "19563    383               7        331.00\n",
       "18580    350               2        330.00"
      ]
     },
     "execution_count": 10,
     "metadata": {},
     "output_type": "execute_result"
    }
   ],
   "source": [
    "(df[['price', 'minimum_nights', 'cleaning_fee']]\n",
    " .sort_values(by=['cleaning_fee', 'minimum_nights', 'price'], \n",
    "              ascending=False).head(15))"
   ]
  },
  {
   "cell_type": "code",
   "execution_count": 11,
   "metadata": {},
   "outputs": [
    {
     "data": {
      "text/plain": [
       "id                                                   26109640\n",
       "host_since                                2018-02-28 00:00:00\n",
       "host_is_superhost                                           f\n",
       "host_identity_verified                                      f\n",
       "city                                               Boroondara\n",
       "latitude                                               -37.81\n",
       "longitude                                              145.09\n",
       "is_location_exact                                           t\n",
       "property_type                                           House\n",
       "room_type                                     Entire home/apt\n",
       "accommodates                                               11\n",
       "bathrooms                                                2.50\n",
       "bedrooms                                                 6.00\n",
       "beds                                                    11.00\n",
       "price                                                     278\n",
       "cleaning_fee                                           440.00\n",
       "guests_included                                             8\n",
       "extra_people                                               30\n",
       "minimum_nights                                              3\n",
       "maximum_nights                                           1125\n",
       "availability_30                                            13\n",
       "number_of_reviews                                          11\n",
       "review_scores_rating                                    76.00\n",
       "review_scores_cleanliness                                8.00\n",
       "instant_bookable                                            t\n",
       "cancellation_policy               strict_14_with_grace_period\n",
       "calculated_host_listings_count                              9\n",
       "min_price_stay                                            834\n",
       "month                                                       2\n",
       "year                                                     2018\n",
       "week                                                        9\n",
       "weekday                                                     2\n",
       "quarter                                                     1\n",
       "day_of_week                                         Wednesday\n",
       "week_or_end                                          week_day\n",
       "Name: 17265, dtype: object"
      ]
     },
     "execution_count": 11,
     "metadata": {},
     "output_type": "execute_result"
    }
   ],
   "source": [
    "df.loc[17265]"
   ]
  },
  {
   "cell_type": "code",
   "execution_count": 12,
   "metadata": {},
   "outputs": [
    {
     "data": {
      "text/plain": [
       "count   21914.00\n",
       "mean        4.01\n",
       "std        26.08\n",
       "min         1.00\n",
       "25%         1.00\n",
       "50%         2.00\n",
       "75%         3.00\n",
       "max      1125.00\n",
       "Name: minimum_nights, dtype: float64"
      ]
     },
     "execution_count": 12,
     "metadata": {},
     "output_type": "execute_result"
    }
   ],
   "source": [
    "df['minimum_nights'].describe()"
   ]
  },
  {
   "cell_type": "code",
   "execution_count": 15,
   "metadata": {},
   "outputs": [
    {
     "data": {
      "text/plain": [
       "0   1.00\n",
       "1   3.00\n",
       "2   3.00\n",
       "3   2.00\n",
       "4   1.00\n",
       "Name: minimum_nights, dtype: float64"
      ]
     },
     "execution_count": 15,
     "metadata": {},
     "output_type": "execute_result"
    }
   ],
   "source": [
    "min_night_mask = (df['minimum_nights'] > 499) #filter out the extreme\n",
    "\n",
    "df.loc[min_night_mask, 'minimum_nights'] = df['minimum_nights'].median()\n",
    "df['minimum_nights'].head()"
   ]
  },
  {
   "cell_type": "markdown",
   "metadata": {},
   "source": [
    "Stays where cleaning costs more than double the stay per night should be dealt with too. We will create a mask and assign the median of the array to those values."
   ]
  },
  {
   "cell_type": "code",
   "execution_count": 16,
   "metadata": {},
   "outputs": [
    {
     "data": {
      "text/plain": [
       "18387   500.00\n",
       "20494   450.00\n",
       "740     355.00\n",
       "7617    350.00\n",
       "15686   350.00\n",
       "Name: cleaning_fee, dtype: float64"
      ]
     },
     "execution_count": 16,
     "metadata": {},
     "output_type": "execute_result"
    }
   ],
   "source": [
    "clean_mask = ((df['minimum_nights'] < 4.00) & (df['price'] < df['cleaning_fee']))\n",
    "\n",
    "df.loc[clean_mask, 'cleaning_fee'] = df['cleaning_fee'].median()\n",
    "\n",
    "df['cleaning_fee'].sort_values(ascending=False).head()"
   ]
  },
  {
   "cell_type": "code",
   "execution_count": 18,
   "metadata": {},
   "outputs": [
    {
     "data": {
      "text/plain": [
       "id                                           27713029\n",
       "host_since                        2015-11-07 00:00:00\n",
       "host_is_superhost                                   f\n",
       "host_identity_verified                              f\n",
       "city                                          Bayside\n",
       "latitude                                       -37.89\n",
       "longitude                                      145.00\n",
       "is_location_exact                                   t\n",
       "property_type                                   House\n",
       "room_type                             Entire home/apt\n",
       "accommodates                                        8\n",
       "bathrooms                                        3.00\n",
       "bedrooms                                         4.00\n",
       "beds                                             5.00\n",
       "price                                             399\n",
       "cleaning_fee                                   500.00\n",
       "guests_included                                     8\n",
       "extra_people                                        0\n",
       "minimum_nights                                 120.00\n",
       "maximum_nights                                    270\n",
       "availability_30                                     0\n",
       "number_of_reviews                                   0\n",
       "review_scores_rating                            97.00\n",
       "review_scores_cleanliness                       10.00\n",
       "instant_bookable                                    t\n",
       "cancellation_policy                          flexible\n",
       "calculated_host_listings_count                      4\n",
       "min_price_stay                                  47880\n",
       "month                                              11\n",
       "year                                             2015\n",
       "week                                               45\n",
       "weekday                                             5\n",
       "quarter                                             4\n",
       "day_of_week                                  Saturday\n",
       "week_or_end                                   weekend\n",
       "Name: 18387, dtype: object"
      ]
     },
     "execution_count": 18,
     "metadata": {},
     "output_type": "execute_result"
    }
   ],
   "source": [
    "df.loc[18387]"
   ]
  },
  {
   "cell_type": "code",
   "execution_count": 21,
   "metadata": {},
   "outputs": [
    {
     "data": {
      "text/plain": [
       "47880"
      ]
     },
     "execution_count": 21,
     "metadata": {},
     "output_type": "execute_result"
    }
   ],
   "source": [
    "399 * 120"
   ]
  },
  {
   "cell_type": "code",
   "execution_count": 19,
   "metadata": {},
   "outputs": [],
   "source": [
    "df['min_price_stay'] = (df['price'] * df['minimum_nights'])"
   ]
  },
  {
   "cell_type": "code",
   "execution_count": 20,
   "metadata": {},
   "outputs": [
    {
     "data": {
      "text/plain": [
       "count   21914.00\n",
       "mean      403.32\n",
       "std      1483.37\n",
       "min        25.00\n",
       "25%       105.00\n",
       "50%       195.00\n",
       "75%       379.00\n",
       "max     76650.00\n",
       "Name: min_price_stay, dtype: float64"
      ]
     },
     "execution_count": 20,
     "metadata": {},
     "output_type": "execute_result"
    }
   ],
   "source": [
    "df['min_price_stay'].describe()"
   ]
  },
  {
   "cell_type": "markdown",
   "metadata": {},
   "source": [
    "Let's add a new column to represent the true price of a stay at an Airbnb in Melbourne. This should be the `Price per Night * Minimum Nights per Stay + Cleaning Fee = True Price`. We will name our new column, `true_price`."
   ]
  },
  {
   "cell_type": "code",
   "execution_count": 22,
   "metadata": {},
   "outputs": [
    {
     "data": {
      "text/plain": [
       "0   115.00\n",
       "1   114.00\n",
       "2   577.00\n",
       "3   115.00\n",
       "4    84.00\n",
       "Name: true_price, dtype: float64"
      ]
     },
     "execution_count": 22,
     "metadata": {},
     "output_type": "execute_result"
    }
   ],
   "source": [
    "df['true_price'] = (df['price'] * df['minimum_nights'] + df['cleaning_fee'])\n",
    "df['true_price'].head()"
   ]
  },
  {
   "cell_type": "code",
   "execution_count": 24,
   "metadata": {},
   "outputs": [
    {
     "name": "stdout",
     "output_type": "stream",
     "text": [
      "C:\\Users\\ramon\\OneDrive\\CoderAcademy\\intro-python-4-da\\lesson_6\n"
     ]
    }
   ],
   "source": [
    "!cd"
   ]
  },
  {
   "cell_type": "code",
   "execution_count": 25,
   "metadata": {},
   "outputs": [],
   "source": [
    "df.to_csv('cleaner_melb_abnb.csv', index=False)"
   ]
  },
  {
   "cell_type": "markdown",
   "metadata": {},
   "source": [
    "# 3. Intro to SciPy"
   ]
  },
  {
   "cell_type": "markdown",
   "metadata": {},
   "source": [
    "![scipy](https://www.fullstackpython.com/img/logos/scipy.png)  \n",
    "**Source:** [SciPy](https://www.scipy.org/scipylib/index.html)\n",
    "\n",
    "SciPy stands for Scientific Python and it is a library with the goal of making scientific data analysis easier. The name SciPy is often used as a reference to the main python ecosystem of libraries availables for data analysis, of which the most widely known libraries are pandas, numpy, matplotlib, and, of course, SciPy.\n",
    "\n",
    "SciPy has many tools and submodules in it with the most famous ones being\n",
    "\n",
    "- `linalg` --> a sub-module for linear algebra applications\n",
    "- `stats` --> the statistical sub-module we explored in the previous lesson\n",
    "- `optimize` --> great tool for optimization problems\n",
    "- `signal` --> for signal processing\n",
    "- many more...\n",
    "\n",
    "For our purposes, we will be using the `stats` sub-module for hypothesis testing and other applications.\n",
    "\n",
    "\n",
    "You should have SciPy already installed in your computer, but just in case you need to reinstall it again, here is the code to so:\n",
    "```sh\n",
    "\n",
    "!pip install scipy\n",
    "```\n",
    "\n",
    "Let's import the `stats` sub-module from the scipy library and then continue on to the next section."
   ]
  },
  {
   "cell_type": "code",
   "execution_count": null,
   "metadata": {},
   "outputs": [],
   "source": [
    "# Only use this if the command below fail\n",
    "!pip install scipy"
   ]
  },
  {
   "cell_type": "code",
   "execution_count": null,
   "metadata": {},
   "outputs": [],
   "source": [
    "!conda install scipy"
   ]
  },
  {
   "cell_type": "code",
   "execution_count": 26,
   "metadata": {},
   "outputs": [],
   "source": [
    "from scipy import stats\n",
    "# import scipy"
   ]
  },
  {
   "cell_type": "markdown",
   "metadata": {},
   "source": [
    "# 4. Distributions"
   ]
  },
  {
   "cell_type": "markdown",
   "metadata": {},
   "source": [
    "![florence](https://cdn8.openculture.com/wp-content/uploads/2016/03/27203643/1024px-Nightingale-mortality.jpg)  \n",
    "**Source:** Florence Nightingale\n",
    "\n",
    "Statistical distributions are a tool to represent our dataset and a way to approximate reality. Distributions allow us to see how the likelihood or probability or different measurements (e.g., prices, weights, temperature, ect.) are distributed. The mountain or peak of a distributions show the most likely data points we will encounter, while the tails of a distribution let us see the most unlikely events.\n",
    "\n",
    "Distributions are usually visualised using histograms, and histrograms represent information or data by grouping each observation into bins. Aside from allowing us to visually inspect the data, histograms also give us a way to estimate how likely we are to find an observation taken at random, inside any of the bins. The more observations we gather about X phenomena, e.g. the more price per night data for new listings in our Airbnb dataset, the more spread out and smooth our histogram might become.\n",
    "\n",
    "We are also able to pass curve through a histogram to show a smooth approximation of the data point to a given bin, and we can also represent the probability of seeing a data point that we don't have in our sample.\n",
    "\n",
    "The kind of distribution we have been referring to so far is that one where there is only one peak, and to an extent, only one shape. Because different distributions share different kinds of features, there are other types of distributions such as:\n",
    "\n",
    "### Discrete distributions\n",
    "\n",
    "- There are discrete distributions where all outcomes are equaly likely (e.g. picking a card from a deck or rolling a die), these are said to follow a **Uniform distribution**.\n",
    "- Other discrete distributions, such as those that only have two potential outcomes, true or false, yes or no, follow what we call a **Bernoulli distribution**.\n",
    "- When we calculate many yes or no distributions and plot them on a graph, we have what is called a **Binomial distribution**.\n",
    "- There are also distributions that allow us to calculate the probability of very rare events, such as the **Poisson distribution**.\n",
    "\n",
    "\n",
    "### Continuous distributions\n",
    "\n",
    "Continuous distributions can be represented more easily by a curve as opposed to binned bars, and that is because the data point in such an array usually has float values (e.g. price per house, income, termperature, height, weight, etc.).\n",
    "- The most common distribution we see of the continuous kind is the **normal distribution**. Which is very closely represented by natural events such as precipitaion, snow measurements in inches, etc. Even though the of a normal distribution resembles well rounded mountain, we can often encounter many rare events called outliers, and we can also be presented with very little information about a phenomenon (e.g., there was very little evidence of COVID-19 prior to 2019). To represent different events with distributions, we have a few options\n",
    "- **Student's T distribution** is a special distribution that allows us to accommodate extreme values very well. Think of this distribution as a mountain with a smaller peak and fatter flat sides. The lower number of elements would make the occurance of the extreme values represent a higher population than they would otherwise\n",
    "- **Chi-Squared distribution** always contain non-negative numbers and also always asymmetric. This means that they don't have a typical mountain and will always start after 0 in the origin of any x-y coordinates. This distribution is very useful for hypothesis testing but it often lacks in its inability to truly represent reality.\n",
    "- **Exponential distributions** represent rapidely changing events such as epidemics or stock market crashes.\n",
    "- **Logistic or Sigmoid distribution** allows us to forecast different events and also determine the cut off point where an event happens. This distribution is oftern used in classification algorithms to tell us whether an image has a cat or a dog, and email is spam or not, or if we have rain or no rain.\n",
    "\n",
    "Let's plot each one of these distributions to see what they look like."
   ]
  },
  {
   "cell_type": "markdown",
   "metadata": {},
   "source": [
    "## Normal Distribution\n",
    "\n",
    "The normal distribution tells us that the distribution of our data has a peak where the mean, the median, and the mode are the same and the standard deviation, a.k.a. the dispersion of our data, is normal or smooth as well. We will first generate a random array using the `norm` sub-module from SciPy's stats."
   ]
  },
  {
   "cell_type": "code",
   "execution_count": 27,
   "metadata": {},
   "outputs": [],
   "source": [
    "import pandas as pd\n",
    "import numpy as np\n",
    "import matplotlib.pyplot as plt\n",
    "import seaborn as sns\n",
    "\n",
    "plt.style.use('fivethirtyeight')\n",
    "pd.set_option('display.max_columns', None)\n",
    "pd.set_option('display.max_rows', None)\n",
    "pd.options.display.float_format = '{:.2f}'.format\n",
    "\n",
    "%matplotlib inline\n",
    "\n",
    "df = pd.read_csv('cleaner_melb_abnb.csv', parse_dates=['host_since'])"
   ]
  },
  {
   "cell_type": "code",
   "execution_count": 28,
   "metadata": {},
   "outputs": [],
   "source": [
    "from scipy.stats import norm"
   ]
  },
  {
   "cell_type": "code",
   "execution_count": 29,
   "metadata": {
    "scrolled": true
   },
   "outputs": [
    {
     "data": {
      "text/plain": [
       "\u001b[1;31mSignature:\u001b[0m       \u001b[0mnorm\u001b[0m\u001b[1;33m(\u001b[0m\u001b[1;33m*\u001b[0m\u001b[0margs\u001b[0m\u001b[1;33m,\u001b[0m \u001b[1;33m**\u001b[0m\u001b[0mkwds\u001b[0m\u001b[1;33m)\u001b[0m\u001b[1;33m\u001b[0m\u001b[1;33m\u001b[0m\u001b[0m\n",
       "\u001b[1;31mType:\u001b[0m            norm_gen\n",
       "\u001b[1;31mString form:\u001b[0m     <scipy.stats._continuous_distns.norm_gen object at 0x0000022BE282CD00>\n",
       "\u001b[1;31mFile:\u001b[0m            c:\\python38\\lib\\site-packages\\scipy\\stats\\_continuous_distns.py\n",
       "\u001b[1;31mDocstring:\u001b[0m      \n",
       "A normal continuous random variable.\n",
       "\n",
       "The location (``loc``) keyword specifies the mean.\n",
       "The scale (``scale``) keyword specifies the standard deviation.\n",
       "\n",
       "As an instance of the `rv_continuous` class, `norm` object inherits from it\n",
       "a collection of generic methods (see below for the full list),\n",
       "and completes them with details specific for this particular distribution.\n",
       "\n",
       "Methods\n",
       "-------\n",
       "rvs(loc=0, scale=1, size=1, random_state=None)\n",
       "    Random variates.\n",
       "pdf(x, loc=0, scale=1)\n",
       "    Probability density function.\n",
       "logpdf(x, loc=0, scale=1)\n",
       "    Log of the probability density function.\n",
       "cdf(x, loc=0, scale=1)\n",
       "    Cumulative distribution function.\n",
       "logcdf(x, loc=0, scale=1)\n",
       "    Log of the cumulative distribution function.\n",
       "sf(x, loc=0, scale=1)\n",
       "    Survival function  (also defined as ``1 - cdf``, but `sf` is sometimes more accurate).\n",
       "logsf(x, loc=0, scale=1)\n",
       "    Log of the survival function.\n",
       "ppf(q, loc=0, scale=1)\n",
       "    Percent point function (inverse of ``cdf`` --- percentiles).\n",
       "isf(q, loc=0, scale=1)\n",
       "    Inverse survival function (inverse of ``sf``).\n",
       "moment(n, loc=0, scale=1)\n",
       "    Non-central moment of order n\n",
       "stats(loc=0, scale=1, moments='mv')\n",
       "    Mean('m'), variance('v'), skew('s'), and/or kurtosis('k').\n",
       "entropy(loc=0, scale=1)\n",
       "    (Differential) entropy of the RV.\n",
       "fit(data, loc=0, scale=1)\n",
       "    Parameter estimates for generic data.\n",
       "expect(func, args=(), loc=0, scale=1, lb=None, ub=None, conditional=False, **kwds)\n",
       "    Expected value of a function (of one argument) with respect to the distribution.\n",
       "median(loc=0, scale=1)\n",
       "    Median of the distribution.\n",
       "mean(loc=0, scale=1)\n",
       "    Mean of the distribution.\n",
       "var(loc=0, scale=1)\n",
       "    Variance of the distribution.\n",
       "std(loc=0, scale=1)\n",
       "    Standard deviation of the distribution.\n",
       "interval(alpha, loc=0, scale=1)\n",
       "    Endpoints of the range that contains alpha percent of the distribution\n",
       "\n",
       "Notes\n",
       "-----\n",
       "The probability density function for `norm` is:\n",
       "\n",
       ".. math::\n",
       "\n",
       "    f(x) = \\frac{\\exp(-x^2/2)}{\\sqrt{2\\pi}}\n",
       "\n",
       "for a real number :math:`x`.\n",
       "\n",
       "The probability density above is defined in the \"standardized\" form. To shift\n",
       "and/or scale the distribution use the ``loc`` and ``scale`` parameters.\n",
       "Specifically, ``norm.pdf(x, loc, scale)`` is identically\n",
       "equivalent to ``norm.pdf(y) / scale`` with\n",
       "``y = (x - loc) / scale``.\n",
       "\n",
       "Examples\n",
       "--------\n",
       ">>> from scipy.stats import norm\n",
       ">>> import matplotlib.pyplot as plt\n",
       ">>> fig, ax = plt.subplots(1, 1)\n",
       "\n",
       "Calculate a few first moments:\n",
       "\n",
       "\n",
       ">>> mean, var, skew, kurt = norm.stats(moments='mvsk')\n",
       "\n",
       "Display the probability density function (``pdf``):\n",
       "\n",
       ">>> x = np.linspace(norm.ppf(0.01),\n",
       "...                 norm.ppf(0.99), 100)\n",
       ">>> ax.plot(x, norm.pdf(x),\n",
       "...        'r-', lw=5, alpha=0.6, label='norm pdf')\n",
       "\n",
       "Alternatively, the distribution object can be called (as a function)\n",
       "to fix the shape, location and scale parameters. This returns a \"frozen\"\n",
       "RV object holding the given parameters fixed.\n",
       "\n",
       "Freeze the distribution and display the frozen ``pdf``:\n",
       "\n",
       ">>> rv = norm()\n",
       ">>> ax.plot(x, rv.pdf(x), 'k-', lw=2, label='frozen pdf')\n",
       "\n",
       "Check accuracy of ``cdf`` and ``ppf``:\n",
       "\n",
       ">>> vals = norm.ppf([0.001, 0.5, 0.999])\n",
       ">>> np.allclose([0.001, 0.5, 0.999], norm.cdf(vals))\n",
       "True\n",
       "\n",
       "Generate random numbers:\n",
       "\n",
       ">>> r = norm.rvs(size=1000)\n",
       "\n",
       "And compare the histogram:\n",
       "\n",
       ">>> ax.hist(r, density=True, histtype='stepfilled', alpha=0.2)\n",
       ">>> ax.legend(loc='best', frameon=False)\n",
       ">>> plt.show()\n",
       "\u001b[1;31mClass docstring:\u001b[0m\n",
       "A normal continuous random variable.\n",
       "\n",
       "The location (``loc``) keyword specifies the mean.\n",
       "The scale (``scale``) keyword specifies the standard deviation.\n",
       "\n",
       "%(before_notes)s\n",
       "\n",
       "Notes\n",
       "-----\n",
       "The probability density function for `norm` is:\n",
       "\n",
       ".. math::\n",
       "\n",
       "    f(x) = \\frac{\\exp(-x^2/2)}{\\sqrt{2\\pi}}\n",
       "\n",
       "for a real number :math:`x`.\n",
       "\n",
       "%(after_notes)s\n",
       "\n",
       "%(example)s\n",
       "\u001b[1;31mCall docstring:\u001b[0m \n",
       "Freeze the distribution for the given arguments.\n",
       "\n",
       "Parameters\n",
       "----------\n",
       "arg1, arg2, arg3,... : array_like\n",
       "    The shape parameter(s) for the distribution.  Should include all\n",
       "    the non-optional arguments, may include ``loc`` and ``scale``.\n",
       "\n",
       "Returns\n",
       "-------\n",
       "rv_frozen : rv_frozen instance\n",
       "    The frozen distribution.\n"
      ]
     },
     "metadata": {},
     "output_type": "display_data"
    }
   ],
   "source": [
    "norm?"
   ]
  },
  {
   "cell_type": "code",
   "execution_count": 43,
   "metadata": {},
   "outputs": [],
   "source": [
    "# the rvs method generates random variations based on a mean and an std\n",
    "normal_dist = norm.rvs(loc=-70, scale=10, size=100, random_state=None)"
   ]
  },
  {
   "cell_type": "code",
   "execution_count": 44,
   "metadata": {},
   "outputs": [
    {
     "data": {
      "text/plain": [
       "array([-69.56820125, -65.26521706, -71.45140641, -53.51631005,\n",
       "       -71.49820648, -69.76478168, -59.18304593, -59.40712842,\n",
       "       -69.40578087, -52.12556672, -60.80485234, -63.64536767,\n",
       "       -91.52063775, -66.39855589, -62.10447356, -67.53129649,\n",
       "       -71.39559329, -70.81541393, -58.96003855, -60.09624646,\n",
       "       -62.49342177, -65.77483603, -71.04828751, -66.40997587,\n",
       "       -69.72761228, -56.32799545, -72.19719189, -54.54309368,\n",
       "       -72.63914152, -69.44012669, -62.48452363, -81.97550712,\n",
       "       -53.56181458, -57.16455087, -77.51471433, -61.57210491,\n",
       "       -69.14978038, -59.2198802 , -65.99000131, -68.66057908,\n",
       "       -64.98837422, -78.43590283, -73.77012047, -62.33823222,\n",
       "       -61.60757879, -68.58915442, -55.69445866, -73.90959874,\n",
       "       -67.13834725, -75.0985054 , -60.99152216, -76.15970068,\n",
       "       -57.44320027, -78.91467554, -65.79586719, -59.89961803,\n",
       "       -69.56110038, -68.32638238, -63.77804059, -61.06415469,\n",
       "       -81.91716518, -64.79393918, -67.27848874, -77.5390612 ,\n",
       "       -74.19651643, -47.2862069 , -65.66865313, -68.81138163,\n",
       "       -57.98689679, -55.77559561, -73.32839217, -93.67097135,\n",
       "       -54.46020306, -60.61588352, -85.36634989, -63.35931278,\n",
       "       -63.76942008, -60.57101283, -83.36133492, -69.90713627,\n",
       "       -58.75714874, -68.75515538, -64.79010767, -71.48459544,\n",
       "       -81.55263414, -67.14174178, -83.75792462, -68.24301387,\n",
       "       -47.1875802 , -62.17108659, -77.52428547, -58.32936655,\n",
       "       -77.54406669, -78.2790016 , -63.52067966, -75.75443867,\n",
       "       -89.85939419, -70.26588478, -66.22153789, -61.98336334])"
      ]
     },
     "execution_count": 44,
     "metadata": {},
     "output_type": "execute_result"
    }
   ],
   "source": [
    "normal_dist"
   ]
  },
  {
   "cell_type": "code",
   "execution_count": 45,
   "metadata": {},
   "outputs": [
    {
     "data": {
      "image/png": "[encoded data removed]",
      "text/plain": [
       "<Figure size 432x288 with 1 Axes>"
      ]
     },
     "metadata": {
      "needs_background": "light"
     },
     "output_type": "display_data"
    }
   ],
   "source": [
    "plt.hist(normal_dist, bins=20, edgecolor='white', alpha=0.5)\n",
    "plt.title(\"This is a Normal Distribution\")\n",
    "plt.xlabel(\"Bins containing a range for the data\")\n",
    "plt.ylabel(\"The top of the Bin\")\n",
    "plt.show()"
   ]
  },
  {
   "cell_type": "markdown",
   "metadata": {},
   "source": [
    "We can also change the bins and add a line which shows us the probability of an event occuring at a point where no data has been observed yet."
   ]
  },
  {
   "cell_type": "code",
   "execution_count": 46,
   "metadata": {},
   "outputs": [
    {
     "data": {
      "image/png": "[encoded data removed]",
      "text/plain": [
       "<Figure size 432x288 with 1 Axes>"
      ]
     },
     "metadata": {
      "needs_background": "light"
     },
     "output_type": "display_data"
    }
   ],
   "source": [
    "sns.distplot(normal_dist, bins=60, kde=True,\n",
    "                  color='skyblue', hist_kws={\"linewidth\": 15,'alpha':1})\n",
    "\n",
    "plt.title(\"This is a Normal Distribution with Density Line\")\n",
    "plt.xlabel(\"Bins containing a range for the data\")\n",
    "plt.ylabel(\"The top of the Bins\")\n",
    "plt.show()"
   ]
  },
  {
   "cell_type": "markdown",
   "metadata": {},
   "source": [
    "## Bernoulli"
   ]
  },
  {
   "cell_type": "code",
   "execution_count": 47,
   "metadata": {},
   "outputs": [],
   "source": [
    "from scipy.stats import bernoulli"
   ]
  },
  {
   "cell_type": "code",
   "execution_count": 48,
   "metadata": {},
   "outputs": [],
   "source": [
    "berni_dist = bernoulli.rvs(size=10000,p=0.6)"
   ]
  },
  {
   "cell_type": "code",
   "execution_count": 49,
   "metadata": {},
   "outputs": [
    {
     "data": {
      "text/plain": [
       "array([1, 1, 0, ..., 0, 1, 1])"
      ]
     },
     "execution_count": 49,
     "metadata": {},
     "output_type": "execute_result"
    }
   ],
   "source": [
    "berni_dist"
   ]
  },
  {
   "cell_type": "code",
   "execution_count": 52,
   "metadata": {},
   "outputs": [
    {
     "data": {
      "text/plain": [
       "<matplotlib.rc_context at 0x22be368ec40>"
      ]
     },
     "execution_count": 52,
     "metadata": {},
     "output_type": "execute_result"
    }
   ],
   "source": [
    "plt.xkcd()"
   ]
  },
  {
   "cell_type": "code",
   "execution_count": 53,
   "metadata": {},
   "outputs": [
    {
     "data": {
      "image/png": "[encoded data removed]",
      "text/plain": [
       "<Figure size 432x288 with 1 Axes>"
      ]
     },
     "metadata": {},
     "output_type": "display_data"
    }
   ],
   "source": [
    "ax= sns.distplot(berni_dist, kde=False,\n",
    "                 color=\"red\", hist_kws={\"linewidth\": 15,'alpha':0.4})\n",
    "\n",
    "plt.xlabel('Bernoulli Distribution')\n",
    "plt.ylabel('Frequency')\n",
    "plt.title(\"The Yes or No Distribution\")\n",
    "plt.show()"
   ]
  },
  {
   "cell_type": "markdown",
   "metadata": {},
   "source": [
    "## Uniform\n",
    "\n",
    "Uniform distributions are usually flat and squared."
   ]
  },
  {
   "cell_type": "code",
   "execution_count": 54,
   "metadata": {},
   "outputs": [],
   "source": [
    "from scipy.stats import uniform"
   ]
  },
  {
   "cell_type": "code",
   "execution_count": 55,
   "metadata": {},
   "outputs": [],
   "source": [
    "uni_dist = uniform.rvs(loc=30, scale=4, size=100)"
   ]
  },
  {
   "cell_type": "code",
   "execution_count": 56,
   "metadata": {},
   "outputs": [
    {
     "data": {
      "text/plain": [
       "array([31.83558438, 33.03543264, 31.19010502, 32.99875488, 30.38858603,\n",
       "       33.32153671, 33.50088863, 32.3102326 , 33.19303897, 31.39675126,\n",
       "       31.39728951, 33.29021181, 31.43278779, 33.6055256 , 30.71076456,\n",
       "       32.86266521, 33.64992266, 31.10117159, 33.68391535, 31.17224551,\n",
       "       33.99339479, 30.21575133, 32.31644088, 33.39828116, 32.2384107 ,\n",
       "       32.40611714, 32.4353713 , 32.13466861, 31.5219725 , 32.44368151,\n",
       "       32.65591306, 30.71813955, 30.55308971, 32.44086357, 32.65458829,\n",
       "       31.75048641, 33.33277268, 31.71875642, 33.48474454, 30.25517017,\n",
       "       32.27893113, 33.04591091, 31.31261779, 33.24843265, 32.60046651,\n",
       "       31.95156166, 31.52895089, 30.92286896, 33.26309531, 33.5818771 ,\n",
       "       30.67009208, 33.60863126, 32.68886171, 32.1502992 , 33.07850877,\n",
       "       33.18091695, 31.54578073, 31.69082425, 32.57822841, 32.22253237,\n",
       "       33.57892787, 32.69319852, 33.78285716, 32.61788428, 33.22484066,\n",
       "       32.12069631, 32.04379379, 30.62776544, 32.81743306, 33.09757106,\n",
       "       30.29754315, 32.55010282, 31.80982799, 30.67023273, 30.3890985 ,\n",
       "       33.91725757, 30.08518978, 32.39232215, 32.73365157, 33.91017841,\n",
       "       30.5521205 , 31.49148275, 33.96145254, 31.75628045, 31.32390971,\n",
       "       32.80305137, 30.890522  , 31.80333463, 30.29236931, 32.24838229,\n",
       "       30.98143756, 33.91550064, 32.04090511, 31.70915918, 33.82463701,\n",
       "       31.14419986, 32.64280847, 32.94734622, 32.33326739, 32.393221  ])"
      ]
     },
     "execution_count": 56,
     "metadata": {},
     "output_type": "execute_result"
    }
   ],
   "source": [
    "uni_dist"
   ]
  },
  {
   "cell_type": "code",
   "execution_count": 58,
   "metadata": {},
   "outputs": [
    {
     "data": {
      "image/png": "[encoded data removed]",
      "text/plain": [
       "<Figure size 432x288 with 1 Axes>"
      ]
     },
     "metadata": {},
     "output_type": "display_data"
    }
   ],
   "source": [
    "sns.distplot(uni_dist, bins=10,\n",
    "                  kde=True, color='red',\n",
    "                  hist_kws={\"linewidth\": 15,'alpha':0.5})\n",
    "\n",
    "plt.xlabel('Uniform Distribution')\n",
    "plt.ylabel('Frequency')\n",
    "plt.title(\"Plotting a Flat Mountain\")\n",
    "plt.show()"
   ]
  },
  {
   "cell_type": "markdown",
   "metadata": {},
   "source": [
    "## Exponential"
   ]
  },
  {
   "cell_type": "code",
   "execution_count": 59,
   "metadata": {},
   "outputs": [],
   "source": [
    "from scipy.stats import expon"
   ]
  },
  {
   "cell_type": "code",
   "execution_count": null,
   "metadata": {},
   "outputs": [],
   "source": [
    "expon?"
   ]
  },
  {
   "cell_type": "code",
   "execution_count": 61,
   "metadata": {},
   "outputs": [],
   "source": [
    "expo_dist = expon.rvs(loc=0, scale=1, size=1000)"
   ]
  },
  {
   "cell_type": "code",
   "execution_count": 62,
   "metadata": {
    "scrolled": true
   },
   "outputs": [
    {
     "data": {
      "text/plain": [
       "array([3.69409721e+00, 3.27130248e-03, 1.43433842e-01, 1.15004080e+00,\n",
       "       4.54750137e-01, 7.39522027e-01, 1.57449522e-01, 3.93488002e-01,\n",
       "       1.32424083e+00, 1.37945853e-02, 2.98520580e-01, 3.48186591e-01,\n",
       "       1.75840553e+00, 2.03402026e+00, 6.57289830e-01, 1.38045807e+00,\n",
       "       2.51975435e-01, 4.40654384e-01, 1.92713851e-01, 1.75018240e+00,\n",
       "       4.15733695e-01, 1.10142969e-01, 4.43085506e-01, 2.39661404e+00,\n",
       "       5.16573189e-02, 3.62987366e-01, 4.45542422e-01, 3.77518720e-01,\n",
       "       1.30759836e-01, 2.08045171e+00, 1.93180595e+00, 1.14415714e+00,\n",
       "       1.62314556e+00, 6.69742840e-01, 1.79805183e-01, 1.62178848e+00,\n",
       "       2.35629326e+00, 1.70020141e+00, 7.76881552e-01, 4.88415578e-01,\n",
       "       5.09431708e-01, 5.27487016e-01, 2.42270284e+00, 6.31280489e+00,\n",
       "       4.24543852e-01, 3.17072369e-01, 9.33545691e-02, 8.92792361e-01,\n",
       "       1.93217268e-01, 5.54800620e-01, 1.16621372e-01, 3.01369446e+00,\n",
       "       1.29324599e-01, 1.20240176e+00, 9.85874105e-01, 9.47825470e-01,\n",
       "       6.82966856e-01, 2.79551135e+00, 1.79839344e+00, 1.47746493e+00,\n",
       "       2.00963911e-01, 3.03712560e+00, 1.45204683e-01, 5.86894125e-02,\n",
       "       1.78464775e-01, 2.94175273e-02, 4.63472346e-01, 4.51196146e-01,\n",
       "       5.44553752e-01, 7.96323639e-02, 8.63808060e-01, 1.08519655e-01,\n",
       "       2.03789048e-01, 2.38878716e-01, 1.31030274e+00, 4.02292416e-01,\n",
       "       2.21620622e+00, 9.35691326e-01, 7.53955867e-01, 2.12716893e+00,\n",
       "       5.29234894e+00, 1.21025025e-02, 1.25178538e+00, 6.37545149e-01,\n",
       "       3.94581048e-01, 4.11382850e-01, 2.21673845e-01, 4.14959836e-02,\n",
       "       1.11515966e+00, 1.40819090e+00, 9.47661189e-01, 9.97636640e-01,\n",
       "       1.95687511e+00, 6.10308622e-01, 5.43053202e-01, 1.48503655e+00,\n",
       "       7.84057304e-01, 7.84988174e-01, 5.66967434e-01, 1.24175259e+00,\n",
       "       4.12438110e-01, 1.25141953e-01, 2.13780618e-01, 2.34523965e+00,\n",
       "       5.23700404e-02, 5.33714189e-01, 8.49182333e-02, 4.41123001e-01,\n",
       "       1.51024373e-01, 4.61370499e-01, 9.38668646e-01, 7.84872203e-01,\n",
       "       3.92296551e-02, 8.47859291e-01, 7.07030333e-02, 1.07877049e+00,\n",
       "       2.90610847e-01, 3.27592392e-01, 1.29822977e-01, 5.15033151e-01,\n",
       "       1.12312535e+00, 2.04050585e+00, 1.79474669e+00, 1.01960316e+00,\n",
       "       2.99477859e+00, 4.74781488e-01, 2.16712174e-01, 8.60728104e-02,\n",
       "       8.86073102e-01, 1.03272458e+00, 7.25596140e-01, 7.17973793e-01,\n",
       "       4.90575830e-01, 8.89790164e-01, 5.57447806e+00, 6.55152402e-01,\n",
       "       3.62437249e+00, 2.28525960e+00, 3.09148653e-01, 1.49059852e-01,\n",
       "       3.90788895e+00, 3.89851168e+00, 7.40626483e-01, 3.48135263e-02,\n",
       "       4.98318079e-01, 6.12623526e-02, 7.23332830e-02, 3.77643264e-01,\n",
       "       2.21586458e-02, 4.09918070e-01, 1.32882247e+00, 1.64369786e+00,\n",
       "       8.83488873e-01, 4.76340082e-01, 6.68937975e-02, 1.31926117e+00,\n",
       "       8.08908202e-01, 1.56656319e+00, 7.26961800e-01, 1.02186194e+00,\n",
       "       1.46924981e+00, 2.48357493e+00, 1.89039280e+00, 1.93390540e+00,\n",
       "       1.20538741e-02, 4.12853120e-01, 1.75791468e-01, 6.24961845e-01,\n",
       "       1.92009277e+00, 6.23331708e-02, 2.01112881e-01, 1.40569888e+00,\n",
       "       1.85680829e-01, 9.21098018e-02, 2.92567079e-01, 1.56097288e-01,\n",
       "       2.86284299e+00, 3.11159947e-01, 2.65693261e+00, 2.36385356e-01,\n",
       "       2.00678455e+00, 1.35834830e+00, 7.65952558e-01, 1.98414667e+00,\n",
       "       1.19762589e+00, 7.95185979e-01, 1.02294960e+00, 1.21342773e-01,\n",
       "       4.42912512e-01, 1.70461169e+00, 1.90622553e-01, 1.77461883e-01,\n",
       "       2.11541755e-01, 2.20371444e+00, 1.09920030e+00, 1.79963289e+00,\n",
       "       1.08662827e+00, 2.29148882e+00, 7.79132636e-01, 1.66982403e+00,\n",
       "       4.85092893e+00, 3.69160095e+00, 5.15642977e-01, 9.75235968e-02,\n",
       "       2.49784023e+00, 5.94858822e-01, 6.61644144e-01, 3.26325350e-01,\n",
       "       1.33057831e-03, 1.47299320e-01, 2.80697139e+00, 3.50203835e-01,\n",
       "       7.61682222e-01, 1.14805983e-02, 9.41249044e-01, 8.72188912e-02,\n",
       "       2.46084564e+00, 3.71352022e+00, 3.48712358e-01, 9.96297771e-01,\n",
       "       4.93249459e-02, 3.79880638e+00, 1.64632619e+00, 5.23228945e-01,\n",
       "       7.49896480e-01, 4.18506852e-02, 7.72410147e-01, 9.58316267e-01,\n",
       "       1.54869055e+00, 7.18442998e-01, 8.86375477e-01, 2.31948701e+00,\n",
       "       2.55784285e+00, 8.05715891e-01, 6.27902073e-01, 1.15419847e+00,\n",
       "       1.04605185e+00, 7.00068941e-01, 1.05051148e+00, 1.38841560e+00,\n",
       "       2.26920179e-01, 2.05202016e+00, 1.79214492e+00, 1.61070421e-01,\n",
       "       1.05282776e-01, 9.92479250e-01, 5.17652205e-01, 6.63079843e-01,\n",
       "       7.80026813e-01, 4.44569157e+00, 2.18723938e+00, 1.33768081e+00,\n",
       "       1.31005247e+00, 1.43514286e+00, 1.48425690e+00, 1.38630241e+00,\n",
       "       1.03215452e+00, 9.58488816e-01, 8.17065943e-01, 1.88002288e-01,\n",
       "       4.30522227e-01, 1.98382310e+00, 9.45988409e-02, 3.25635163e+00,\n",
       "       8.97680130e-01, 1.91236721e+00, 9.64034902e-01, 2.21193636e-01,\n",
       "       4.82440559e-01, 9.30879593e-01, 3.28275363e-01, 3.93741946e-03,\n",
       "       2.45061682e-02, 1.56419609e+00, 7.02556977e-01, 1.76750153e-03,\n",
       "       1.26327525e+00, 1.01010405e+00, 2.66342035e+00, 7.53353311e-01,\n",
       "       7.81100317e-01, 2.84961270e-01, 8.79009631e-01, 3.88718484e-02,\n",
       "       4.28105199e+00, 1.14897457e+00, 5.91928615e-01, 6.29389285e-01,\n",
       "       4.09298579e-02, 1.15134197e-01, 5.81607901e-01, 3.51836523e-01,\n",
       "       1.34101757e+00, 9.67100964e-01, 4.40288374e-01, 1.36951985e+00,\n",
       "       5.20245724e-01, 1.37867074e+00, 2.08367661e-01, 1.24664910e+00,\n",
       "       1.67991132e+00, 3.23495473e-01, 1.50582417e+00, 2.14418221e-01,\n",
       "       9.17211372e-01, 1.15333945e+00, 1.31651647e+00, 9.51369826e-01,\n",
       "       1.88437451e+00, 6.30144064e-01, 2.85525306e+00, 3.28074594e-01,\n",
       "       1.38961465e+00, 6.08311943e-01, 9.06835092e-01, 2.38610346e-01,\n",
       "       5.81592473e-01, 2.13793077e-01, 7.76720233e-01, 8.96573522e-01,\n",
       "       1.42352747e+00, 2.44393177e-01, 7.73907361e-01, 3.15784648e+00,\n",
       "       1.70384717e-01, 4.00747272e+00, 2.56536744e-01, 1.20952831e+00,\n",
       "       5.84471800e-01, 1.51734498e+00, 1.03716328e-01, 4.07385879e-01,\n",
       "       6.92707525e-01, 2.30237359e+00, 3.86327983e-01, 6.18198643e-01,\n",
       "       1.33972080e+00, 7.34708706e-01, 4.45745763e-01, 8.16741773e-01,\n",
       "       1.40806890e+00, 8.90712587e-01, 1.23832718e+00, 3.96900184e+00,\n",
       "       1.05554542e+00, 3.30326578e-01, 1.96220972e-03, 1.40667528e+00,\n",
       "       2.32347987e+00, 6.26886569e-01, 1.00756886e+00, 7.02511220e-01,\n",
       "       1.14254225e+00, 1.45689575e-01, 2.55343252e+00, 1.09178136e+00,\n",
       "       1.87153182e+00, 9.49527004e-01, 2.71679668e+00, 2.71028989e+00,\n",
       "       3.96500695e-01, 7.21028010e-01, 2.09439524e-01, 1.75574302e+00,\n",
       "       1.32942425e+00, 4.30992525e+00, 8.12958299e-01, 9.11321540e-01,\n",
       "       3.41382259e+00, 4.67803783e-01, 4.00083764e-01, 8.41792877e-01,\n",
       "       2.07437483e+00, 1.84266979e-01, 1.02152458e+00, 4.47381181e-01,\n",
       "       5.58577792e-01, 8.30575751e-01, 1.30595901e+00, 1.17595836e+00,\n",
       "       1.86295048e+00, 1.20002673e+00, 9.28147384e-02, 1.97737555e-01,\n",
       "       3.09449543e-01, 1.39067214e+00, 1.19296093e-01, 5.62889851e-01,\n",
       "       4.01378501e-01, 1.77082738e+00, 3.00686485e-01, 4.70244685e-01,\n",
       "       1.41357549e+00, 1.96504488e+00, 1.59872373e+00, 9.27941683e-01,\n",
       "       3.47184671e+00, 1.55143409e-01, 1.04997669e+00, 3.04237833e-01,\n",
       "       9.37974133e-01, 2.12276041e+00, 1.21965128e+00, 3.06040626e-01,\n",
       "       1.01651146e-01, 6.16111885e-01, 3.74229539e-01, 6.07050934e-01,\n",
       "       1.60479676e+00, 5.95719017e-01, 1.99497942e+00, 6.44108427e-02,\n",
       "       2.62430899e+00, 2.49264598e+00, 1.60630730e-01, 1.06396685e+00,\n",
       "       2.42374290e+00, 8.90205801e-01, 7.65695550e-01, 7.91356546e-01,\n",
       "       1.44578057e-01, 3.77590105e-01, 7.09902036e-01, 2.63302457e+00,\n",
       "       3.14880574e-01, 2.93407364e+00, 6.17327217e+00, 1.93918629e+00,\n",
       "       1.90487520e+00, 1.67920056e-01, 7.96465063e-01, 2.23569823e-01,\n",
       "       4.31538274e+00, 1.59366037e+00, 1.38554790e+00, 1.81857084e+00,\n",
       "       6.05784679e+00, 6.63846108e-01, 8.58706915e-02, 1.36166706e+00,\n",
       "       3.00380549e-01, 1.37390753e+00, 8.53056500e-01, 1.20086985e+00,\n",
       "       7.99833259e-01, 1.01533039e+00, 1.68959257e+00, 6.85012335e-01,\n",
       "       4.93060377e-01, 1.14686764e+00, 7.49111874e-01, 1.30616510e+00,\n",
       "       4.44628071e-01, 9.32079540e-03, 2.04675984e+00, 6.46232427e-01,\n",
       "       2.37118013e-01, 1.12041286e+00, 6.41604174e-01, 1.41027217e-01,\n",
       "       2.14697168e+00, 7.33043837e-01, 6.14953475e-01, 1.98971551e-01,\n",
       "       6.62518789e-01, 3.38765735e+00, 1.61596721e+00, 2.58061724e+00,\n",
       "       5.05941092e-01, 1.48701481e+00, 1.32730100e+00, 5.43809306e-01,\n",
       "       3.23503411e+00, 1.42036119e+00, 8.95188165e-01, 8.42788246e-01,\n",
       "       8.60630498e-01, 2.56051272e-02, 8.92603019e-01, 2.76804272e-01,\n",
       "       1.92136803e+00, 2.98005131e-01, 3.18501955e+00, 1.26657604e+00,\n",
       "       9.16839270e-01, 1.95465480e-01, 4.77944493e+00, 2.82226954e-01,\n",
       "       1.39384259e-01, 8.74071734e-01, 4.14494178e-01, 8.62585486e-02,\n",
       "       6.10442133e-01, 1.58375956e+00, 3.49460098e-02, 3.35340784e-01,\n",
       "       1.06225984e+00, 2.28898023e+00, 5.28543859e-01, 1.96919188e-01,\n",
       "       9.27498139e-01, 1.69525268e+00, 1.43160886e+00, 7.28803032e-01,\n",
       "       5.50992508e-01, 2.92723553e-01, 1.72380120e+00, 5.35477887e-02,\n",
       "       2.21084942e+00, 2.69972298e-01, 4.34123882e-01, 1.49568965e+00,\n",
       "       4.17538900e+00, 2.31318942e+00, 8.71094994e-02, 7.15192772e-01,\n",
       "       1.15051853e+00, 1.23848974e+00, 6.12665731e-01, 5.60587671e-02,\n",
       "       6.84162279e-02, 4.67917904e-01, 1.17694470e+00, 1.53491282e+00,\n",
       "       1.65445081e+00, 1.98498931e+00, 3.70651658e-01, 1.12978393e-01,\n",
       "       1.33479781e-02, 3.13559723e-01, 1.14911368e+00, 2.10063123e+00,\n",
       "       5.06734450e-01, 1.08737871e+00, 2.30661545e-01, 7.22888268e-01,\n",
       "       3.91295649e+00, 2.42736119e+00, 4.98920276e-01, 9.45829098e-01,\n",
       "       1.06091177e+00, 1.47072814e+00, 2.39601213e+00, 1.24886950e+00,\n",
       "       2.20479849e+00, 6.27798976e-01, 1.10209050e+00, 2.76175217e-01,\n",
       "       1.13627041e+00, 1.36003717e+00, 1.22593757e+00, 2.71677019e-01,\n",
       "       2.33467055e-01, 2.23233243e+00, 1.58115531e-01, 1.12827877e+00,\n",
       "       2.01098450e-01, 1.33926684e-01, 2.71072779e-01, 1.83596936e-01,\n",
       "       3.36688427e-01, 7.35157034e-01, 1.33834170e+00, 6.85012386e-01,\n",
       "       3.01723867e-02, 5.40074286e-02, 3.20735665e-01, 7.69374379e-01,\n",
       "       2.61355393e+00, 1.56989615e-01, 5.53658843e-01, 1.36994584e+00,\n",
       "       7.63547061e-01, 2.58361562e+00, 9.08295456e-01, 6.41241428e-02,\n",
       "       1.14454813e-01, 1.52790862e-01, 9.66864568e-01, 3.64265609e+00,\n",
       "       9.45740362e-01, 1.49064856e-01, 4.49856763e-01, 6.53895162e-01,\n",
       "       4.41809897e+00, 2.49507847e+00, 1.33872272e+00, 1.03996410e+00,\n",
       "       3.06215067e-01, 2.31291950e-01, 3.31871132e-01, 5.59790121e-01,\n",
       "       2.30476632e-01, 5.54744006e-01, 4.05676908e-01, 2.51033206e+00,\n",
       "       4.49771188e-01, 5.76387680e-01, 4.61558934e-01, 2.65215278e+00,\n",
       "       2.66802499e-01, 1.74221669e+00, 8.68656273e-01, 2.32746194e+00,\n",
       "       4.03786356e-01, 9.97185622e-01, 3.10949311e+00, 1.50324191e+00,\n",
       "       4.25147620e-01, 4.75626712e-01, 3.20179213e-01, 1.49391791e-01,\n",
       "       5.65090851e-02, 8.86727987e-01, 4.81578896e-01, 8.11993710e-01,\n",
       "       1.08100800e+00, 2.55476171e-01, 1.35878446e-01, 3.16295348e-01,\n",
       "       7.71376699e-01, 1.58998561e-01, 4.10662655e-01, 7.64641020e-01,\n",
       "       1.05558673e+00, 2.04252807e-01, 2.14091945e-01, 7.45196199e-01,\n",
       "       7.24131316e-03, 1.31343819e-02, 4.89586221e-01, 1.30066662e+00,\n",
       "       2.13440994e+00, 1.43015410e+00, 4.08329991e+00, 1.00850958e+00,\n",
       "       8.45218857e-01, 2.33741285e+00, 1.23039833e-01, 2.10415824e-01,\n",
       "       3.58146130e-01, 5.80586327e-01, 1.52997394e+00, 5.63945132e-01,\n",
       "       1.09042391e+00, 7.40583319e-01, 4.25779985e-01, 6.05251085e-01,\n",
       "       9.46922782e-01, 7.17257167e-01, 2.16328231e-01, 1.22484343e+00,\n",
       "       7.85328717e+00, 7.44670486e-01, 2.69456005e+00, 1.17400248e+00,\n",
       "       2.13649904e+00, 2.61572049e-02, 7.88235547e-01, 4.64839251e+00,\n",
       "       1.98914019e+00, 7.24948265e-02, 1.19330154e+00, 1.01689772e+00,\n",
       "       2.62874990e-01, 7.31411714e-01, 2.65972917e+00, 1.88153514e+00,\n",
       "       1.17448946e-01, 1.92328508e+00, 9.20638271e-01, 1.51948428e-01,\n",
       "       7.18739431e-01, 6.19404928e-01, 3.37987828e-01, 9.21402793e+00,\n",
       "       8.27944399e-01, 3.34697912e-01, 1.20243498e+00, 2.54226048e+00,\n",
       "       8.00610794e-01, 7.31889398e-01, 6.12908706e-01, 1.16505892e-01,\n",
       "       1.18867134e+00, 1.03673568e+00, 1.32875399e-01, 2.16116369e-01,\n",
       "       1.22497006e+00, 2.34833191e-01, 1.68884793e-01, 1.04165365e+00,\n",
       "       2.21697949e+00, 1.26318548e-01, 6.58576440e-01, 8.35357946e-01,\n",
       "       3.72888741e-01, 2.22660803e-01, 5.12264479e-01, 6.76756143e-01,\n",
       "       1.49640317e+00, 1.11670031e+00, 5.07343738e-01, 3.14123322e-01,\n",
       "       2.66715252e-01, 2.73489728e+00, 3.51990991e-01, 3.65311446e-02,\n",
       "       8.09463261e-01, 4.70950512e-03, 4.99757995e-01, 7.66732092e-01,\n",
       "       7.71304293e-01, 1.45559795e-01, 2.27742017e+00, 3.96271193e-01,\n",
       "       1.52002198e+00, 8.56356931e-01, 2.77848249e-02, 1.14019739e+00,\n",
       "       1.86206599e-01, 1.21647519e-01, 6.93466583e-01, 3.28123047e+00,\n",
       "       8.73044896e-02, 3.14643638e+00, 2.93551376e-02, 2.18597452e-01,\n",
       "       9.50132170e-01, 1.40924588e+00, 2.63619766e+00, 5.84625455e-03,\n",
       "       4.56041501e-01, 6.75149279e-01, 9.94382940e-01, 1.45066026e+00,\n",
       "       5.98493179e-02, 2.16515452e-01, 2.41198794e-01, 2.83542135e-01,\n",
       "       1.71603009e-01, 1.16738250e+00, 1.37129818e+00, 1.06022916e+00,\n",
       "       3.95059571e-01, 3.62669191e-01, 1.14620960e+00, 2.33526945e-01,\n",
       "       1.18490149e-01, 1.16243591e-01, 5.41752377e-01, 9.63121525e-01,\n",
       "       1.52746943e+00, 5.41585813e-01, 2.50596634e+00, 6.15870367e-01,\n",
       "       1.10688192e+00, 8.55575066e-01, 1.74313201e+00, 1.05737780e+00,\n",
       "       1.84997231e+00, 1.40655083e-01, 2.12714007e+00, 2.10455499e+00,\n",
       "       5.93149933e-01, 2.73276256e+00, 4.28317225e-01, 7.65432294e-01,\n",
       "       1.69718842e-02, 4.11444016e-01, 2.67919932e-01, 1.05012693e+00,\n",
       "       4.90362156e-01, 1.94909372e+00, 8.07157059e-01, 1.25034010e+00,\n",
       "       2.96579809e+00, 5.76668025e-01, 1.25151371e-01, 1.04300820e-01,\n",
       "       3.54287347e-01, 2.69806856e-01, 1.41233509e+00, 8.18151264e-02,\n",
       "       6.62180795e-01, 8.70395306e-02, 7.83790643e-01, 5.77013268e-01,\n",
       "       1.14842302e+00, 1.86075859e+00, 9.06194371e-01, 1.91241752e+00,\n",
       "       2.88050064e+00, 4.47610545e-02, 1.75413408e+00, 1.81246469e-01,\n",
       "       8.56022499e-01, 9.47966598e-02, 3.25893203e-01, 2.58422399e+00,\n",
       "       2.32955152e+00, 3.11720339e+00, 1.37041900e-01, 3.83194948e-01,\n",
       "       4.10167634e-02, 4.53092095e-01, 6.24178160e-01, 1.88287336e+00,\n",
       "       1.41901863e-01, 1.54343335e-01, 5.72413453e+00, 1.10290659e+00,\n",
       "       1.25942882e+00, 1.34028673e-02, 1.14371457e+00, 1.64187915e+00,\n",
       "       4.01456872e-02, 2.99231386e+00, 1.38366840e+00, 3.90055257e-01,\n",
       "       1.24069245e+00, 1.45817141e-01, 7.49178238e+00, 2.49642719e+00,\n",
       "       2.11013534e+00, 1.25686399e+00, 1.83778187e+00, 2.89652201e+00,\n",
       "       4.42518638e-01, 5.08920752e-02, 2.87586851e-01, 2.57373385e+00,\n",
       "       1.07663441e+00, 6.34132047e-01, 1.92232811e-01, 7.75786695e-01,\n",
       "       1.47862526e+00, 1.74761514e+00, 3.14870677e+00, 5.34647777e+00,\n",
       "       3.42118708e-01, 1.58753225e+00, 2.24818741e+00, 6.00554002e-01,\n",
       "       2.59876011e-02, 4.42139609e-01, 4.74446443e+00, 1.86695507e+00,\n",
       "       6.97353139e-01, 1.43382049e+00, 1.95305625e+00, 1.11378282e+00,\n",
       "       8.13819698e-01, 1.91211925e+00, 1.21844782e+00, 8.50717196e-01,\n",
       "       2.88007899e-01, 1.17915136e+00, 1.35722255e+00, 8.37068528e-01,\n",
       "       2.29438271e-01, 6.23513349e-01, 9.30347673e-01, 8.41191667e-01,\n",
       "       1.55175220e-01, 4.67110753e-02, 1.95115600e+00, 7.28281778e-01,\n",
       "       3.65810010e-01, 6.80009834e-01, 7.01658816e-01, 1.39654850e+00,\n",
       "       8.11709740e-01, 2.14934443e+00, 1.15535578e+00, 3.06955798e-02,\n",
       "       7.20938009e-01, 1.92977182e+00, 2.67505870e-02, 1.97870036e-01,\n",
       "       1.39365288e-01, 1.13451302e-01, 3.96410816e-01, 1.00477572e+00,\n",
       "       1.37089091e+00, 2.27167065e-01, 5.70719287e-01, 1.34198931e+00,\n",
       "       2.07978711e+00, 2.11221723e+00, 4.04944966e-01, 1.53918492e+00,\n",
       "       1.05096849e+00, 8.64454340e-01, 4.22596666e-01, 3.01355373e+00,\n",
       "       3.63213340e-01, 9.61543603e-01, 2.75450371e-02, 2.65640250e-01,\n",
       "       1.47449113e+00, 2.95463197e+00, 2.08929289e-01, 4.35990500e-01,\n",
       "       2.42071870e+00, 1.48377945e+00, 1.62532751e+00, 2.08998461e-01,\n",
       "       6.69627383e-01, 2.83905824e-01, 1.29050754e+00, 2.65146710e+00,\n",
       "       8.18147229e-01, 2.35462568e+00, 5.56939426e-02, 1.51238316e+00,\n",
       "       2.46107066e+00, 1.35460001e+00, 1.15872368e+00, 1.19990117e+00,\n",
       "       4.11169027e-01, 3.27212902e-01, 2.26561480e-01, 2.48221998e-01,\n",
       "       2.84505419e+00, 1.10905931e+00, 8.07040165e-03, 6.26418109e-01,\n",
       "       1.59900195e+00, 1.02349454e+00, 1.74931287e-01, 4.07821775e-01,\n",
       "       7.87133700e-01, 2.46050262e-01, 1.31359306e-01, 5.55915189e-01,\n",
       "       1.69552119e+00, 2.46560943e+00, 2.22543446e+00, 5.91906874e-01,\n",
       "       6.96610677e-01, 3.81926740e+00, 6.68568791e-01, 4.02143817e+00,\n",
       "       1.37303871e+00, 1.75276167e+00, 3.34995987e-01, 1.17533152e+00,\n",
       "       1.70777922e+00, 5.23908915e-01, 1.25969359e+00, 1.11023618e-01,\n",
       "       7.10589093e-01, 6.94248284e-01, 4.48951910e-01, 4.97826168e-01,\n",
       "       2.11961831e-01, 1.02041636e+00, 2.42075806e-01, 5.77735048e-02,\n",
       "       1.51681273e+00, 1.50048453e+00, 1.08538228e+00, 7.03034001e-01,\n",
       "       4.94934945e-01, 1.12620169e+00, 1.00673729e+00, 2.54638808e-01,\n",
       "       2.04103669e-01, 7.79012766e-01, 3.08555034e-01, 1.30225608e+00,\n",
       "       6.53402453e-01, 4.48344309e-01, 2.09868978e+00, 6.35546474e-01,\n",
       "       2.23834344e+00, 1.37671771e+00, 2.18747263e+00, 6.85403227e-03,\n",
       "       1.29297568e-01, 5.84540591e-01, 1.55530435e+00, 2.47099356e+00,\n",
       "       5.79514187e-01, 8.03237500e-01, 2.63721082e+00, 9.71700088e-01,\n",
       "       8.07348094e-01, 5.32862962e-02, 3.92010179e-01, 9.14511537e-02,\n",
       "       1.16869394e-01, 6.63264506e-01, 1.08526215e+00, 4.61329946e-01,\n",
       "       1.73236417e-01, 1.60073777e+00, 1.94365686e-01, 5.10754502e-01])"
      ]
     },
     "execution_count": 62,
     "metadata": {},
     "output_type": "execute_result"
    }
   ],
   "source": [
    "expo_dist"
   ]
  },
  {
   "cell_type": "code",
   "execution_count": 63,
   "metadata": {},
   "outputs": [
    {
     "data": {
      "text/plain": [
       "Text(0.5, 1.0, 'Expo Func')"
      ]
     },
     "execution_count": 63,
     "metadata": {},
     "output_type": "execute_result"
    },
    {
     "data": {
      "image/png": "[encoded data removed]",
      "text/plain": [
       "<Figure size 432x288 with 1 Axes>"
      ]
     },
     "metadata": {},
     "output_type": "display_data"
    }
   ],
   "source": [
    "sns.distplot(expo_dist, kde=False, bins=100, color='skyblue',\n",
    "                  hist_kws={\"linewidth\": 15,'alpha':0.5})\n",
    "\n",
    "plt.xlabel('Exponential Distribution')\n",
    "plt.ylabel('Frequency')\n",
    "plt.title(\"Expo Func\")"
   ]
  },
  {
   "cell_type": "code",
   "execution_count": 64,
   "metadata": {},
   "outputs": [
    {
     "data": {
      "image/png": "[encoded data removed]",
      "text/plain": [
       "<Figure size 432x288 with 1 Axes>"
      ]
     },
     "metadata": {},
     "output_type": "display_data"
    }
   ],
   "source": [
    "arr1 = np.linspace(25, 30, 100)\n",
    "exp = np.exp(arr1)\n",
    "plt.plot(arr1, exp)\n",
    "plt.title(\"Very Expo\")\n",
    "plt.show()"
   ]
  },
  {
   "cell_type": "markdown",
   "metadata": {},
   "source": [
    "## Poisson"
   ]
  },
  {
   "cell_type": "code",
   "execution_count": 65,
   "metadata": {},
   "outputs": [],
   "source": [
    "from scipy.stats import poisson"
   ]
  },
  {
   "cell_type": "code",
   "execution_count": 66,
   "metadata": {
    "scrolled": true
   },
   "outputs": [
    {
     "data": {
      "text/plain": [
       "\u001b[1;31mSignature:\u001b[0m       \u001b[0mpoisson\u001b[0m\u001b[1;33m(\u001b[0m\u001b[1;33m*\u001b[0m\u001b[0margs\u001b[0m\u001b[1;33m,\u001b[0m \u001b[1;33m**\u001b[0m\u001b[0mkwds\u001b[0m\u001b[1;33m)\u001b[0m\u001b[1;33m\u001b[0m\u001b[1;33m\u001b[0m\u001b[0m\n",
       "\u001b[1;31mType:\u001b[0m            poisson_gen\n",
       "\u001b[1;31mString form:\u001b[0m     <scipy.stats._discrete_distns.poisson_gen object at 0x0000022BE29263A0>\n",
       "\u001b[1;31mFile:\u001b[0m            c:\\python38\\lib\\site-packages\\scipy\\stats\\_discrete_distns.py\n",
       "\u001b[1;31mDocstring:\u001b[0m      \n",
       "A Poisson discrete random variable.\n",
       "\n",
       "As an instance of the `rv_discrete` class, `poisson` object inherits from it\n",
       "a collection of generic methods (see below for the full list),\n",
       "and completes them with details specific for this particular distribution.\n",
       "\n",
       "Methods\n",
       "-------\n",
       "rvs(mu, loc=0, size=1, random_state=None)\n",
       "    Random variates.\n",
       "pmf(k, mu, loc=0)\n",
       "    Probability mass function.\n",
       "logpmf(k, mu, loc=0)\n",
       "    Log of the probability mass function.\n",
       "cdf(k, mu, loc=0)\n",
       "    Cumulative distribution function.\n",
       "logcdf(k, mu, loc=0)\n",
       "    Log of the cumulative distribution function.\n",
       "sf(k, mu, loc=0)\n",
       "    Survival function  (also defined as ``1 - cdf``, but `sf` is sometimes more accurate).\n",
       "logsf(k, mu, loc=0)\n",
       "    Log of the survival function.\n",
       "ppf(q, mu, loc=0)\n",
       "    Percent point function (inverse of ``cdf`` --- percentiles).\n",
       "isf(q, mu, loc=0)\n",
       "    Inverse survival function (inverse of ``sf``).\n",
       "stats(mu, loc=0, moments='mv')\n",
       "    Mean('m'), variance('v'), skew('s'), and/or kurtosis('k').\n",
       "entropy(mu, loc=0)\n",
       "    (Differential) entropy of the RV.\n",
       "expect(func, args=(mu,), loc=0, lb=None, ub=None, conditional=False)\n",
       "    Expected value of a function (of one argument) with respect to the distribution.\n",
       "median(mu, loc=0)\n",
       "    Median of the distribution.\n",
       "mean(mu, loc=0)\n",
       "    Mean of the distribution.\n",
       "var(mu, loc=0)\n",
       "    Variance of the distribution.\n",
       "std(mu, loc=0)\n",
       "    Standard deviation of the distribution.\n",
       "interval(alpha, mu, loc=0)\n",
       "    Endpoints of the range that contains alpha percent of the distribution\n",
       "\n",
       "Notes\n",
       "-----\n",
       "The probability mass function for `poisson` is:\n",
       "\n",
       ".. math::\n",
       "\n",
       "    f(k) = \\exp(-\\mu) \\frac{\\mu^k}{k!}\n",
       "\n",
       "for :math:`k \\ge 0`.\n",
       "\n",
       "`poisson` takes :math:`\\mu` as shape parameter.\n",
       "\n",
       "The probability mass function above is defined in the \"standardized\" form.\n",
       "To shift distribution use the ``loc`` parameter.\n",
       "Specifically, ``poisson.pmf(k, mu, loc)`` is identically\n",
       "equivalent to ``poisson.pmf(k - loc, mu)``.\n",
       "\n",
       "Examples\n",
       "--------\n",
       ">>> from scipy.stats import poisson\n",
       ">>> import matplotlib.pyplot as plt\n",
       ">>> fig, ax = plt.subplots(1, 1)\n",
       "\n",
       "Calculate a few first moments:\n",
       "\n",
       ">>> mu = 0.6\n",
       ">>> mean, var, skew, kurt = poisson.stats(mu, moments='mvsk')\n",
       "\n",
       "Display the probability mass function (``pmf``):\n",
       "\n",
       ">>> x = np.arange(poisson.ppf(0.01, mu),\n",
       "...               poisson.ppf(0.99, mu))\n",
       ">>> ax.plot(x, poisson.pmf(x, mu), 'bo', ms=8, label='poisson pmf')\n",
       ">>> ax.vlines(x, 0, poisson.pmf(x, mu), colors='b', lw=5, alpha=0.5)\n",
       "\n",
       "Alternatively, the distribution object can be called (as a function)\n",
       "to fix the shape and location. This returns a \"frozen\" RV object holding\n",
       "the given parameters fixed.\n",
       "\n",
       "Freeze the distribution and display the frozen ``pmf``:\n",
       "\n",
       ">>> rv = poisson(mu)\n",
       ">>> ax.vlines(x, 0, rv.pmf(x), colors='k', linestyles='-', lw=1,\n",
       "...         label='frozen pmf')\n",
       ">>> ax.legend(loc='best', frameon=False)\n",
       ">>> plt.show()\n",
       "\n",
       "Check accuracy of ``cdf`` and ``ppf``:\n",
       "\n",
       ">>> prob = poisson.cdf(x, mu)\n",
       ">>> np.allclose(x, poisson.ppf(prob, mu))\n",
       "True\n",
       "\n",
       "Generate random numbers:\n",
       "\n",
       ">>> r = poisson.rvs(mu, size=1000)\n",
       "\u001b[1;31mClass docstring:\u001b[0m\n",
       "A Poisson discrete random variable.\n",
       "\n",
       "%(before_notes)s\n",
       "\n",
       "Notes\n",
       "-----\n",
       "The probability mass function for `poisson` is:\n",
       "\n",
       ".. math::\n",
       "\n",
       "    f(k) = \\exp(-\\mu) \\frac{\\mu^k}{k!}\n",
       "\n",
       "for :math:`k \\ge 0`.\n",
       "\n",
       "`poisson` takes :math:`\\mu` as shape parameter.\n",
       "\n",
       "%(after_notes)s\n",
       "\n",
       "%(example)s\n",
       "\u001b[1;31mCall docstring:\u001b[0m \n",
       "Freeze the distribution for the given arguments.\n",
       "\n",
       "Parameters\n",
       "----------\n",
       "arg1, arg2, arg3,... : array_like\n",
       "    The shape parameter(s) for the distribution.  Should include all\n",
       "    the non-optional arguments, may include ``loc`` and ``scale``.\n",
       "\n",
       "Returns\n",
       "-------\n",
       "rv_frozen : rv_frozen instance\n",
       "    The frozen distribution.\n"
      ]
     },
     "metadata": {},
     "output_type": "display_data"
    }
   ],
   "source": [
    "poisson?"
   ]
  },
  {
   "cell_type": "code",
   "execution_count": 67,
   "metadata": {},
   "outputs": [],
   "source": [
    "poisson_dist = poisson.rvs(mu=3, size=10000)"
   ]
  },
  {
   "cell_type": "code",
   "execution_count": 68,
   "metadata": {},
   "outputs": [
    {
     "data": {
      "text/plain": [
       "array([6, 5, 7, ..., 2, 4, 9])"
      ]
     },
     "execution_count": 68,
     "metadata": {},
     "output_type": "execute_result"
    }
   ],
   "source": [
    "poisson_dist"
   ]
  },
  {
   "cell_type": "code",
   "execution_count": 69,
   "metadata": {},
   "outputs": [
    {
     "data": {
      "text/plain": [
       "Text(0.5, 1.0, 'Poisson')"
      ]
     },
     "execution_count": 69,
     "metadata": {},
     "output_type": "execute_result"
    },
    {
     "data": {
      "image/png": "[encoded data removed]",
      "text/plain": [
       "<Figure size 432x288 with 1 Axes>"
      ]
     },
     "metadata": {},
     "output_type": "display_data"
    }
   ],
   "source": [
    "sns.distplot(poisson_dist, bins=30, kde=False,\n",
    "             color='green', hist_kws={\"linewidth\": 15,'alpha':0.4})\n",
    "\n",
    "plt.xlabel('Poisson Distribution')\n",
    "plt.ylabel('Frequency')\n",
    "plt.title(\"Poisson\")"
   ]
  },
  {
   "cell_type": "markdown",
   "metadata": {},
   "source": [
    "## Sigmoid"
   ]
  },
  {
   "cell_type": "code",
   "execution_count": 71,
   "metadata": {},
   "outputs": [
    {
     "data": {
      "image/png": "[encoded data removed]",
      "text/plain": [
       "<Figure size 432x288 with 1 Axes>"
      ]
     },
     "metadata": {},
     "output_type": "display_data"
    }
   ],
   "source": [
    "x = np.linspace(-10, 10, 100) \n",
    "z = 1/(1 + np.exp(-x)) \n",
    "  \n",
    "plt.plot(x, z) \n",
    "plt.xlabel(\"x\") \n",
    "plt.ylabel(\"Sigmoid(X)\") \n",
    "  \n",
    "plt.show() "
   ]
  },
  {
   "cell_type": "markdown",
   "metadata": {},
   "source": [
    "# 5. Hypothesis Testing"
   ]
  },
  {
   "cell_type": "markdown",
   "metadata": {},
   "source": [
    "<img src=\"https://imgs.xkcd.com/comics/null_hypothesis.png\" alt=\"null h\" width=\"300\"/>  \n",
    "**Source:** https://xkcd.com/892/\n",
    "\n",
    "As data analysts, we will often want to test a variety of questions with our data to improve and enhance the decision-making process of our organisations. We will also want to know whether these questions hold true against the evience we currently have, and to do this, we turn to the inferential side of statistics to compare a variety of methods suitable for different data types.\n",
    "\n",
    "Since we assume the data we have comes from some type of real distribution in the actual population, hence, when we answer a hypothesis test we are doing so in terms of the whole population and not the sample from which the data was taken. Because of the large space of questions we can asks for different data, we will have different flavors of hypotheses **tests** to choose from. Before we move on, let's define what a hypothesis is in a general way.\n",
    "\n",
    "> \"A hypothesis is a question, premise, claim or idea that we want to test using data\"\n",
    "\n",
    "The most basic elements of a hypothesis are\n",
    "- $H_{0}$ --> (pronounced H of not) is the Null Hypothesis or **the idea that we want to disprove.** You can also think of this as the status quo or what has already been accepted by the majority but not proven false yet.\n",
    "- $H_{A}$ --> (pronounced H of A) is the alternative hypothesis we want to test and hopefully prove right. It is also called the research hypothesis.\n",
    "- Statistical significance --> the measure or place where we draw the line to be able to say that our results are strong enough to disprove what is currently accepted.\n",
    "- Reject $H_{0}$ --> this is the result we get when we do find evidence against the status quo or accepted view or idea.\n",
    "- Fail to reject $H_{0}$ --> this is the result we get when we are unable to disproved the accepted idea.\n",
    "- Level of Confidence --> usually set to 95%. Is our degree of confidence in our decision. For example, if we are rejecting a null hypothesis we could say, \"I am 95% confident that rejecting the null hypothesis is a valid conclusion.\n",
    "- $\\alpha$ --> Is the level of significance of our decision. This is calculated by subtracting 95% from 1 (e.g. $\\alpha = 1 - 95%$ and it is the explicit threshold by which the probability we get from our result needs to be for us to make our decision. For example, the probability estimate generated from our hypothesis test has to be below 0.05 for it to be meaningful to us.\n",
    "- $p-value$ --> Is the probability or result we get from a hypothesis test. It allows to prove or dispruve our assumptions. The way we use p-values is by comparing this result with our level of significance $\\alpha$. In other words\n",
    "    - If $p-value > \\alpha$ we **fail to reject** the Null Hypothesis\n",
    "    - If $p-value < \\alpha$ we **reject** the Null Hypothesis. Another way of wording this: There is a 5% chance that two identical distributions would have produce the results we are observing.  \n",
    "Formal definition of the p-value\n",
    "> Probability of obtaining a sample more extreme than the ones observed in your data, assuming that the Null Hypothesis is true.\n",
    "\n",
    "Think about the last two elements above in terms of the guinness world records, until someone comes and beats a record in that book, we cannot disprove him/her/they/them as the true record holder. The case is the same for hypothesis testing.\n",
    "\n",
    "Notice from the above statements that we can infer that no hypothesis is ever fully true just not proven false until something better comes up. Always keep this in ming as you move along your data analytics journey. Also, since in order test a hypothesis we will need past data, questions that lack data will have no foundation to be tested on. For example\n",
    "\n",
    "- Do eagles fly faster than armadillos? Until armadillos can fly and we gather data about how they do, this will remain an untestable hypothesis.\n",
    "- Will robots take over the world? No data exists on this. There are a lot of fun science fiction movies though.\n",
    "- Will aliens invade us 10 years? ...\n",
    "\n",
    "The steps for hypothesis testing roughly follow the structure below.\n",
    "1. What kind of data do we have: Categorical or Quantitative?\n",
    "2. How many samples am I comparing?\n",
    "3. We then need to formulate our question. \n",
    "    - Is the average price of all Airbnb listings in Melbourne truly 124.7?\n",
    "        - $H_{0}:\\mu_{0} = 124.7$ \n",
    "        - $H_{A}:\\mu_{0} \\neq 124.7$\n",
    "        - The two hypotheses above can be thought of as mathematical opposite questions.\n",
    "4. Which test do we need to use in order to test our hypothesis?\n",
    "5. Test your hypothesis with your chosen test.\n",
    "6. Use that information to make your decisions.\n",
    "\n",
    "### Sides of a hypothesis\n",
    "\n",
    "<img src=\"https://miro.medium.com/max/862/1*VXxdieFiYCgR6v7nUaq01g.jpeg\" alt=\"h-sides\" width=\"700\"/> \n",
    "\n",
    "\n",
    "### Testing options given your data\n",
    "\n",
    "| Comparison | Data you have | Test Available |\n",
    "|-----|---------|----|\n",
    "| 1 Sample vs Known Population | categorical | Binomial Test |\n",
    "| 1 Sample vs Known Population | numerical | 1 Sample t-test |\n",
    "| 2 Samples | categorical | Chi-Square |\n",
    "| 2 Samples | numerical | 2 Sample t-test |\n",
    "| More than 2 | categorical | Chi-Square |\n",
    "| More than 2 | numerical | ANOVA and/or Tukey |\n",
    "\n",
    "\n",
    "Another way of reframing hypothesis testing is by asking\n",
    "\n",
    "> What is the probability that the difference I am observing is due to chance?\n",
    "\n",
    "Lastly, remember that the goal of hypothesis testing is to disprove the Null Hypothesis.\n",
    "\n",
    "We will now state a variety of hypotheses, test them using their appropriate method, and explain that method in detail as we go along."
   ]
  },
  {
   "cell_type": "markdown",
   "metadata": {},
   "source": [
    "Our first question\n",
    "\n",
    "## Example 1\n",
    "\n",
    "Imagine we know that the average price per stay for the last five years in all of Melbourne's Airbnb listings was 124/night. Then, the next year we get new data and the average price goes to 123, and the next it goes to 122, then 121, and on it goes. Given this information, we would start loosing confidence that true value, say 124.7, is not the true average but a value due to chance. To test this, we would use a 1 Sample t-test.\n",
    "\n",
    "> The One Sample t Test determines whether the sample mean is statistically different from a known or hypothesized population mean.\n",
    "\n",
    "Here is how we would go about testing our hypothesis in python with the data we actually have.\n",
    "\n",
    "It is good practice to always state your questions before proceeding to code the test, and also to visualise the distribution of the variable.\n",
    "\n",
    "- $H_{0}:\\mu_{0} = 124.7$\n",
    "- $H_{A}:\\mu_{0} \\neq 124.7$"
   ]
  },
  {
   "cell_type": "code",
   "execution_count": 72,
   "metadata": {},
   "outputs": [
    {
     "data": {
      "text/plain": [
       "124.73149584740348"
      ]
     },
     "execution_count": 72,
     "metadata": {},
     "output_type": "execute_result"
    }
   ],
   "source": [
    "df['price'].mean()"
   ]
  },
  {
   "cell_type": "code",
   "execution_count": 73,
   "metadata": {},
   "outputs": [
    {
     "data": {
      "image/png": "[encoded data removed]",
      "text/plain": [
       "<Figure size 432x288 with 1 Axes>"
      ]
     },
     "metadata": {},
     "output_type": "display_data"
    }
   ],
   "source": [
    "df['price'].plot(kind='hist', bins=75)\n",
    "plt.show()"
   ]
  },
  {
   "cell_type": "code",
   "execution_count": 74,
   "metadata": {},
   "outputs": [],
   "source": [
    "from scipy.stats import ttest_1samp"
   ]
  },
  {
   "cell_type": "code",
   "execution_count": 78,
   "metadata": {},
   "outputs": [
    {
     "name": "stdout",
     "output_type": "stream",
     "text": [
      "21914\n",
      "36\n"
     ]
    }
   ],
   "source": [
    "rows, cols = df.shape\n",
    "print(rows)\n",
    "print(cols)"
   ]
  },
  {
   "cell_type": "code",
   "execution_count": 81,
   "metadata": {},
   "outputs": [
    {
     "name": "stdout",
     "output_type": "stream",
     "text": [
      "Our P-values is 0.0111\n",
      "We Reject the Null Hypothesis!\n"
     ]
    }
   ],
   "source": [
    "# the first argument is our array\n",
    "# the second is our hypothesised population mean\n",
    "\n",
    "tstat, pval = ttest_1samp(a=df['price'], popmean=126)\n",
    "\n",
    "print(\"Our P-values is %.4f\" % pval)\n",
    "\n",
    "if pval > 0.05:\n",
    "    print('We Fail to Reject the Null Hypothesis!')\n",
    "else:\n",
    "    print('We Reject the Null Hypothesis!')"
   ]
  },
  {
   "cell_type": "markdown",
   "metadata": {},
   "source": [
    "The 1 sample t-test allows us to test whether the distribution of a variable is significantly different than our chosen mean. In our case, a value of 123 gives us enough confidence to say that the average mean is not a conclusive figure and thus, we can reject the Null Hypothesis.\n",
    "\n",
    "**Note:** If we don't select a confidence level, the default will be `0.05`."
   ]
  },
  {
   "cell_type": "code",
   "execution_count": 83,
   "metadata": {},
   "outputs": [
    {
     "data": {
      "text/plain": [
       "array([122.        , 122.42857143, 122.85714286, 123.28571429,\n",
       "       123.71428571, 124.14285714, 124.57142857, 125.        ,\n",
       "       125.42857143, 125.85714286, 126.28571429, 126.71428571,\n",
       "       127.14285714, 127.57142857, 128.        ])"
      ]
     },
     "execution_count": 83,
     "metadata": {},
     "output_type": "execute_result"
    }
   ],
   "source": [
    "some_hypotheses = np.linspace(122, 128, 15)\n",
    "some_hypotheses"
   ]
  },
  {
   "cell_type": "code",
   "execution_count": 85,
   "metadata": {},
   "outputs": [
    {
     "name": "stdout",
     "output_type": "stream",
     "text": [
      "4.560423614726081e-08\n",
      "4.0222284829616585e-06\n",
      "0.00017502445352297172\n",
      "0.003794737535172206\n",
      "0.041674786950926336\n",
      "0.23853179891330503\n",
      "0.7485768670267974\n",
      "0.5908202476082962\n",
      "0.16277928766295233\n",
      "0.02420550394586958\n",
      "0.001859474091146132\n",
      "7.199302285736417e-05\n",
      "1.3846762504286132e-06\n",
      "1.311565416688104e-08\n",
      "6.085638855962845e-11\n",
      "We rejected the Null Hypothesis 11 times!\n",
      "We failed to reject the Null Hypothesis 4 times!\n"
     ]
    }
   ],
   "source": [
    "counter_yes = 0\n",
    "counter_no = 0\n",
    "\n",
    "for i in range(len(some_hypotheses)):\n",
    "    tstat, pval = ttest_1samp(a=df['price'], popmean=some_hypotheses[i])\n",
    "    print(pval)\n",
    "    if pval > 0.05:\n",
    "        counter_no += 1\n",
    "    else:\n",
    "        counter_yes += 1\n",
    "        \n",
    "print(f\"We rejected the Null Hypothesis {counter_yes} times!\")\n",
    "print(f\"We failed to reject the Null Hypothesis {counter_no} times!\")"
   ]
  },
  {
   "cell_type": "markdown",
   "metadata": {},
   "source": [
    "## Example 2\n",
    "\n",
    "Here we want to compare two sample distributions in our dataset, which we assume are normally distributed. We take two groups given a condition and we compare the mean of both arrays.\n",
    "\n",
    "Definition:\n",
    "\n",
    "> The purpose of the test is to determine whether there is statistical evidence that the mean difference between paired observations on a particular outcome is significantly different from zero.\n",
    "\n",
    "Our confidence level is again `0.05`. This means that any p-value below that would allows to see whether there is a significant difference between the average price of these two categories or not.\n",
    "\n",
    "- $H_{0}:$ samples average are the same\n",
    "- $H_{A}:$ samples average is not the same"
   ]
  },
  {
   "cell_type": "code",
   "execution_count": 86,
   "metadata": {},
   "outputs": [],
   "source": [
    "from scipy.stats import ttest_ind"
   ]
  },
  {
   "cell_type": "code",
   "execution_count": 88,
   "metadata": {},
   "outputs": [
    {
     "data": {
      "text/plain": [
       "f    16784\n",
       "t     5130\n",
       "Name: host_is_superhost, dtype: int64"
      ]
     },
     "execution_count": 88,
     "metadata": {},
     "output_type": "execute_result"
    }
   ],
   "source": [
    "df['host_is_superhost'].value_counts()"
   ]
  },
  {
   "cell_type": "code",
   "execution_count": 87,
   "metadata": {
    "scrolled": true
   },
   "outputs": [
    {
     "data": {
      "text/plain": [
       "\u001b[1;31mSignature:\u001b[0m \u001b[0mttest_ind\u001b[0m\u001b[1;33m(\u001b[0m\u001b[0ma\u001b[0m\u001b[1;33m,\u001b[0m \u001b[0mb\u001b[0m\u001b[1;33m,\u001b[0m \u001b[0maxis\u001b[0m\u001b[1;33m=\u001b[0m\u001b[1;36m0\u001b[0m\u001b[1;33m,\u001b[0m \u001b[0mequal_var\u001b[0m\u001b[1;33m=\u001b[0m\u001b[1;32mTrue\u001b[0m\u001b[1;33m,\u001b[0m \u001b[0mnan_policy\u001b[0m\u001b[1;33m=\u001b[0m\u001b[1;34m'propagate'\u001b[0m\u001b[1;33m)\u001b[0m\u001b[1;33m\u001b[0m\u001b[1;33m\u001b[0m\u001b[0m\n",
       "\u001b[1;31mSource:\u001b[0m   \n",
       "\u001b[1;32mdef\u001b[0m \u001b[0mttest_ind\u001b[0m\u001b[1;33m(\u001b[0m\u001b[0ma\u001b[0m\u001b[1;33m,\u001b[0m \u001b[0mb\u001b[0m\u001b[1;33m,\u001b[0m \u001b[0maxis\u001b[0m\u001b[1;33m=\u001b[0m\u001b[1;36m0\u001b[0m\u001b[1;33m,\u001b[0m \u001b[0mequal_var\u001b[0m\u001b[1;33m=\u001b[0m\u001b[1;32mTrue\u001b[0m\u001b[1;33m,\u001b[0m \u001b[0mnan_policy\u001b[0m\u001b[1;33m=\u001b[0m\u001b[1;34m'propagate'\u001b[0m\u001b[1;33m)\u001b[0m\u001b[1;33m:\u001b[0m\u001b[1;33m\n",
       "\u001b[0m    \u001b[1;34m\"\"\"\n",
       "    Calculate the T-test for the means of *two independent* samples of scores.\n",
       "\n",
       "    This is a two-sided test for the null hypothesis that 2 independent samples\n",
       "    have identical average (expected) values. This test assumes that the\n",
       "    populations have identical variances by default.\n",
       "\n",
       "    Parameters\n",
       "    ----------\n",
       "    a, b : array_like\n",
       "        The arrays must have the same shape, except in the dimension\n",
       "        corresponding to `axis` (the first, by default).\n",
       "    axis : int or None, optional\n",
       "        Axis along which to compute test. If None, compute over the whole\n",
       "        arrays, `a`, and `b`.\n",
       "    equal_var : bool, optional\n",
       "        If True (default), perform a standard independent 2 sample test\n",
       "        that assumes equal population variances [1]_.\n",
       "        If False, perform Welch's t-test, which does not assume equal\n",
       "        population variance [2]_.\n",
       "\n",
       "        .. versionadded:: 0.11.0\n",
       "    nan_policy : {'propagate', 'raise', 'omit'}, optional\n",
       "        Defines how to handle when input contains nan.\n",
       "        The following options are available (default is 'propagate'):\n",
       "\n",
       "          * 'propagate': returns nan\n",
       "          * 'raise': throws an error\n",
       "          * 'omit': performs the calculations ignoring nan values\n",
       "\n",
       "\n",
       "    Returns\n",
       "    -------\n",
       "    statistic : float or array\n",
       "        The calculated t-statistic.\n",
       "    pvalue : float or array\n",
       "        The two-tailed p-value.\n",
       "\n",
       "    Notes\n",
       "    -----\n",
       "    We can use this test, if we observe two independent samples from\n",
       "    the same or different population, e.g. exam scores of boys and\n",
       "    girls or of two ethnic groups. The test measures whether the\n",
       "    average (expected) value differs significantly across samples. If\n",
       "    we observe a large p-value, for example larger than 0.05 or 0.1,\n",
       "    then we cannot reject the null hypothesis of identical average scores.\n",
       "    If the p-value is smaller than the threshold, e.g. 1%, 5% or 10%,\n",
       "    then we reject the null hypothesis of equal averages.\n",
       "\n",
       "    References\n",
       "    ----------\n",
       "    .. [1] https://en.wikipedia.org/wiki/T-test#Independent_two-sample_t-test\n",
       "\n",
       "    .. [2] https://en.wikipedia.org/wiki/Welch%27s_t-test\n",
       "\n",
       "    Examples\n",
       "    --------\n",
       "    >>> from scipy import stats\n",
       "    >>> np.random.seed(12345678)\n",
       "\n",
       "    Test with sample with identical means:\n",
       "\n",
       "    >>> rvs1 = stats.norm.rvs(loc=5,scale=10,size=500)\n",
       "    >>> rvs2 = stats.norm.rvs(loc=5,scale=10,size=500)\n",
       "    >>> stats.ttest_ind(rvs1,rvs2)\n",
       "    (0.26833823296239279, 0.78849443369564776)\n",
       "    >>> stats.ttest_ind(rvs1,rvs2, equal_var = False)\n",
       "    (0.26833823296239279, 0.78849452749500748)\n",
       "\n",
       "    `ttest_ind` underestimates p for unequal variances:\n",
       "\n",
       "    >>> rvs3 = stats.norm.rvs(loc=5, scale=20, size=500)\n",
       "    >>> stats.ttest_ind(rvs1, rvs3)\n",
       "    (-0.46580283298287162, 0.64145827413436174)\n",
       "    >>> stats.ttest_ind(rvs1, rvs3, equal_var = False)\n",
       "    (-0.46580283298287162, 0.64149646246569292)\n",
       "\n",
       "    When n1 != n2, the equal variance t-statistic is no longer equal to the\n",
       "    unequal variance t-statistic:\n",
       "\n",
       "    >>> rvs4 = stats.norm.rvs(loc=5, scale=20, size=100)\n",
       "    >>> stats.ttest_ind(rvs1, rvs4)\n",
       "    (-0.99882539442782481, 0.3182832709103896)\n",
       "    >>> stats.ttest_ind(rvs1, rvs4, equal_var = False)\n",
       "    (-0.69712570584654099, 0.48716927725402048)\n",
       "\n",
       "    T-test with different means, variance, and n:\n",
       "\n",
       "    >>> rvs5 = stats.norm.rvs(loc=8, scale=20, size=100)\n",
       "    >>> stats.ttest_ind(rvs1, rvs5)\n",
       "    (-1.4679669854490653, 0.14263895620529152)\n",
       "    >>> stats.ttest_ind(rvs1, rvs5, equal_var = False)\n",
       "    (-0.94365973617132992, 0.34744170334794122)\n",
       "\n",
       "    \"\"\"\u001b[0m\u001b[1;33m\n",
       "\u001b[0m    \u001b[0ma\u001b[0m\u001b[1;33m,\u001b[0m \u001b[0mb\u001b[0m\u001b[1;33m,\u001b[0m \u001b[0maxis\u001b[0m \u001b[1;33m=\u001b[0m \u001b[0m_chk2_asarray\u001b[0m\u001b[1;33m(\u001b[0m\u001b[0ma\u001b[0m\u001b[1;33m,\u001b[0m \u001b[0mb\u001b[0m\u001b[1;33m,\u001b[0m \u001b[0maxis\u001b[0m\u001b[1;33m)\u001b[0m\u001b[1;33m\n",
       "\u001b[0m\u001b[1;33m\n",
       "\u001b[0m    \u001b[1;31m# check both a and b\u001b[0m\u001b[1;33m\n",
       "\u001b[0m    \u001b[0mcna\u001b[0m\u001b[1;33m,\u001b[0m \u001b[0mnpa\u001b[0m \u001b[1;33m=\u001b[0m \u001b[0m_contains_nan\u001b[0m\u001b[1;33m(\u001b[0m\u001b[0ma\u001b[0m\u001b[1;33m,\u001b[0m \u001b[0mnan_policy\u001b[0m\u001b[1;33m)\u001b[0m\u001b[1;33m\n",
       "\u001b[0m    \u001b[0mcnb\u001b[0m\u001b[1;33m,\u001b[0m \u001b[0mnpb\u001b[0m \u001b[1;33m=\u001b[0m \u001b[0m_contains_nan\u001b[0m\u001b[1;33m(\u001b[0m\u001b[0mb\u001b[0m\u001b[1;33m,\u001b[0m \u001b[0mnan_policy\u001b[0m\u001b[1;33m)\u001b[0m\u001b[1;33m\n",
       "\u001b[0m    \u001b[0mcontains_nan\u001b[0m \u001b[1;33m=\u001b[0m \u001b[0mcna\u001b[0m \u001b[1;32mor\u001b[0m \u001b[0mcnb\u001b[0m\u001b[1;33m\n",
       "\u001b[0m    \u001b[1;32mif\u001b[0m \u001b[0mnpa\u001b[0m \u001b[1;33m==\u001b[0m \u001b[1;34m'omit'\u001b[0m \u001b[1;32mor\u001b[0m \u001b[0mnpb\u001b[0m \u001b[1;33m==\u001b[0m \u001b[1;34m'omit'\u001b[0m\u001b[1;33m:\u001b[0m\u001b[1;33m\n",
       "\u001b[0m        \u001b[0mnan_policy\u001b[0m \u001b[1;33m=\u001b[0m \u001b[1;34m'omit'\u001b[0m\u001b[1;33m\n",
       "\u001b[0m\u001b[1;33m\n",
       "\u001b[0m    \u001b[1;32mif\u001b[0m \u001b[0mcontains_nan\u001b[0m \u001b[1;32mand\u001b[0m \u001b[0mnan_policy\u001b[0m \u001b[1;33m==\u001b[0m \u001b[1;34m'omit'\u001b[0m\u001b[1;33m:\u001b[0m\u001b[1;33m\n",
       "\u001b[0m        \u001b[0ma\u001b[0m \u001b[1;33m=\u001b[0m \u001b[0mma\u001b[0m\u001b[1;33m.\u001b[0m\u001b[0mmasked_invalid\u001b[0m\u001b[1;33m(\u001b[0m\u001b[0ma\u001b[0m\u001b[1;33m)\u001b[0m\u001b[1;33m\n",
       "\u001b[0m        \u001b[0mb\u001b[0m \u001b[1;33m=\u001b[0m \u001b[0mma\u001b[0m\u001b[1;33m.\u001b[0m\u001b[0mmasked_invalid\u001b[0m\u001b[1;33m(\u001b[0m\u001b[0mb\u001b[0m\u001b[1;33m)\u001b[0m\u001b[1;33m\n",
       "\u001b[0m        \u001b[1;32mreturn\u001b[0m \u001b[0mmstats_basic\u001b[0m\u001b[1;33m.\u001b[0m\u001b[0mttest_ind\u001b[0m\u001b[1;33m(\u001b[0m\u001b[0ma\u001b[0m\u001b[1;33m,\u001b[0m \u001b[0mb\u001b[0m\u001b[1;33m,\u001b[0m \u001b[0maxis\u001b[0m\u001b[1;33m,\u001b[0m \u001b[0mequal_var\u001b[0m\u001b[1;33m)\u001b[0m\u001b[1;33m\n",
       "\u001b[0m\u001b[1;33m\n",
       "\u001b[0m    \u001b[1;32mif\u001b[0m \u001b[0ma\u001b[0m\u001b[1;33m.\u001b[0m\u001b[0msize\u001b[0m \u001b[1;33m==\u001b[0m \u001b[1;36m0\u001b[0m \u001b[1;32mor\u001b[0m \u001b[0mb\u001b[0m\u001b[1;33m.\u001b[0m\u001b[0msize\u001b[0m \u001b[1;33m==\u001b[0m \u001b[1;36m0\u001b[0m\u001b[1;33m:\u001b[0m\u001b[1;33m\n",
       "\u001b[0m        \u001b[1;32mreturn\u001b[0m \u001b[0mTtest_indResult\u001b[0m\u001b[1;33m(\u001b[0m\u001b[0mnp\u001b[0m\u001b[1;33m.\u001b[0m\u001b[0mnan\u001b[0m\u001b[1;33m,\u001b[0m \u001b[0mnp\u001b[0m\u001b[1;33m.\u001b[0m\u001b[0mnan\u001b[0m\u001b[1;33m)\u001b[0m\u001b[1;33m\n",
       "\u001b[0m\u001b[1;33m\n",
       "\u001b[0m    \u001b[0mv1\u001b[0m \u001b[1;33m=\u001b[0m \u001b[0mnp\u001b[0m\u001b[1;33m.\u001b[0m\u001b[0mvar\u001b[0m\u001b[1;33m(\u001b[0m\u001b[0ma\u001b[0m\u001b[1;33m,\u001b[0m \u001b[0maxis\u001b[0m\u001b[1;33m,\u001b[0m \u001b[0mddof\u001b[0m\u001b[1;33m=\u001b[0m\u001b[1;36m1\u001b[0m\u001b[1;33m)\u001b[0m\u001b[1;33m\n",
       "\u001b[0m    \u001b[0mv2\u001b[0m \u001b[1;33m=\u001b[0m \u001b[0mnp\u001b[0m\u001b[1;33m.\u001b[0m\u001b[0mvar\u001b[0m\u001b[1;33m(\u001b[0m\u001b[0mb\u001b[0m\u001b[1;33m,\u001b[0m \u001b[0maxis\u001b[0m\u001b[1;33m,\u001b[0m \u001b[0mddof\u001b[0m\u001b[1;33m=\u001b[0m\u001b[1;36m1\u001b[0m\u001b[1;33m)\u001b[0m\u001b[1;33m\n",
       "\u001b[0m    \u001b[0mn1\u001b[0m \u001b[1;33m=\u001b[0m \u001b[0ma\u001b[0m\u001b[1;33m.\u001b[0m\u001b[0mshape\u001b[0m\u001b[1;33m[\u001b[0m\u001b[0maxis\u001b[0m\u001b[1;33m]\u001b[0m\u001b[1;33m\n",
       "\u001b[0m    \u001b[0mn2\u001b[0m \u001b[1;33m=\u001b[0m \u001b[0mb\u001b[0m\u001b[1;33m.\u001b[0m\u001b[0mshape\u001b[0m\u001b[1;33m[\u001b[0m\u001b[0maxis\u001b[0m\u001b[1;33m]\u001b[0m\u001b[1;33m\n",
       "\u001b[0m\u001b[1;33m\n",
       "\u001b[0m    \u001b[1;32mif\u001b[0m \u001b[0mequal_var\u001b[0m\u001b[1;33m:\u001b[0m\u001b[1;33m\n",
       "\u001b[0m        \u001b[0mdf\u001b[0m\u001b[1;33m,\u001b[0m \u001b[0mdenom\u001b[0m \u001b[1;33m=\u001b[0m \u001b[0m_equal_var_ttest_denom\u001b[0m\u001b[1;33m(\u001b[0m\u001b[0mv1\u001b[0m\u001b[1;33m,\u001b[0m \u001b[0mn1\u001b[0m\u001b[1;33m,\u001b[0m \u001b[0mv2\u001b[0m\u001b[1;33m,\u001b[0m \u001b[0mn2\u001b[0m\u001b[1;33m)\u001b[0m\u001b[1;33m\n",
       "\u001b[0m    \u001b[1;32melse\u001b[0m\u001b[1;33m:\u001b[0m\u001b[1;33m\n",
       "\u001b[0m        \u001b[0mdf\u001b[0m\u001b[1;33m,\u001b[0m \u001b[0mdenom\u001b[0m \u001b[1;33m=\u001b[0m \u001b[0m_unequal_var_ttest_denom\u001b[0m\u001b[1;33m(\u001b[0m\u001b[0mv1\u001b[0m\u001b[1;33m,\u001b[0m \u001b[0mn1\u001b[0m\u001b[1;33m,\u001b[0m \u001b[0mv2\u001b[0m\u001b[1;33m,\u001b[0m \u001b[0mn2\u001b[0m\u001b[1;33m)\u001b[0m\u001b[1;33m\n",
       "\u001b[0m\u001b[1;33m\n",
       "\u001b[0m    \u001b[0mres\u001b[0m \u001b[1;33m=\u001b[0m \u001b[0m_ttest_ind_from_stats\u001b[0m\u001b[1;33m(\u001b[0m\u001b[0mnp\u001b[0m\u001b[1;33m.\u001b[0m\u001b[0mmean\u001b[0m\u001b[1;33m(\u001b[0m\u001b[0ma\u001b[0m\u001b[1;33m,\u001b[0m \u001b[0maxis\u001b[0m\u001b[1;33m)\u001b[0m\u001b[1;33m,\u001b[0m \u001b[0mnp\u001b[0m\u001b[1;33m.\u001b[0m\u001b[0mmean\u001b[0m\u001b[1;33m(\u001b[0m\u001b[0mb\u001b[0m\u001b[1;33m,\u001b[0m \u001b[0maxis\u001b[0m\u001b[1;33m)\u001b[0m\u001b[1;33m,\u001b[0m \u001b[0mdenom\u001b[0m\u001b[1;33m,\u001b[0m \u001b[0mdf\u001b[0m\u001b[1;33m)\u001b[0m\u001b[1;33m\n",
       "\u001b[0m\u001b[1;33m\n",
       "\u001b[0m    \u001b[1;32mreturn\u001b[0m \u001b[0mTtest_indResult\u001b[0m\u001b[1;33m(\u001b[0m\u001b[1;33m*\u001b[0m\u001b[0mres\u001b[0m\u001b[1;33m)\u001b[0m\u001b[1;33m\u001b[0m\u001b[1;33m\u001b[0m\u001b[0m\n",
       "\u001b[1;31mFile:\u001b[0m      c:\\python38\\lib\\site-packages\\scipy\\stats\\stats.py\n",
       "\u001b[1;31mType:\u001b[0m      function\n"
      ]
     },
     "metadata": {},
     "output_type": "display_data"
    }
   ],
   "source": [
    "ttest_ind??"
   ]
  },
  {
   "cell_type": "code",
   "execution_count": 95,
   "metadata": {},
   "outputs": [
    {
     "data": {
      "text/plain": [
       "(5082.153711285862, 5550.9278361394)"
      ]
     },
     "execution_count": 95,
     "metadata": {},
     "output_type": "execute_result"
    }
   ],
   "source": [
    "# let's separate the arrays and assign them to a variable\n",
    "super_host = df.loc[df['host_is_superhost'] == 't', 'price']\n",
    "regular_host = df.loc[df['host_is_superhost'] == 'f', 'price']\n",
    "\n",
    "super_host.var(), regular_host.var()"
   ]
  },
  {
   "cell_type": "code",
   "execution_count": 96,
   "metadata": {},
   "outputs": [
    {
     "data": {
      "text/plain": [
       "(133.65925925925927, 122.00274070543375)"
      ]
     },
     "execution_count": 96,
     "metadata": {},
     "output_type": "execute_result"
    }
   ],
   "source": [
    "super_host.mean(), regular_host.mean()"
   ]
  },
  {
   "cell_type": "code",
   "execution_count": 97,
   "metadata": {},
   "outputs": [
    {
     "data": {
      "image/png": "[encoded data removed]",
      "text/plain": [
       "<Figure size 432x288 with 1 Axes>"
      ]
     },
     "metadata": {},
     "output_type": "display_data"
    }
   ],
   "source": [
    "super_host.plot(kind='hist', bins=30)\n",
    "plt.show()"
   ]
  },
  {
   "cell_type": "code",
   "execution_count": 98,
   "metadata": {},
   "outputs": [
    {
     "data": {
      "text/plain": [
       "<matplotlib.axes._subplots.AxesSubplot at 0x22be59b2f70>"
      ]
     },
     "execution_count": 98,
     "metadata": {},
     "output_type": "execute_result"
    },
    {
     "data": {
      "image/png": "[encoded data removed]",
      "text/plain": [
       "<Figure size 432x288 with 1 Axes>"
      ]
     },
     "metadata": {},
     "output_type": "display_data"
    }
   ],
   "source": [
    "regular_host.plot(kind='hist', bins=30)"
   ]
  },
  {
   "cell_type": "code",
   "execution_count": 99,
   "metadata": {},
   "outputs": [
    {
     "name": "stdout",
     "output_type": "stream",
     "text": [
      "Our P-values is 0.0000\n",
      "We Reject the Null Hypothesis!\n"
     ]
    }
   ],
   "source": [
    "tstat, pval = ttest_ind(super_host, regular_host, equal_var=False)\n",
    "\n",
    "print(\"Our P-values is %.4f\" % pval)\n",
    "\n",
    "if pval > 0.05:\n",
    "    print('We Fail to Reject the Null Hypothesis!')\n",
    "else:\n",
    "    print('We Reject the Null Hypothesis!')"
   ]
  },
  {
   "cell_type": "markdown",
   "metadata": {},
   "source": [
    "Notice how there is a significant difference between the average of both variables."
   ]
  },
  {
   "cell_type": "markdown",
   "metadata": {},
   "source": [
    "## Example 3\n",
    "\n",
    "Analysis of Variance (ANOVA) allows us to compare the average value of more than 2 samples to see whether there is a statistically significant difference between them.\n",
    "\n",
    "Assumptions\n",
    "\n",
    "- Samples are independent and identically distributed.\n",
    "- Each of the multiple samples are normally distributed.\n",
    "- Observations in each sample have the same variance.\n",
    "\n",
    "  \n",
    "\n",
    "- $H_{0}:$ samples averages are the same\n",
    "- $H_{A}:$ samples averages are not the same"
   ]
  },
  {
   "cell_type": "code",
   "execution_count": null,
   "metadata": {},
   "outputs": [],
   "source": [
    "from scipy.stats import f_oneway"
   ]
  },
  {
   "cell_type": "code",
   "execution_count": null,
   "metadata": {},
   "outputs": [],
   "source": [
    "df['room_type'].value_counts()"
   ]
  },
  {
   "cell_type": "code",
   "execution_count": null,
   "metadata": {},
   "outputs": [],
   "source": [
    "entire_home = df.loc[df['room_type'] == 'Entire home/apt', 'min_price_stay']\n",
    "private_room = df.loc[df['room_type'] == 'Private room', 'min_price_stay']\n",
    "shared_room = df.loc[df['room_type'] == 'Shared room', 'min_price_stay']"
   ]
  },
  {
   "cell_type": "markdown",
   "metadata": {},
   "source": [
    "We will first compare the prices charged by the three room types in our dataset. Notice how the output of the test is a tuple with the test statistic, a values we can compare against a variety of probabilities in a table, and the p-value. What we are interested in."
   ]
  },
  {
   "cell_type": "code",
   "execution_count": null,
   "metadata": {},
   "outputs": [],
   "source": [
    "stat, pval = f_oneway(entire_home, private_room, shared_room)\n",
    "\n",
    "print(\"Our P-values is %.4f\" % pval)\n",
    "\n",
    "if pval > 0.05:\n",
    "    print('We Fail to Reject the Null Hypothesis!')\n",
    "else:\n",
    "    print('We Reject the Null Hypothesis!')"
   ]
  },
  {
   "cell_type": "code",
   "execution_count": null,
   "metadata": {},
   "outputs": [],
   "source": [
    "price = df['price']\n",
    "min_price_stay = df['min_price_stay']\n",
    "full_pay = df['true_price']\n",
    "clean_fee = df['cleaning_fee']"
   ]
  },
  {
   "cell_type": "code",
   "execution_count": null,
   "metadata": {},
   "outputs": [],
   "source": [
    "stat, pval = f_oneway(price, min_price_stay, clean_fee)\n",
    "\n",
    "print(\"Our P-values is %.4f\" % pval)\n",
    "\n",
    "if pval > 0.05:\n",
    "    print('We Fail to Reject the Null Hypothesis!')\n",
    "else:\n",
    "    print('We Reject the Null Hypothesis!')"
   ]
  },
  {
   "cell_type": "markdown",
   "metadata": {},
   "source": [
    "The caveat with ANOVA's is that they don't tell us which sample is more signficantly different than other. To accomplish this level of granularity, we need another test called the Tukey test.\n",
    "\n",
    "The Tukey's range test compares several numerical samples (more than 2) without increasing the probability of a false positive (e.g. a false interpretation that was taken as true).\n",
    "\n",
    "To compute it, we need to append all three arrays into a vertical one, along with the names of each array. Let's first import the `pairwise_tukeyhsd` model from statsmodel and then calculate the result."
   ]
  },
  {
   "cell_type": "code",
   "execution_count": null,
   "metadata": {},
   "outputs": [],
   "source": [
    "from statsmodels.stats.multicomp import pairwise_tukeyhsd"
   ]
  },
  {
   "cell_type": "code",
   "execution_count": null,
   "metadata": {},
   "outputs": [],
   "source": [
    "vertical_stack = np.concatenate([price, min_price_stay, clean_fee])"
   ]
  },
  {
   "cell_type": "code",
   "execution_count": null,
   "metadata": {},
   "outputs": [],
   "source": [
    "labels = ['price'] * len(price) + ['min_price_stay'] * len(min_price_stay) + ['clean_fee'] * len(clean_fee)"
   ]
  },
  {
   "cell_type": "code",
   "execution_count": null,
   "metadata": {},
   "outputs": [],
   "source": [
    "tukey_test = pairwise_tukeyhsd(vertical_stack, labels, 0.05)\n",
    "print(tukey_test)"
   ]
  },
  {
   "cell_type": "markdown",
   "metadata": {},
   "source": [
    "## Example 4\n",
    "\n",
    "Pearson Correlation\n",
    "\n",
    "We saw the pearson correlation function in the last class, but what does it really test? The goal of this test is see whether there is a linear relationship between your numerical variables or not. That means that we want to know whether the variables have dependency or not with one another. \n",
    "\n",
    "\n",
    "- $H_{0}:$ samples average are independent\n",
    "- $H_{A}:$ there is dependency between the samples"
   ]
  },
  {
   "cell_type": "code",
   "execution_count": null,
   "metadata": {},
   "outputs": [],
   "source": [
    "from scipy.stats import pearsonr"
   ]
  },
  {
   "cell_type": "code",
   "execution_count": null,
   "metadata": {},
   "outputs": [],
   "source": [
    "stat, pval = pearsonr(price, min_price_stay)\n",
    "\n",
    "print(\"Our P-values is %.4f\" % pval)\n",
    "\n",
    "if pval > 0.05:\n",
    "    print('Probably independent')\n",
    "else:\n",
    "    print('Probably dependent')"
   ]
  },
  {
   "cell_type": "markdown",
   "metadata": {},
   "source": [
    "## Example 6\n",
    "\n",
    "Spearman’s Rank Correlation\n",
    "\n",
    "Is used to discover the strength of a link between two sets of data. For example, the price per night versus the cleaning fee of a listing.\n",
    "\n",
    "- $H_{0}:$ samples average are independent\n",
    "- $H_{A}:$ there is dependency between the samples"
   ]
  },
  {
   "cell_type": "code",
   "execution_count": null,
   "metadata": {},
   "outputs": [],
   "source": [
    "from scipy.stats import spearmanr\n",
    "\n",
    "stat, pval = spearmanr(price, clean_fee)\n",
    "\n",
    "print(\"Our P-values is %.4f\" % pval)\n",
    "\n",
    "if pval > 0.05:\n",
    "    print('Probably independent')\n",
    "else:\n",
    "    print('Probably dependent')"
   ]
  },
  {
   "cell_type": "markdown",
   "metadata": {},
   "source": [
    "# 6. Summary"
   ]
  },
  {
   "cell_type": "markdown",
   "metadata": {},
   "source": [
    "- Inferential statistics help us deal with uncertainty and estimate the parameters of the true population\n",
    "- Distributions are a key component to understand how we model reality\n",
    "- A hypothesis test helps us disprove statements and knowledge that has not been disproved yet\n",
    "- SciPy's stats model has plenty of useful functionalities for statistical analysis\n",
    "- There many, many hypothesis tests and we have only scratched the surface here"
   ]
  },
  {
   "cell_type": "markdown",
   "metadata": {},
   "source": [
    "# 7. References"
   ]
  },
  {
   "cell_type": "markdown",
   "metadata": {},
   "source": [
    "Herne, H., & Huff, D. (1973). _How to Lie with Statistics_. Applied Statistics, 22(3), 401. doi: 10.2307/2346789\n",
    "\n",
    "Downey, Allen B. _Think Stats: Exploratory Data Analysis in Python_. Green Tea Press, 2014.\n",
    "\n",
    "Lock, Robin H., et al. _Statistics: Unlocking the Power of Data_. John Wiley & Sons, 2019."
   ]
  },
  {
   "cell_type": "markdown",
   "metadata": {},
   "source": [
    "# 8. Feedback"
   ]
  },
  {
   "cell_type": "markdown",
   "metadata": {},
   "source": [
    "We would really appreciate it if you could please provide us with your feedback from this session by filling a couple of question.\n",
    "\n",
    "> ## [Survey](https://docs.google.com/forms/d/e/1FAIpQLScsvD4KHRJZPstPHZlAv5ibNOvL9ioSgQRCrIIqwQzW_mG8Og/viewform?usp=sf_link)"
   ]
  }
 ],
 "metadata": {
  "kernelspec": {
   "display_name": "Python 3",
   "language": "python",
   "name": "python3"
  },
  "language_info": {
   "codemirror_mode": {
    "name": "ipython",
    "version": 3
   },
   "file_extension": ".py",
   "mimetype": "text/x-python",
   "name": "python",
   "nbconvert_exporter": "python",
   "pygments_lexer": "ipython3",
   "version": "3.8.1"
  }
 },
 "nbformat": 4,
 "nbformat_minor": 4
}
