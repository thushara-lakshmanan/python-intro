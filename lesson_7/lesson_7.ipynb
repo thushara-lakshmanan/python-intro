{
 "cells": [
  {
   "cell_type": "markdown",
   "metadata": {},
   "source": [
    "# Lesson 7 - EDA and Statistics Part 3"
   ]
  },
  {
   "cell_type": "markdown",
   "metadata": {},
   "source": [
    "![flowers](https://i.pinimg.com/originals/f4/1d/45/f41d4567aee3a42f1cbbfd7f44412efa.jpg)  \n",
    "**Source:** https://www.poppyfield.org/"
   ]
  },
  {
   "cell_type": "markdown",
   "metadata": {},
   "source": [
    "I. Recap of lesson 6  \n",
    "II. Learning Outcomes  \n",
    "\n",
    "\n",
    "__Outline for the session:__\n",
    "\n",
    "1. Introduction to Exploratory Data Analysis\n",
    "2. Setting the Stage\n",
    "3. Get the Data\n",
    "    - Load & Inspect\n",
    "    - Clean & Prepare\n",
    "    - What did you see?\n",
    "4. EDA\n",
    "5. Reporting\n",
    "6. Summary\n",
    "7. Beyond the Data Analyst\n",
    "    - A Better Programmer\n",
    "    - The Data Scientist Road\n",
    "8. References\n",
    "9. Feedback"
   ]
  },
  {
   "cell_type": "markdown",
   "metadata": {},
   "source": [
    "# I. Recap of Lesson 5"
   ]
  },
  {
   "cell_type": "markdown",
   "metadata": {},
   "source": [
    "In lesson 6, we covered a small but inportant piece of inferential statistics, distributions and hypothesis testing. There we touched on:\n",
    "\n",
    "- One of the many frameworks one can follow to structure a hypothesis test\n",
    "- Which hypothesis is which in statistics terms\n",
    "    - The Null Hypothesis is the one that is currently accepted\n",
    "    - The Alternative Hypothesis is the one we would like to prove right\n",
    "- Every variable or array of data comes with a distribution and being able to model and visualise such distributions, allows us to understand the data we have at hand better\n",
    "- Hypothesis tests can be done with one variable, two, or many others, and for each of these instances there is a test that we can use\n",
    "- SciPy is built on top and at the same level as NumPy. It comes with most of the statistical functions we need to test hypotheses"
   ]
  },
  {
   "cell_type": "markdown",
   "metadata": {},
   "source": [
    "# II. Learning Outcomes"
   ]
  },
  {
   "cell_type": "markdown",
   "metadata": {},
   "source": [
    "By the end of the lesson you will have learned:\n",
    "\n",
    "1. How to structure a data task\n",
    "2. How to design your to-do list for the initial steps of the process\n",
    "3. How to structure your repository for a data project\n",
    "4. How iteratetively look at your data"
   ]
  },
  {
   "cell_type": "markdown",
   "metadata": {},
   "source": [
    "# 1. Introduction to Exploratory Data Analysis"
   ]
  },
  {
   "cell_type": "markdown",
   "metadata": {},
   "source": [
    "![](https://miro.medium.com/max/1400/0*LWtcjRNoRrqSHcdK.gif)  \n",
    "**Source:** [South China Morning Post](https://multimedia.scmp.com/lifestyle/article/2163738/crazy-rich-asians/index.html). Authors - Pablo Robles and Adolfo Arranz, in collaboration with Marco Hernández, Vincenzo La Torre, Darren Long and Sean Keeley\n",
    "\n",
    "> \"This is my favorite part about analytics: Taking boring flat data and bringing it to life through visualization.\" ~ John Tukey\n",
    "\n",
    "The award-winning visualising above summarises best what Exploratory Data Analysis is, being able to question and explore our data with a voracious hunger for insight discovery.\n",
    "\n",
    "Exploratory Data Analysis (EDA) is the best synonym of what a detective is in practice and at heart, a true investigator of the facts (in other words, what has already happened in the past). EDA is more of an approach to inspecting our data rather than a hard-set of rules one should follow. It brings our the curiosity of the analysts and allows for full exploration that often leads to:\n",
    "- uncovering insights\n",
    "- detecting outliers\n",
    "- testing assumptions\n",
    "- identifying the most important variables in the dataset\n",
    "- visualising the heck out of the data\n",
    "- coming up with new hypotheses to test/models to build\n",
    "\n",
    "EDA is often confused with pure statistcal data visualisation, in part because it involves a lot of it, but also because is not complete without one. It differs, though, in that it is a more all-around approach to insight gathering rather than a display of data."
   ]
  },
  {
   "cell_type": "markdown",
   "metadata": {},
   "source": [
    "# 2. Setting the Stage"
   ]
  },
  {
   "cell_type": "markdown",
   "metadata": {},
   "source": [
    "![consulting](https://i.imgur.com/DnIaN4p.png)\n",
    "\n",
    "You work as an analyst at a major global consulting firm and have projects with clients in industries such as hospitality, retail, and finance. The COVID-19 pandemic has hit us with full force and before making any decisions, your boss would like you to provide the company with an overview of what is happening around the world.\n",
    "\n",
    "You have been given full autonomy over the project, so the resources you choose, the questions you answer, and the visualisations and tables you create, are all your responsability. Sad about the situation, of course, but excited about the opportunity to inform all of your colleagues, you acknowledged your boss's request,\n",
    "\n",
    "![roger](https://media.giphy.com/media/lOId8Hdsk2ZMU8cjT9/giphy.gif)\n",
    "\n",
    "head back to your office, and get started on this task.\n",
    "\n",
    "![igotthis](https://media.giphy.com/media/VgSjnwSoqiPjRRIJ1F/giphy.gif)\n",
    "\n",
    "## Markdown or (Pen & Paper)\n",
    "\n",
    "You just got back to your office and immediately you set our to write down a list of what your will need in order to write a compelling report about the whole situation.\n",
    "\n",
    "![your list](https://media.giphy.com/media/j2wpZyLy2s70ul4TKo/giphy.gif)\n",
    "\n",
    "### a. Define Your Task\n",
    "My current task is general and specific in the sense that I have a wide range of angles I can pursue from one specific topic, COVID-19. I need to source data on my own and inform the company on the current situation surrounding the virus.\n",
    "\n",
    "Let's tackle some essential questions first (most of the information below related to COVID-19 was taken from the [Government of Western Australia Department of Health latest report](https://ww2.health.wa.gov.au/~/media/Files/Corporate/general%20documents/Infectious%20diseases/PDF/Coronavirus/coronavirus-faqs.pdf#page=1)).\n",
    "- **What is COVID-19?** This is a new coronavirus that was first identified in Wuhan, Hubei Province, China in December 2019. It is a new strain of coronaviruses that hasn’t previously been identified in humans. COVID-19 is closely related to SARS and in the same family of viruses as MERS.\n",
    "- **What are a Coronaviruses?** \"Coronaviruses are a large family of viruses that can cause illness in humans and animals. Human coronavirus illnesses are generally mild such as the common cold. Some coronaviruses can cause severe diseases such as Severe Acute Respiratory Syndrome (SARS), which was identified in 2002, and Middle East Respiratory Syndrome (MERS), which was identified in 2012.\"\n",
    "- **What are the symptoms?** Symptoms include shortness of breath or cough, with or without a fever. In some cases, the virus can cause severe pneumonia. From what we know now about COVID-19, the symptoms can start between 2 and 14 days from exposure to the virus.\n",
    "- **What is a Pandemic?** A pandemic is defined as “an epidemic occurring worldwide, or over a very wide area, crossing international boundaries and usually affecting a large number of people”. The classical definition includes nothing about population immunity, virology or disease severity. ([WHO 2011](https://www.who.int/bulletin/volumes/89/7/11-088815/en/))\n",
    "- **How can it be cures?** There is no treatment available at the moment.\n",
    "- **How can help decrease the spread of the virus?**\n",
    "    - Self-isolation\n",
    "    - Social distancing\n",
    "    - Increase personal higene. Washing hands frequently and not touching one's faces.  \n",
    "\n",
    "\n",
    "### b. Data Required\n",
    "Because of our company's global footprint, we will need as much data as we can get on the current situation across the globe. This means that scraping data, going to well-known sources of information such as the World Health Organization, the World Bank, Governments websites, etc., is all fair game.\n",
    "### c. Cleaning & Manipulation\n",
    "This part will depend on the data available.\n",
    "### d. Description and Visualisation\n",
    "This will depend on the data available but we will definitely want to see trends, distributions, max and min values around the peak weeks, and many averages.\n",
    "### e. Report findings\n",
    "In the pipeline."
   ]
  },
  {
   "cell_type": "markdown",
   "metadata": {},
   "source": [
    "# 3. Get the Data"
   ]
  },
  {
   "cell_type": "markdown",
   "metadata": {},
   "source": [
    "![covid-19](https://hsu.net.au/wp-content/uploads/2020/03/COVID-19.png)  \n",
    "**Source:** https://hsu.net.au/covid-19/\n",
    "\n",
    "The data we will be using comes from [Our World in Data](https://ourworldindata.org/coronavirus-data), and detail information about the variables can be [found here](https://github.com/owid/covid-19-data/blob/master/public/data/owid-covid-data-codebook.md).\n",
    "\n",
    "## Create Repository\n",
    "\n",
    "We will first create a repository for our work and then proceed to load, inspect, clean, prepare, and explore. Let's head to GitHub."
   ]
  },
  {
   "cell_type": "markdown",
   "metadata": {},
   "source": [
    "# 3.1 Load & Inspect"
   ]
  },
  {
   "cell_type": "code",
   "execution_count": null,
   "metadata": {},
   "outputs": [],
   "source": [
    "import pandas as pd\n",
    "import numpy as np\n",
    "import matplotlib.pyplot as plt\n",
    "import seaborn as sns\n",
    "\n",
    "plt.style.use('fivethirtyeight')\n",
    "pd.set_option('display.max_columns', None)\n",
    "pd.set_option('display.max_rows', None)\n",
    "pd.options.display.float_format = '{:.2f}'.format\n",
    "\n",
    "%matplotlib inline"
   ]
  },
  {
   "cell_type": "code",
   "execution_count": null,
   "metadata": {},
   "outputs": [],
   "source": [
    "# for windows users in CMD\n",
    "!type coronadatascraper-timeseries.csv | more"
   ]
  },
  {
   "cell_type": "code",
   "execution_count": null,
   "metadata": {},
   "outputs": [],
   "source": [
    "# for mac users or windows users with Git Bash\n",
    "!head -n 5 coronadatascraper-timeseries.csv"
   ]
  },
  {
   "cell_type": "code",
   "execution_count": null,
   "metadata": {},
   "outputs": [],
   "source": [
    "df = pd.read_csv('owid-covid-data.csv', low_memory=False)\n",
    "df.head()"
   ]
  },
  {
   "cell_type": "code",
   "execution_count": null,
   "metadata": {},
   "outputs": [],
   "source": [
    "df.shape"
   ]
  },
  {
   "cell_type": "code",
   "execution_count": null,
   "metadata": {},
   "outputs": [],
   "source": [
    "df.info(memory_usage='deep')"
   ]
  },
  {
   "cell_type": "code",
   "execution_count": null,
   "metadata": {
    "scrolled": true
   },
   "outputs": [],
   "source": [
    "df.tail()"
   ]
  },
  {
   "cell_type": "code",
   "execution_count": null,
   "metadata": {},
   "outputs": [],
   "source": [
    "df.describe().T"
   ]
  },
  {
   "cell_type": "code",
   "execution_count": null,
   "metadata": {},
   "outputs": [],
   "source": [
    "missing_pct = ((df.isna().sum() / df.shape[0]) * 100)\n",
    "missing_pct"
   ]
  },
  {
   "cell_type": "markdown",
   "metadata": {},
   "source": [
    "## Exercise for Everyone\n",
    "\n",
    "What did we see upon first inspection. Everyone should share their input so that we can compile a list of observations."
   ]
  },
  {
   "cell_type": "markdown",
   "metadata": {},
   "source": [
    "# 3.2 Clean & Prepare"
   ]
  },
  {
   "cell_type": "markdown",
   "metadata": {},
   "source": [
    "![cleaning](https://media-exp1.licdn.com/dms/image/C4D12AQHSzRO0liwLPQ/article-inline_image-shrink_1000_1488/0?e=1596067200&v=beta&t=k97-q1B4LZnChhnHqeLGpbFeGKCf6JaBmhVgoxvhHts)\n",
    "\n",
    "Let's move on to preparing our data for exploration."
   ]
  },
  {
   "cell_type": "code",
   "execution_count": null,
   "metadata": {},
   "outputs": [],
   "source": [
    "to_drop = (missing[missing < 5]).index\n",
    "to_drop"
   ]
  },
  {
   "cell_type": "code",
   "execution_count": null,
   "metadata": {},
   "outputs": [],
   "source": [
    "df.shape"
   ]
  },
  {
   "cell_type": "code",
   "execution_count": null,
   "metadata": {},
   "outputs": [],
   "source": [
    "df.dropna(subset=to_drop, inplace=True)\n",
    "df.head()"
   ]
  },
  {
   "cell_type": "code",
   "execution_count": null,
   "metadata": {},
   "outputs": [],
   "source": [
    "missing = ((df.isna().sum() / df.shape[0]) * 100)\n",
    "missing"
   ]
  },
  {
   "cell_type": "code",
   "execution_count": null,
   "metadata": {},
   "outputs": [],
   "source": [
    "missing_cols = (missing[missing > 0]).index\n",
    "len(missing_cols)"
   ]
  },
  {
   "cell_type": "code",
   "execution_count": null,
   "metadata": {},
   "outputs": [],
   "source": [
    "df[missing_cols].head()"
   ]
  },
  {
   "cell_type": "code",
   "execution_count": null,
   "metadata": {},
   "outputs": [],
   "source": [
    "for col in missing_cols:\n",
    "    print(f\"This {col} data type is {df[col].dtype} and it has {df[col].isna().sum()/df.shape[0]*100:.2f} pct of missing values!\")"
   ]
  },
  {
   "cell_type": "code",
   "execution_count": null,
   "metadata": {},
   "outputs": [],
   "source": [
    "df[missing_cols].describe().T"
   ]
  },
  {
   "cell_type": "code",
   "execution_count": null,
   "metadata": {},
   "outputs": [],
   "source": [
    "missing_more_50 = (missing[missing > 50]).index\n",
    "len(missing_more_50)"
   ]
  },
  {
   "cell_type": "code",
   "execution_count": null,
   "metadata": {},
   "outputs": [],
   "source": [
    "type(missing_more_50)"
   ]
  },
  {
   "cell_type": "code",
   "execution_count": null,
   "metadata": {},
   "outputs": [],
   "source": [
    "df.drop(labels=missing_more_50, axis=1, inplace=True)"
   ]
  },
  {
   "cell_type": "code",
   "execution_count": null,
   "metadata": {},
   "outputs": [],
   "source": [
    "missing_less_15 = (missing[(missing > 0) & (missing <= 15)]).index\n",
    "len(missing_less_15)"
   ]
  },
  {
   "cell_type": "code",
   "execution_count": null,
   "metadata": {},
   "outputs": [],
   "source": [
    "df[missing_less_15].isna().sum() / df.shape[0] * 100"
   ]
  },
  {
   "cell_type": "code",
   "execution_count": null,
   "metadata": {},
   "outputs": [],
   "source": [
    "df['median_age'].plot(kind='hist', bins=50)\n",
    "plt.title('Median Age Frequencies')\n",
    "plt.show()"
   ]
  },
  {
   "cell_type": "code",
   "execution_count": null,
   "metadata": {},
   "outputs": [],
   "source": [
    "df['aged_65_older'].plot(kind='hist', bins=50)\n",
    "plt.title('Those Older than 65')\n",
    "plt.show()"
   ]
  },
  {
   "cell_type": "code",
   "execution_count": null,
   "metadata": {},
   "outputs": [],
   "source": [
    "df['aged_70_older'].plot(kind='hist', bins=50, color='green', edgecolor='white')\n",
    "plt.title('Those Older than 70')\n",
    "plt.show()"
   ]
  },
  {
   "cell_type": "code",
   "execution_count": null,
   "metadata": {},
   "outputs": [],
   "source": [
    "df[missing_less_15].describe().T"
   ]
  },
  {
   "cell_type": "code",
   "execution_count": null,
   "metadata": {},
   "outputs": [],
   "source": [
    "missing_less_15"
   ]
  },
  {
   "cell_type": "code",
   "execution_count": null,
   "metadata": {},
   "outputs": [],
   "source": [
    "missing_15 = missing_less_15.drop('gdp_per_capita')"
   ]
  },
  {
   "cell_type": "code",
   "execution_count": null,
   "metadata": {},
   "outputs": [],
   "source": [
    "for col in missing_15:\n",
    "    df[col].fillna(value=df[col].median(), axis=0, inplace=True)\n",
    "    \n",
    "df.isna().sum()"
   ]
  },
  {
   "cell_type": "code",
   "execution_count": null,
   "metadata": {},
   "outputs": [],
   "source": [
    "plt.hist(df.loc[df['female_smokers'].notna(), 'female_smokers'], bins=20, \n",
    "         color='blue', alpha=0.5, label='Female Smokers', edgecolor='white')\n",
    "plt.hist(df.loc[df['male_smokers'].notna(), 'male_smokers'], bins=20, \n",
    "         color='red', alpha=0.3, label='Male Smokers', edgecolor='white')\n",
    "\n",
    "plt.title('Share of Smokers in our Sample')\n",
    "\n",
    "plt.legend()\n",
    "plt.show()"
   ]
  },
  {
   "cell_type": "code",
   "execution_count": null,
   "metadata": {},
   "outputs": [],
   "source": [
    "df[['female_smokers', 'male_smokers']].head()"
   ]
  },
  {
   "cell_type": "code",
   "execution_count": null,
   "metadata": {},
   "outputs": [],
   "source": [
    "for col in ['female_smokers', 'male_smokers']:\n",
    "    df[col].fillna(value=df[col].median(), axis=0, inplace=True)"
   ]
  },
  {
   "cell_type": "code",
   "execution_count": null,
   "metadata": {},
   "outputs": [],
   "source": [
    "df['extreme_poverty'].isna().sum() / df.shape[0] * 100"
   ]
  },
  {
   "cell_type": "code",
   "execution_count": null,
   "metadata": {},
   "outputs": [],
   "source": [
    "sns.boxplot(y=df['extreme_poverty']);"
   ]
  },
  {
   "cell_type": "code",
   "execution_count": null,
   "metadata": {},
   "outputs": [],
   "source": [
    "df['extreme_poverty'].describe()"
   ]
  },
  {
   "cell_type": "code",
   "execution_count": null,
   "metadata": {},
   "outputs": [],
   "source": [
    "df['extreme_poverty'].fillna(df['extreme_poverty'].median(), inplace=True)"
   ]
  },
  {
   "cell_type": "code",
   "execution_count": null,
   "metadata": {},
   "outputs": [],
   "source": [
    "df['stringency_index'].describe()"
   ]
  },
  {
   "cell_type": "code",
   "execution_count": null,
   "metadata": {},
   "outputs": [],
   "source": [
    "sns.distplot(df['stringency_index'], bins=20);"
   ]
  },
  {
   "cell_type": "code",
   "execution_count": null,
   "metadata": {},
   "outputs": [],
   "source": [
    "df['stringency_index'].fillna(value=0, inplace=True)"
   ]
  },
  {
   "cell_type": "code",
   "execution_count": null,
   "metadata": {},
   "outputs": [],
   "source": [
    "df.isna().sum() / df.shape[0] * 100"
   ]
  },
  {
   "cell_type": "code",
   "execution_count": null,
   "metadata": {},
   "outputs": [],
   "source": [
    "countries_missing = df.loc[df['gdp_per_capita'].isna(), 'location'].unique()\n",
    "countries_missing"
   ]
  },
  {
   "cell_type": "code",
   "execution_count": null,
   "metadata": {},
   "outputs": [],
   "source": [
    "df.loc[df['gdp_per_capita'].isna(), 'location'].head()"
   ]
  },
  {
   "cell_type": "code",
   "execution_count": null,
   "metadata": {},
   "outputs": [],
   "source": [
    "df.dropna(how='any', axis=0, inplace=True)\n",
    "df.head()"
   ]
  },
  {
   "cell_type": "code",
   "execution_count": null,
   "metadata": {},
   "outputs": [],
   "source": [
    "df['month'] = df['date'].dt.month\n",
    "df['year'] = df['date'].dt.year\n",
    "df['week'] = df['date'].dt.week\n",
    "df['weekday'] = df['date'].dt.weekday\n",
    "df['quarter'] = df['date'].dt.quarter\n",
    "df['day_of_week'] = df['date'].dt.day_name()\n",
    "df['week_or_end'] = df['weekday'].apply(lambda x: 'weekend' if x >= 5 else 'week_day')\n",
    "df.head()"
   ]
  },
  {
   "cell_type": "code",
   "execution_count": null,
   "metadata": {},
   "outputs": [],
   "source": [
    "df.to_csv('covid19_ready_data.csv', index=False)"
   ]
  },
  {
   "cell_type": "markdown",
   "metadata": {},
   "source": [
    "# 4. EDA"
   ]
  },
  {
   "cell_type": "markdown",
   "metadata": {},
   "source": [
    "> \"This is my favorite part about analytics: Taking boring flat data and bringing it to life through visualization.\" ~ John Tukey"
   ]
  },
  {
   "cell_type": "code",
   "execution_count": null,
   "metadata": {},
   "outputs": [],
   "source": [
    "import pandas as pd\n",
    "import numpy as np\n",
    "import matplotlib.pyplot as plt\n",
    "import seaborn as sns\n",
    "\n",
    "plt.style.use('fivethirtyeight')\n",
    "pd.set_option('display.max_columns', None)\n",
    "pd.set_option('display.max_rows', None)\n",
    "pd.options.display.float_format = '{:.2f}'.format\n",
    "\n",
    "%matplotlib inline"
   ]
  },
  {
   "cell_type": "code",
   "execution_count": null,
   "metadata": {},
   "outputs": [],
   "source": [
    "df = pd.read_csv('covid19_ready_data.csv', low_memory=False)\n",
    "df.head()"
   ]
  },
  {
   "cell_type": "code",
   "execution_count": null,
   "metadata": {},
   "outputs": [],
   "source": [
    "month_continents = df[df['month'] != 12].pivot_table(\n",
    "    index=['month'],\n",
    "    values='total_cases',\n",
    "    columns='continent',\n",
    "    aggfunc='mean'\n",
    ")\n",
    "\n",
    "month_continents"
   ]
  },
  {
   "cell_type": "code",
   "execution_count": null,
   "metadata": {},
   "outputs": [],
   "source": [
    "month_continents.plot(title=\"Rise of COVID-19 Cases Per Continent\")"
   ]
  },
  {
   "cell_type": "code",
   "execution_count": null,
   "metadata": {},
   "outputs": [],
   "source": [
    "sns.boxplot(x=\"continent\", y=\"hospital_beds_per_thousand\", \n",
    "            hue=\"week_or_end\", data=df, palette=\"Set1\")\n",
    "plt.title(\"Availability of Beds by the Thousands in Each Continent by Weekend\")\n",
    "plt.xticks(rotation=45)\n",
    "plt.show()"
   ]
  },
  {
   "cell_type": "code",
   "execution_count": null,
   "metadata": {},
   "outputs": [],
   "source": [
    "sns.scatterplot(x='total_cases', y='total_deaths', hue='week_or_end', data=df)"
   ]
  },
  {
   "cell_type": "markdown",
   "metadata": {},
   "source": [
    "The following is an addapted example from Damien Farrell. You can find the source [code here](https://dmnfarrell.github.io/plotting/bokeh-covid19)."
   ]
  },
  {
   "cell_type": "code",
   "execution_count": null,
   "metadata": {},
   "outputs": [],
   "source": [
    "import random\n",
    "from bokeh.io import show, output_notebook\n",
    "from bokeh.models import ColumnDataSource, ColorBar, HoverTool, Legend\n",
    "from bokeh.plotting import figure\n",
    "from bokeh.palettes import brewer\n",
    "from bokeh.layouts import row, column, gridplot\n",
    "from bokeh.models import CustomJS, Slider, Select, Plot, Button, LinearAxis, Range1d, DatetimeTickFormatter\n",
    "from bokeh.models.glyphs import Line, MultiLine"
   ]
  },
  {
   "cell_type": "code",
   "execution_count": null,
   "metadata": {},
   "outputs": [],
   "source": [
    "from datetime import datetime\n",
    "df['new_date'] = df['date'].apply(lambda x: x.strftime(\"%d-%b\"))\n",
    "df['new_date'].head()"
   ]
  },
  {
   "cell_type": "code",
   "execution_count": null,
   "metadata": {},
   "outputs": [],
   "source": [
    "df = df.sort_values(['location', 'date'])\n",
    "\n",
    "df['cumcases'] = df.groupby(['location'])['total_cases'].apply(lambda x: x.cumsum())"
   ]
  },
  {
   "cell_type": "code",
   "execution_count": null,
   "metadata": {},
   "outputs": [],
   "source": [
    "data = pd.pivot_table(df, index='date', \n",
    "                      columns='location', \n",
    "                       values='cumcases').reset_index()"
   ]
  },
  {
   "cell_type": "code",
   "execution_count": null,
   "metadata": {},
   "outputs": [],
   "source": [
    "summary = (df.groupby('location')\n",
    "           .agg({'total_deaths':np.sum,\n",
    "                 'total_cases':np.sum})\n",
    "           .reset_index())"
   ]
  },
  {
   "cell_type": "code",
   "execution_count": null,
   "metadata": {},
   "outputs": [],
   "source": [
    "source = ColumnDataSource(data)"
   ]
  },
  {
   "cell_type": "code",
   "execution_count": null,
   "metadata": {},
   "outputs": [],
   "source": [
    "filt_data1 = data[['date','Australia']].rename(columns={'Australia':'total_cases'})"
   ]
  },
  {
   "cell_type": "code",
   "execution_count": null,
   "metadata": {},
   "outputs": [],
   "source": [
    "filt_data2 = data[['date', 'Dominican Republic']].rename(columns={'Dominican Republic':'total_cases'})"
   ]
  },
  {
   "cell_type": "code",
   "execution_count": null,
   "metadata": {},
   "outputs": [],
   "source": [
    "hover_tool = HoverTool(tooltips=[\n",
    "            ('Cases', '@total_cases'),\n",
    "            ('Date', '@date')],\n",
    "            formatters={'date': 'datetime'}\n",
    "        )"
   ]
  },
  {
   "cell_type": "code",
   "execution_count": null,
   "metadata": {},
   "outputs": [],
   "source": [
    "source = ColumnDataSource(data)\n",
    "\n",
    "filt_data1 = data[['date','Australia']].rename(columns={'Australia':'total_cases'})\n",
    "\n",
    "src2 = ColumnDataSource(filt_data1)\n",
    "\n",
    "filt_data2 = data[['date', 'Dominican Republic']].rename(columns={'Dominican Republic':'total_cases'})\n",
    "\n",
    "src3 = ColumnDataSource(filt_data2)\n",
    "\n",
    "hover_tool = HoverTool(tooltips=[\n",
    "            ('Cases', '@total_cases'),\n",
    "            ('Date', '@date')],\n",
    "            formatters={'date': 'datetime'}\n",
    "        )\n",
    "\n",
    "p1 = figure(plot_width=600, plot_height=400, x_axis_type='datetime',\n",
    "            tools=[hover_tool], title='Total COVID Cases Over Time',\n",
    "            y_range=Range1d(start=0, end=filt_data1['total_cases'].max() + 50))\n",
    "\n",
    "p1.line(x='date', y='total_cases', source=src2, legend_label=\"country 1\", \n",
    "        line_color='blue', line_width=3,line_alpha=.8)\n",
    "\n",
    "p1.extra_y_ranges = {\"y2\": Range1d(start=0, end=filt_data2['total_cases'].max() + 50)}\n",
    "\n",
    "p1.add_layout(LinearAxis(y_range_name=\"y2\"), 'right')\n",
    "p1.line(x='date',y='total_cases', source=src3, legend_label=\"country 2\", line_color='green',\n",
    "        line_width=3,line_alpha=.8,y_range_name=\"y2\")\n",
    "\n",
    "p1.yaxis[0].axis_label = 'Australia'\n",
    "p1.yaxis[1].axis_label = 'Dominican Republic'\n",
    "p1.background_fill_color = \"whitesmoke\"\n",
    "p1.background_fill_alpha = 0.5\n",
    "p1.legend.location = \"top_left\"\n",
    "p1.xaxis.axis_label = 'Date'\n",
    "p1.xaxis.formatter=DatetimeTickFormatter(days=\"%d/%m\", months=\"%m/%d %H:%M\")\n",
    "\n",
    "#JavaScript Snippet\n",
    "code=\"\"\"\n",
    "var c = cb_obj.value;\n",
    "ax.axis_label = c;\n",
    "var y = s1.data[c];\n",
    "s2.data['cases'] = y;\n",
    "y_range.start = 0;\n",
    "y_range.end = parseInt(y[y.length - 1]+50);\n",
    "s2.change.emit();\n",
    "\"\"\"\n",
    "\n",
    "callback1 = CustomJS(args=dict(s1=source,s2=src2,y_range=p1.y_range,ax=p1.yaxis[0]), code=code)\n",
    "\n",
    "callback2 = CustomJS(args=dict(s1=source,s2=src3,y_range=p1.extra_y_ranges['y2'],ax=p1.yaxis[1]), code=code)\n",
    "\n",
    "names = list(df.location.unique())\n",
    "\n",
    "names_sub=['Australia', 'United_Kingdom', 'United States', 'Spain', 'Italy', 'Germany',\n",
    "           'France','Iran','Dominican Republic','Ireland','Sweden','Belgium','Turkey', 'India']\n",
    "\n",
    "select1 = Select(title=\"Country 1:\", value='Australia', options=names_sub)\n",
    "\n",
    "select1.js_on_change('value', callback1)\n",
    "\n",
    "select2 = Select(title=\"Country 2:\", value='Dominican Republic', options=names)\n",
    "\n",
    "select2.js_on_change('value', callback2)\n",
    "\n",
    "btn = Button(label='Update')\n",
    "\n",
    "layout = column(row(select1,select2), row(p1))\n",
    "\n",
    "show(layout)"
   ]
  },
  {
   "cell_type": "code",
   "execution_count": null,
   "metadata": {},
   "outputs": [],
   "source": [
    "sns.pairplot(df[['total_cases', 'total_deaths', 'median_age', 'aged_65_older', 'aged_70_older']], kind=\"scatter\")\n",
    "plt.show()"
   ]
  },
  {
   "cell_type": "code",
   "execution_count": null,
   "metadata": {},
   "outputs": [],
   "source": [
    "import altair as alt"
   ]
  },
  {
   "cell_type": "code",
   "execution_count": null,
   "metadata": {},
   "outputs": [],
   "source": [
    "alt.Chart(df.sample(5000)).mark_circle().encode(\n",
    "    alt.X(alt.repeat(\"column\"), type='quantitative'),\n",
    "    alt.Y(alt.repeat(\"row\"), type='quantitative'),\n",
    "    color='Origin:N'\n",
    ").properties(\n",
    "    width=150,\n",
    "    height=150\n",
    ").repeat(\n",
    "    row=['total_cases', 'median_age', 'total_deaths'],\n",
    "    column=['total_cases', 'median_age', 'total_deaths']\n",
    ").interactive()"
   ]
  },
  {
   "cell_type": "code",
   "execution_count": null,
   "metadata": {},
   "outputs": [],
   "source": [
    "alt.Chart(df.sample(5000)).mark_circle(\n",
    "    opacity=0.8,\n",
    "    stroke='black',\n",
    "    strokeWidth=1\n",
    ").encode(\n",
    "    alt.X('new_date:O', axis=alt.Axis(labelAngle=0)),\n",
    "    alt.Y('day_of_week:N'),\n",
    "    alt.Size('total_cases:Q',\n",
    "        scale=alt.Scale(range=[0, 4000]),\n",
    "        legend=alt.Legend(title='Total COVID Cases')\n",
    "    ),\n",
    "    alt.Color('month:N', legend=None)\n",
    ").properties(\n",
    "    width=450,\n",
    "    height=320\n",
    ").transform_filter(\n",
    "    alt.datum.Entity != 'NA'\n",
    ")"
   ]
  },
  {
   "cell_type": "code",
   "execution_count": null,
   "metadata": {},
   "outputs": [],
   "source": [
    "alt.Chart(df.sample(5000)).transform_fold(\n",
    "    ['median_age', 'aged_65_older', 'aged_70_older'],\n",
    "    as_=['Ages', 'Cases']\n",
    ").mark_area(\n",
    "    opacity=0.3,\n",
    "    interpolate='step'\n",
    ").encode(\n",
    "    alt.X('Cases:Q', bin=alt.Bin(maxbins=40)),\n",
    "    alt.Y('count()', stack=None),\n",
    "    alt.Color('Ages:N')\n",
    ")"
   ]
  },
  {
   "cell_type": "markdown",
   "metadata": {},
   "source": [
    "# 5. Reporting"
   ]
  },
  {
   "cell_type": "markdown",
   "metadata": {},
   "source": [
    "This is a group exercise for our repository.\n",
    "\n",
    "Some questions to think about.\n",
    "\n",
    "- What's the key message?\n",
    "- What are some hypotheses one could test beyond initial EDA?\n",
    "- Should we gather more data?\n",
    "- ..."
   ]
  },
  {
   "cell_type": "markdown",
   "metadata": {},
   "source": [
    "# 6. Summary"
   ]
  },
  {
   "cell_type": "markdown",
   "metadata": {},
   "source": [
    "![done](https://media.giphy.com/media/xTiTnoFlplnVO1Sow0/giphy.gif)\n",
    "\n",
    "\n",
    "Well done! We have covered quite a lot in this course and this lesson summarises many of the crucial concepts very well.\n",
    "\n",
    "- State your task and create a to-do list with the requirements for the project.\n",
    "- Do some research on the topic, specially if it is outside your area of expertise.\n",
    "- Source the data.\n",
    "- Load, clean, inspect, save, and commit.\n",
    "- Explore your dataset.\n",
    "- Write your key findings down and put the most important points in your report."
   ]
  },
  {
   "cell_type": "markdown",
   "metadata": {},
   "source": [
    "# 7. Beyond Data Analysis"
   ]
  },
  {
   "cell_type": "markdown",
   "metadata": {},
   "source": [
    "Now that you are officially a data analyst, here are some recommendations for your jouney ahead.\n",
    "\n",
    "## Becoming a Better Programmer\n",
    "\n",
    "> “Any fool can write code that a computer can understand. Good programmers write code that humans can understand.” – Martin Fowler\n",
    "\n",
    "You have probably noticed throughout the course that programming is more than a skill one can acquire, it is a muscle that one needs to continued exercising in order to make it better and better each day. Here are some ideas for your next steps.\n",
    "\n",
    "1. Practice a lot with some of the essential concepts of programming, loops, functions and if-else statements. If you write a loop to iterate over an array, convert that into a function and vice-versa.\n",
    "2. Learn how to create your own data structures and classes by learning a bit of object-oriented programming.\n",
    "3. When you finish working on a project, grab all of the custom functions you built and put them into your own personal package.\n",
    "4. Create a dashboard as an app to display your findings.\n",
    "5. Practice using the command line and make git an essential part of your workflow.\n",
    "\n",
    "## Data Scientist Road\n",
    "\n",
    ">“By definition all scientists are data scientists. In my opinion, they are half hacker, half analyst, they use data to build products and find insights. It’s Columbus meet Columbo―starry-eyed explorers and skeptical detectives.” ― Monica Rogati, Independent Data Science Advisor\n",
    "\n",
    "The transition between being a data analyst and a data scientist can depend on many factors, so here is a non-exhaustive checklist for your road ahead (should you choose to go down this path of course).\n",
    "\n",
    "1. Learn NumPy, pandas, scipy, and matplotlib/seaborn very well.\n",
    "2. Data can get dirtier and dirtier the more you move into the data science space. Get as comfortable as you can with manipulating and cleaning unstructured data.\n",
    "2. Learn how to deal with large datasets in your local computer and in the cloud.\n",
    "3. Learn Statistics and learn how to design experiments.\n",
    "4. Get familiarised with machine learning and practice, practice, practice.\n",
    "5. Learn how to conduct large scale data analysis in the cloud. The top three players right now are AWS, Azure, and GCP.\n",
    "6. Repetition is key, whether you have a plan or not, a little bit of learning and doing each day goes a long way.\n",
    "\n",
    "Here are some resources covering some of the points mentioned above and throughout the lesson.\n",
    "\n",
    "- Ramalho, Luciano. *Fluent Python*. OReilly, 2016.\n",
    "- VanderPlas, Jake. *A Whirlwind Tour of Python*. OReilly, 2016.\n",
    "- Grus, Joel. *Data Science from Scratch*. OReilly, 2019.\n",
    "- [Coursera Statistics with Python Specialization](https://www.coursera.org/specializations/statistics-with-python)\n",
    "- [Machine Learning with Python by fastai](http://course18.fast.ai/ml)\n",
    "- [Full Machine Learning class by Pedro Domingos](https://www.youtube.com/user/UWCSE/playlists?shelf_id=16&sort=dd&view=50)\n",
    "- Mitchell, Ryan. *Web Scraping with Python: Collecting More Data from the Modern Web*. OReilly Media, Incorporated, 2018.\n",
    "- VanderPlas, Jake. _Python Data Science Handbook_. O'Reilly, 2017.\n",
    "- McKinney, Wes. _Python for Data Analysis: Data Wrangling with Pandas, NumPy, and IPython_. OReilly, 2018.\n",
    "- [Ryan's tutorial on bash scripting](https://ryanstutorials.net/bash-scripting-tutorial/)\n",
    "- [Learn X in Y Minutes](https://learnxinyminutes.com/docs/python/)\n",
    "\n",
    "\n",
    "# <center> <h1>Congratulations on Completing Intro to Data Analytics with Python - Great Job!!</h1> </center>"
   ]
  },
  {
   "cell_type": "markdown",
   "metadata": {},
   "source": [
    "# 8. Feedback"
   ]
  },
  {
   "cell_type": "markdown",
   "metadata": {},
   "source": [
    "We would really appreciate it if you could please provide us with your feedback from this session by filling a couple of question.\n",
    "\n",
    "> ## [Survey](https://docs.google.com/forms/d/e/1FAIpQLSdt3l-8oh2BGP1Jp-inYuHDkgtIi5hOqRSq6yTAN7uo6rHB7w/viewform?usp=sf_link)"
   ]
  }
 ],
 "metadata": {
  "kernelspec": {
   "display_name": "Python 3",
   "language": "python",
   "name": "python3"
  },
  "language_info": {
   "codemirror_mode": {
    "name": "ipython",
    "version": 3
   },
   "file_extension": ".py",
   "mimetype": "text/x-python",
   "name": "python",
   "nbconvert_exporter": "python",
   "pygments_lexer": "ipython3",
   "version": "3.7.7"
  }
 },
 "nbformat": 4,
 "nbformat_minor": 4
}
