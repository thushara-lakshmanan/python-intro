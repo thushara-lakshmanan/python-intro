{
 "cells": [
  {
   "cell_type": "markdown",
   "metadata": {},
   "source": [
    "# Statistics Mini Assessment Part 1"
   ]
  },
  {
   "cell_type": "markdown",
   "metadata": {},
   "source": [
    "## Exercise 1\n",
    "\n",
    "1. Load a dataset of your choosing from those found in Canvas. It can be the same one we are working with.\n",
    "2. Inspect it and write down at least 5 issues you identified in this step.\n",
    "3. Proceed to cleaning and preparing it for analysis."
   ]
  },
  {
   "cell_type": "code",
   "execution_count": 2,
   "metadata": {},
   "outputs": [
    {
     "data": {
      "text/html": [
       "<div>\n",
       "<style scoped>\n",
       "    .dataframe tbody tr th:only-of-type {\n",
       "        vertical-align: middle;\n",
       "    }\n",
       "\n",
       "    .dataframe tbody tr th {\n",
       "        vertical-align: top;\n",
       "    }\n",
       "\n",
       "    .dataframe thead th {\n",
       "        text-align: right;\n",
       "    }\n",
       "</style>\n",
       "<table border=\"1\" class=\"dataframe\">\n",
       "  <thead>\n",
       "    <tr style=\"text-align: right;\">\n",
       "      <th></th>\n",
       "      <th>latitude</th>\n",
       "      <th>longitude</th>\n",
       "      <th>brightness</th>\n",
       "      <th>scan</th>\n",
       "      <th>track</th>\n",
       "      <th>acq_date</th>\n",
       "      <th>acq_time</th>\n",
       "      <th>satellite</th>\n",
       "      <th>instrument</th>\n",
       "      <th>confidence</th>\n",
       "      <th>version</th>\n",
       "      <th>bright_t31</th>\n",
       "      <th>frp</th>\n",
       "      <th>daynight</th>\n",
       "      <th>type</th>\n",
       "    </tr>\n",
       "  </thead>\n",
       "  <tbody>\n",
       "    <tr>\n",
       "      <th>0</th>\n",
       "      <td>-11.8070</td>\n",
       "      <td>142.0583</td>\n",
       "      <td>313.0</td>\n",
       "      <td>1.0</td>\n",
       "      <td>1.0</td>\n",
       "      <td>2019-08-01</td>\n",
       "      <td>56</td>\n",
       "      <td>Terra</td>\n",
       "      <td>MODIS</td>\n",
       "      <td>48</td>\n",
       "      <td>6.3</td>\n",
       "      <td>297.3</td>\n",
       "      <td>6.6</td>\n",
       "      <td>D</td>\n",
       "      <td>0</td>\n",
       "    </tr>\n",
       "    <tr>\n",
       "      <th>1</th>\n",
       "      <td>-11.7924</td>\n",
       "      <td>142.0850</td>\n",
       "      <td>319.3</td>\n",
       "      <td>1.0</td>\n",
       "      <td>1.0</td>\n",
       "      <td>2019-08-01</td>\n",
       "      <td>56</td>\n",
       "      <td>Terra</td>\n",
       "      <td>MODIS</td>\n",
       "      <td>71</td>\n",
       "      <td>6.3</td>\n",
       "      <td>297.3</td>\n",
       "      <td>11.3</td>\n",
       "      <td>D</td>\n",
       "      <td>0</td>\n",
       "    </tr>\n",
       "    <tr>\n",
       "      <th>2</th>\n",
       "      <td>-12.8398</td>\n",
       "      <td>132.8744</td>\n",
       "      <td>311.6</td>\n",
       "      <td>3.1</td>\n",
       "      <td>1.7</td>\n",
       "      <td>2019-08-01</td>\n",
       "      <td>57</td>\n",
       "      <td>Terra</td>\n",
       "      <td>MODIS</td>\n",
       "      <td>42</td>\n",
       "      <td>6.3</td>\n",
       "      <td>298.7</td>\n",
       "      <td>23.1</td>\n",
       "      <td>D</td>\n",
       "      <td>0</td>\n",
       "    </tr>\n",
       "    <tr>\n",
       "      <th>3</th>\n",
       "      <td>-14.4306</td>\n",
       "      <td>143.3035</td>\n",
       "      <td>310.1</td>\n",
       "      <td>1.1</td>\n",
       "      <td>1.1</td>\n",
       "      <td>2019-08-01</td>\n",
       "      <td>57</td>\n",
       "      <td>Terra</td>\n",
       "      <td>MODIS</td>\n",
       "      <td>33</td>\n",
       "      <td>6.3</td>\n",
       "      <td>296.1</td>\n",
       "      <td>6.5</td>\n",
       "      <td>D</td>\n",
       "      <td>0</td>\n",
       "    </tr>\n",
       "    <tr>\n",
       "      <th>4</th>\n",
       "      <td>-12.4953</td>\n",
       "      <td>131.4897</td>\n",
       "      <td>310.3</td>\n",
       "      <td>4.0</td>\n",
       "      <td>1.9</td>\n",
       "      <td>2019-08-01</td>\n",
       "      <td>57</td>\n",
       "      <td>Terra</td>\n",
       "      <td>MODIS</td>\n",
       "      <td>36</td>\n",
       "      <td>6.3</td>\n",
       "      <td>298.8</td>\n",
       "      <td>27.6</td>\n",
       "      <td>D</td>\n",
       "      <td>0</td>\n",
       "    </tr>\n",
       "  </tbody>\n",
       "</table>\n",
       "</div>"
      ],
      "text/plain": [
       "   latitude  longitude  brightness  scan  track   acq_date  acq_time  \\\n",
       "0  -11.8070   142.0583       313.0   1.0    1.0 2019-08-01        56   \n",
       "1  -11.7924   142.0850       319.3   1.0    1.0 2019-08-01        56   \n",
       "2  -12.8398   132.8744       311.6   3.1    1.7 2019-08-01        57   \n",
       "3  -14.4306   143.3035       310.1   1.1    1.1 2019-08-01        57   \n",
       "4  -12.4953   131.4897       310.3   4.0    1.9 2019-08-01        57   \n",
       "\n",
       "  satellite instrument  confidence  version  bright_t31   frp daynight  type  \n",
       "0     Terra      MODIS          48      6.3       297.3   6.6        D     0  \n",
       "1     Terra      MODIS          71      6.3       297.3  11.3        D     0  \n",
       "2     Terra      MODIS          42      6.3       298.7  23.1        D     0  \n",
       "3     Terra      MODIS          33      6.3       296.1   6.5        D     0  \n",
       "4     Terra      MODIS          36      6.3       298.8  27.6        D     0  "
      ]
     },
     "execution_count": 2,
     "metadata": {},
     "output_type": "execute_result"
    }
   ],
   "source": [
    "import pandas as pd\n",
    "import numpy as np\n",
    "pd.set_option('display.max_columns', None)\n",
    "df = pd.read_csv('https://raw.githubusercontent.com/thushara-lakshmanan/python-intro/master/data/fire_australia.csv', parse_dates=['acq_date'])\n",
    "df.head()"
   ]
  },
  {
   "cell_type": "raw",
   "metadata": {},
   "source": [
    "# About Dataset \n",
    "This dataset contains information about the recent wildfires in Australia (from 2019-08-01 to 2020-01-11) from data collected by the NASA Satellite MODISC6.\n",
    "The dataset is available in kaggle and its almost clean.\n",
    "# Columns\n",
    "latitude:Center of 1km fire pixel\n",
    "Longitude: Center of 1km fire pixel\n",
    "brightness:Brightness temperature 21 (Kelvin):Channel 21/22 brightness temperature of the fire pixel measured in Kelvin.    \n",
    "scan/track:Scan and track reflect actual pixel size.\n",
    "acq_date-Date of MODIS acquisition\n",
    "acq_time:Time of acquisition/overpass of the satellite\n",
    "confidence(0-100%)- intended to help users gauge the quality of individual hotspot/fire pixels.Tree fire classes (low-confidence fire, nominal-confidence fire, or high-confidence fire\n",
    "bright_t31-Channel 31 brightness temperature of the fire pixel measured in Kelvin.\n",
    "frp-Depicts the pixel-integrated fire radiative power in MW (megawatts)."
   ]
  },
  {
   "cell_type": "code",
   "execution_count": null,
   "metadata": {},
   "outputs": [],
   "source": [
    "df.isna().sum()"
   ]
  },
  {
   "cell_type": "code",
   "execution_count": 60,
   "metadata": {},
   "outputs": [
    {
     "data": {
      "text/html": [
       "<div>\n",
       "<style scoped>\n",
       "    .dataframe tbody tr th:only-of-type {\n",
       "        vertical-align: middle;\n",
       "    }\n",
       "\n",
       "    .dataframe tbody tr th {\n",
       "        vertical-align: top;\n",
       "    }\n",
       "\n",
       "    .dataframe thead th {\n",
       "        text-align: right;\n",
       "    }\n",
       "</style>\n",
       "<table border=\"1\" class=\"dataframe\">\n",
       "  <thead>\n",
       "    <tr style=\"text-align: right;\">\n",
       "      <th></th>\n",
       "      <th>count</th>\n",
       "      <th>mean</th>\n",
       "      <th>std</th>\n",
       "      <th>min</th>\n",
       "      <th>25%</th>\n",
       "      <th>50%</th>\n",
       "      <th>75%</th>\n",
       "      <th>max</th>\n",
       "    </tr>\n",
       "  </thead>\n",
       "  <tbody>\n",
       "    <tr>\n",
       "      <th>latitude</th>\n",
       "      <td>36011.0</td>\n",
       "      <td>-19.100962</td>\n",
       "      <td>7.265777e+00</td>\n",
       "      <td>-42.7628</td>\n",
       "      <td>-26.37025</td>\n",
       "      <td>-15.7065</td>\n",
       "      <td>-13.3436</td>\n",
       "      <td>-10.0726</td>\n",
       "    </tr>\n",
       "    <tr>\n",
       "      <th>longitude</th>\n",
       "      <td>36011.0</td>\n",
       "      <td>138.931446</td>\n",
       "      <td>9.261400e+00</td>\n",
       "      <td>114.1043</td>\n",
       "      <td>131.07225</td>\n",
       "      <td>136.7385</td>\n",
       "      <td>147.4775</td>\n",
       "      <td>153.4904</td>\n",
       "    </tr>\n",
       "    <tr>\n",
       "      <th>brightness</th>\n",
       "      <td>36011.0</td>\n",
       "      <td>328.750696</td>\n",
       "      <td>1.899281e+01</td>\n",
       "      <td>300.0000</td>\n",
       "      <td>316.50000</td>\n",
       "      <td>326.4000</td>\n",
       "      <td>336.7000</td>\n",
       "      <td>504.4000</td>\n",
       "    </tr>\n",
       "    <tr>\n",
       "      <th>scan</th>\n",
       "      <td>36011.0</td>\n",
       "      <td>1.620905</td>\n",
       "      <td>8.137639e-01</td>\n",
       "      <td>1.0000</td>\n",
       "      <td>1.10000</td>\n",
       "      <td>1.3000</td>\n",
       "      <td>1.9000</td>\n",
       "      <td>4.8000</td>\n",
       "    </tr>\n",
       "    <tr>\n",
       "      <th>track</th>\n",
       "      <td>36011.0</td>\n",
       "      <td>1.215281</td>\n",
       "      <td>2.478522e-01</td>\n",
       "      <td>1.0000</td>\n",
       "      <td>1.00000</td>\n",
       "      <td>1.1000</td>\n",
       "      <td>1.3000</td>\n",
       "      <td>2.0000</td>\n",
       "    </tr>\n",
       "    <tr>\n",
       "      <th>acq_time</th>\n",
       "      <td>36011.0</td>\n",
       "      <td>600.025798</td>\n",
       "      <td>5.483691e+02</td>\n",
       "      <td>0.0000</td>\n",
       "      <td>205.00000</td>\n",
       "      <td>424.0000</td>\n",
       "      <td>600.0000</td>\n",
       "      <td>2359.0000</td>\n",
       "    </tr>\n",
       "    <tr>\n",
       "      <th>confidence</th>\n",
       "      <td>36011.0</td>\n",
       "      <td>67.551387</td>\n",
       "      <td>2.317995e+01</td>\n",
       "      <td>0.0000</td>\n",
       "      <td>52.00000</td>\n",
       "      <td>70.0000</td>\n",
       "      <td>86.0000</td>\n",
       "      <td>100.0000</td>\n",
       "    </tr>\n",
       "    <tr>\n",
       "      <th>version</th>\n",
       "      <td>36011.0</td>\n",
       "      <td>6.300000</td>\n",
       "      <td>3.728625e-12</td>\n",
       "      <td>6.3000</td>\n",
       "      <td>6.30000</td>\n",
       "      <td>6.3000</td>\n",
       "      <td>6.3000</td>\n",
       "      <td>6.3000</td>\n",
       "    </tr>\n",
       "    <tr>\n",
       "      <th>bright_t31</th>\n",
       "      <td>36011.0</td>\n",
       "      <td>301.339138</td>\n",
       "      <td>9.724462e+00</td>\n",
       "      <td>267.0000</td>\n",
       "      <td>293.60000</td>\n",
       "      <td>302.4000</td>\n",
       "      <td>308.6000</td>\n",
       "      <td>400.1000</td>\n",
       "    </tr>\n",
       "    <tr>\n",
       "      <th>frp</th>\n",
       "      <td>36011.0</td>\n",
       "      <td>51.132176</td>\n",
       "      <td>9.228011e+01</td>\n",
       "      <td>0.0000</td>\n",
       "      <td>13.80000</td>\n",
       "      <td>25.8000</td>\n",
       "      <td>52.8000</td>\n",
       "      <td>3679.5000</td>\n",
       "    </tr>\n",
       "    <tr>\n",
       "      <th>type</th>\n",
       "      <td>36011.0</td>\n",
       "      <td>0.019439</td>\n",
       "      <td>1.983263e-01</td>\n",
       "      <td>0.0000</td>\n",
       "      <td>0.00000</td>\n",
       "      <td>0.0000</td>\n",
       "      <td>0.0000</td>\n",
       "      <td>3.0000</td>\n",
       "    </tr>\n",
       "  </tbody>\n",
       "</table>\n",
       "</div>"
      ],
      "text/plain": [
       "              count        mean           std       min        25%       50%  \\\n",
       "latitude    36011.0  -19.100962  7.265777e+00  -42.7628  -26.37025  -15.7065   \n",
       "longitude   36011.0  138.931446  9.261400e+00  114.1043  131.07225  136.7385   \n",
       "brightness  36011.0  328.750696  1.899281e+01  300.0000  316.50000  326.4000   \n",
       "scan        36011.0    1.620905  8.137639e-01    1.0000    1.10000    1.3000   \n",
       "track       36011.0    1.215281  2.478522e-01    1.0000    1.00000    1.1000   \n",
       "acq_time    36011.0  600.025798  5.483691e+02    0.0000  205.00000  424.0000   \n",
       "confidence  36011.0   67.551387  2.317995e+01    0.0000   52.00000   70.0000   \n",
       "version     36011.0    6.300000  3.728625e-12    6.3000    6.30000    6.3000   \n",
       "bright_t31  36011.0  301.339138  9.724462e+00  267.0000  293.60000  302.4000   \n",
       "frp         36011.0   51.132176  9.228011e+01    0.0000   13.80000   25.8000   \n",
       "type        36011.0    0.019439  1.983263e-01    0.0000    0.00000    0.0000   \n",
       "\n",
       "                 75%        max  \n",
       "latitude    -13.3436   -10.0726  \n",
       "longitude   147.4775   153.4904  \n",
       "brightness  336.7000   504.4000  \n",
       "scan          1.9000     4.8000  \n",
       "track         1.3000     2.0000  \n",
       "acq_time    600.0000  2359.0000  \n",
       "confidence   86.0000   100.0000  \n",
       "version       6.3000     6.3000  \n",
       "bright_t31  308.6000   400.1000  \n",
       "frp          52.8000  3679.5000  \n",
       "type          0.0000     3.0000  "
      ]
     },
     "execution_count": 60,
     "metadata": {},
     "output_type": "execute_result"
    }
   ],
   "source": [
    "df.describe().T"
   ]
  },
  {
   "cell_type": "code",
   "execution_count": 63,
   "metadata": {},
   "outputs": [],
   "source": [
    "#Data preparation\n",
    "#Delete unwanted columns\n",
    "df.drop(['satellite','instrument','version','type'],axis=1,inplace=True)"
   ]
  },
  {
   "cell_type": "code",
   "execution_count": 142,
   "metadata": {},
   "outputs": [
    {
     "data": {
      "text/html": [
       "<div>\n",
       "<style scoped>\n",
       "    .dataframe tbody tr th:only-of-type {\n",
       "        vertical-align: middle;\n",
       "    }\n",
       "\n",
       "    .dataframe tbody tr th {\n",
       "        vertical-align: top;\n",
       "    }\n",
       "\n",
       "    .dataframe thead th {\n",
       "        text-align: right;\n",
       "    }\n",
       "</style>\n",
       "<table border=\"1\" class=\"dataframe\">\n",
       "  <thead>\n",
       "    <tr style=\"text-align: right;\">\n",
       "      <th></th>\n",
       "      <th>latitude</th>\n",
       "      <th>longitude</th>\n",
       "      <th>brightness</th>\n",
       "      <th>scan</th>\n",
       "      <th>track</th>\n",
       "      <th>acq_date</th>\n",
       "      <th>acq_time</th>\n",
       "      <th>confidence</th>\n",
       "      <th>bright_t31</th>\n",
       "      <th>frp</th>\n",
       "      <th>daynight</th>\n",
       "      <th>date_year</th>\n",
       "      <th>date_month</th>\n",
       "      <th>weekday</th>\n",
       "      <th>date_quarter</th>\n",
       "      <th>week_or_end</th>\n",
       "      <th>day_of_week</th>\n",
       "    </tr>\n",
       "  </thead>\n",
       "  <tbody>\n",
       "    <tr>\n",
       "      <th>36006</th>\n",
       "      <td>-28.0656</td>\n",
       "      <td>131.6334</td>\n",
       "      <td>312.7</td>\n",
       "      <td>1.2</td>\n",
       "      <td>1.1</td>\n",
       "      <td>2019-09-30</td>\n",
       "      <td>1644</td>\n",
       "      <td>85</td>\n",
       "      <td>292.9</td>\n",
       "      <td>14.2</td>\n",
       "      <td>N</td>\n",
       "      <td>2019</td>\n",
       "      <td>9</td>\n",
       "      <td>0</td>\n",
       "      <td>3</td>\n",
       "      <td>week_day</td>\n",
       "      <td>Monday</td>\n",
       "    </tr>\n",
       "    <tr>\n",
       "      <th>36007</th>\n",
       "      <td>-28.2625</td>\n",
       "      <td>128.5494</td>\n",
       "      <td>304.9</td>\n",
       "      <td>1.0</td>\n",
       "      <td>1.0</td>\n",
       "      <td>2019-09-30</td>\n",
       "      <td>1644</td>\n",
       "      <td>27</td>\n",
       "      <td>290.9</td>\n",
       "      <td>6.4</td>\n",
       "      <td>N</td>\n",
       "      <td>2019</td>\n",
       "      <td>9</td>\n",
       "      <td>0</td>\n",
       "      <td>3</td>\n",
       "      <td>week_day</td>\n",
       "      <td>Monday</td>\n",
       "    </tr>\n",
       "    <tr>\n",
       "      <th>36008</th>\n",
       "      <td>-28.2941</td>\n",
       "      <td>128.5123</td>\n",
       "      <td>301.7</td>\n",
       "      <td>1.0</td>\n",
       "      <td>1.0</td>\n",
       "      <td>2019-09-30</td>\n",
       "      <td>1644</td>\n",
       "      <td>43</td>\n",
       "      <td>290.4</td>\n",
       "      <td>5.5</td>\n",
       "      <td>N</td>\n",
       "      <td>2019</td>\n",
       "      <td>9</td>\n",
       "      <td>0</td>\n",
       "      <td>3</td>\n",
       "      <td>week_day</td>\n",
       "      <td>Monday</td>\n",
       "    </tr>\n",
       "    <tr>\n",
       "      <th>36009</th>\n",
       "      <td>-28.3001</td>\n",
       "      <td>128.5530</td>\n",
       "      <td>303.6</td>\n",
       "      <td>1.0</td>\n",
       "      <td>1.0</td>\n",
       "      <td>2019-09-30</td>\n",
       "      <td>1644</td>\n",
       "      <td>41</td>\n",
       "      <td>290.3</td>\n",
       "      <td>5.7</td>\n",
       "      <td>N</td>\n",
       "      <td>2019</td>\n",
       "      <td>9</td>\n",
       "      <td>0</td>\n",
       "      <td>3</td>\n",
       "      <td>week_day</td>\n",
       "      <td>Monday</td>\n",
       "    </tr>\n",
       "    <tr>\n",
       "      <th>36010</th>\n",
       "      <td>-30.8641</td>\n",
       "      <td>121.4995</td>\n",
       "      <td>309.1</td>\n",
       "      <td>1.8</td>\n",
       "      <td>1.3</td>\n",
       "      <td>2019-09-30</td>\n",
       "      <td>1645</td>\n",
       "      <td>77</td>\n",
       "      <td>290.9</td>\n",
       "      <td>23.0</td>\n",
       "      <td>N</td>\n",
       "      <td>2019</td>\n",
       "      <td>9</td>\n",
       "      <td>0</td>\n",
       "      <td>3</td>\n",
       "      <td>week_day</td>\n",
       "      <td>Monday</td>\n",
       "    </tr>\n",
       "  </tbody>\n",
       "</table>\n",
       "</div>"
      ],
      "text/plain": [
       "       latitude  longitude  brightness  scan  track   acq_date  acq_time  \\\n",
       "36006  -28.0656   131.6334       312.7   1.2    1.1 2019-09-30      1644   \n",
       "36007  -28.2625   128.5494       304.9   1.0    1.0 2019-09-30      1644   \n",
       "36008  -28.2941   128.5123       301.7   1.0    1.0 2019-09-30      1644   \n",
       "36009  -28.3001   128.5530       303.6   1.0    1.0 2019-09-30      1644   \n",
       "36010  -30.8641   121.4995       309.1   1.8    1.3 2019-09-30      1645   \n",
       "\n",
       "       confidence  bright_t31   frp daynight  date_year  date_month  weekday  \\\n",
       "36006          85       292.9  14.2        N       2019           9        0   \n",
       "36007          27       290.9   6.4        N       2019           9        0   \n",
       "36008          43       290.4   5.5        N       2019           9        0   \n",
       "36009          41       290.3   5.7        N       2019           9        0   \n",
       "36010          77       290.9  23.0        N       2019           9        0   \n",
       "\n",
       "       date_quarter week_or_end day_of_week  \n",
       "36006             3    week_day      Monday  \n",
       "36007             3    week_day      Monday  \n",
       "36008             3    week_day      Monday  \n",
       "36009             3    week_day      Monday  \n",
       "36010             3    week_day      Monday  "
      ]
     },
     "execution_count": 142,
     "metadata": {},
     "output_type": "execute_result"
    }
   ],
   "source": [
    "#additional date variables\n",
    "df['date_year']=df['acq_date'].dt.year\n",
    "df['date_month']=df['acq_date'].dt.month\n",
    "df['weekday']=df['acq_date'].dt.weekday\n",
    "df['day_of_week'] = df['acq_date'].dt.day_name()\n",
    "df['date_quarter']=df['acq_date'].dt.quarter\n",
    "df['week_or_end']=df['weekday'].apply(lambda x:'weekend' if x>=5 else 'week_day')\n",
    "df.tail()"
   ]
  },
  {
   "cell_type": "markdown",
   "metadata": {},
   "source": [
    "## Exercise 2\n",
    "\n",
    "1. Create a function from scratch that takes in an array and calculates the average. You can benchmark your function against `np.mean()` for validation.\n",
    "2. Test is with at least 2 columns with quantitative data."
   ]
  },
  {
   "cell_type": "code",
   "execution_count": 9,
   "metadata": {},
   "outputs": [
    {
     "name": "stdout",
     "output_type": "stream",
     "text": [
      "328.7506956207812\n",
      "1.6209047235565204\n"
     ]
    }
   ],
   "source": [
    "def fnmean(arr):\n",
    "    n=len(arr)\n",
    "    ans=sum(arr)/n\n",
    "    return ans\n",
    "    \n",
    "print(fnmean(df['brightness']))\n",
    "print(fnmean(df['scan']))"
   ]
  },
  {
   "cell_type": "code",
   "execution_count": 10,
   "metadata": {},
   "outputs": [
    {
     "data": {
      "text/plain": [
       "328.7506956207812"
      ]
     },
     "execution_count": 10,
     "metadata": {},
     "output_type": "execute_result"
    }
   ],
   "source": [
    "np.mean(df['brightness'])"
   ]
  },
  {
   "cell_type": "code",
   "execution_count": 11,
   "metadata": {},
   "outputs": [
    {
     "data": {
      "text/plain": [
       "1.6209047235565204"
      ]
     },
     "execution_count": 11,
     "metadata": {},
     "output_type": "execute_result"
    }
   ],
   "source": [
    "np.mean(df['scan'])"
   ]
  },
  {
   "cell_type": "markdown",
   "metadata": {},
   "source": [
    "## Exercise 3\n",
    "\n",
    "1. Create a function from scratch that takes in an array and calculates the median. You can benchmark your function against `np.median()` for validation.\n",
    "2. Test is with at least 2 columns with quantitative data."
   ]
  },
  {
   "cell_type": "code",
   "execution_count": 12,
   "metadata": {},
   "outputs": [
    {
     "name": "stdout",
     "output_type": "stream",
     "text": [
      "326.4\n",
      "1.3\n",
      "4\n",
      "4.5\n"
     ]
    }
   ],
   "source": [
    "def fnmedian(arr):\n",
    "    #odd number-get middle no\n",
    "    n=len(arr)\n",
    "    if n%2==1:\n",
    "        ans=sorted(arr)[int(n / 2)]\n",
    "    #even number\n",
    "    elif n%2==0:\n",
    "            ans=(sorted(arr)[n // 2 - 1] + sorted(arr)[n // 2]) / 2\n",
    "    return ans\n",
    "\n",
    "print(fnmedian(df['brightness']))\n",
    "print(fnmedian(df['scan']))\n",
    "print(fnmedian(np.arange(9)))\n",
    "print(fnmedian(np.arange(10)))"
   ]
  },
  {
   "cell_type": "code",
   "execution_count": 13,
   "metadata": {},
   "outputs": [
    {
     "data": {
      "text/plain": [
       "326.4"
      ]
     },
     "execution_count": 13,
     "metadata": {},
     "output_type": "execute_result"
    }
   ],
   "source": [
    "np.median(df['brightness'])"
   ]
  },
  {
   "cell_type": "code",
   "execution_count": 14,
   "metadata": {},
   "outputs": [
    {
     "data": {
      "text/plain": [
       "1.3"
      ]
     },
     "execution_count": 14,
     "metadata": {},
     "output_type": "execute_result"
    }
   ],
   "source": [
    "np.median(df['scan'])"
   ]
  },
  {
   "cell_type": "code",
   "execution_count": 15,
   "metadata": {},
   "outputs": [
    {
     "data": {
      "text/plain": [
       "4.0"
      ]
     },
     "execution_count": 15,
     "metadata": {},
     "output_type": "execute_result"
    }
   ],
   "source": [
    "np.median(np.arange(9))"
   ]
  },
  {
   "cell_type": "markdown",
   "metadata": {},
   "source": [
    "## Exercise 4\n",
    "\n",
    "1. Create a function from scratch that takes in an array and calculates the variance. You can benchmark your function against `np.var()` for validation.\n",
    "2. Test is with at least 2 columns with quantitative data."
   ]
  },
  {
   "cell_type": "code",
   "execution_count": 16,
   "metadata": {},
   "outputs": [
    {
     "name": "stdout",
     "output_type": "stream",
     "text": [
      "360.7167257247705\n",
      "0.6621932999389959\n"
     ]
    }
   ],
   "source": [
    "def fnvar(arr):\n",
    "    n=len(arr)\n",
    "    x_mean=arr.mean()\n",
    "    ans=sum([(x - x_mean) ** 2 for x in arr]) / (n)\n",
    "    return ans\n",
    "    \n",
    "print(fnvar(df['brightness']))\n",
    "print(fnvar(df['scan']))"
   ]
  },
  {
   "cell_type": "code",
   "execution_count": 19,
   "metadata": {},
   "outputs": [
    {
     "data": {
      "text/plain": [
       "360.7167257247705"
      ]
     },
     "execution_count": 19,
     "metadata": {},
     "output_type": "execute_result"
    }
   ],
   "source": [
    "np.var(df['brightness'])"
   ]
  },
  {
   "cell_type": "code",
   "execution_count": 20,
   "metadata": {},
   "outputs": [
    {
     "data": {
      "text/plain": [
       "0.6621932999389959"
      ]
     },
     "execution_count": 20,
     "metadata": {},
     "output_type": "execute_result"
    }
   ],
   "source": [
    "np.var(df['scan'])"
   ]
  },
  {
   "cell_type": "code",
   "execution_count": 23,
   "metadata": {},
   "outputs": [
    {
     "data": {
      "text/plain": [
       "8.25"
      ]
     },
     "execution_count": 23,
     "metadata": {},
     "output_type": "execute_result"
    }
   ],
   "source": [
    "np.var(np.arange(10))"
   ]
  },
  {
   "cell_type": "code",
   "execution_count": 24,
   "metadata": {},
   "outputs": [
    {
     "name": "stdout",
     "output_type": "stream",
     "text": [
      "8.25\n"
     ]
    }
   ],
   "source": [
    "print(np.var(np.arange(10)))"
   ]
  },
  {
   "cell_type": "markdown",
   "metadata": {},
   "source": [
    "## Exercise 5\n",
    "\n",
    "1. Create a function from scratch that takes in an array and calculates the minimum value. You can benchmark your function against `np.min()` for validation.\n",
    "2. Test is with at least 2 columns with quantitative data."
   ]
  },
  {
   "cell_type": "code",
   "execution_count": 25,
   "metadata": {},
   "outputs": [
    {
     "name": "stdout",
     "output_type": "stream",
     "text": [
      "300.0\n",
      "1.0\n"
     ]
    }
   ],
   "source": [
    "def fnmin(arr):\n",
    "    ans=sorted(arr)[0]\n",
    "    return ans\n",
    "    \n",
    "print(fnmin(df['brightness']))\n",
    "print(fnmin(df['scan']))"
   ]
  },
  {
   "cell_type": "code",
   "execution_count": 26,
   "metadata": {},
   "outputs": [
    {
     "data": {
      "text/plain": [
       "300.0"
      ]
     },
     "execution_count": 26,
     "metadata": {},
     "output_type": "execute_result"
    }
   ],
   "source": [
    "np.min(df['brightness'])"
   ]
  },
  {
   "cell_type": "code",
   "execution_count": 27,
   "metadata": {},
   "outputs": [
    {
     "data": {
      "text/plain": [
       "1.0"
      ]
     },
     "execution_count": 27,
     "metadata": {},
     "output_type": "execute_result"
    }
   ],
   "source": [
    "np.min(df['scan'])"
   ]
  },
  {
   "cell_type": "markdown",
   "metadata": {},
   "source": [
    "## Exercise 6\n",
    "\n",
    "1. Create a function from scratch that takes in an array and calculates the maximum value. You can benchmark your function against `np.max()` for validation.\n",
    "2. Test is with at least 2 columns with quantitative data."
   ]
  },
  {
   "cell_type": "code",
   "execution_count": 28,
   "metadata": {},
   "outputs": [
    {
     "name": "stdout",
     "output_type": "stream",
     "text": [
      "504.4\n",
      "4.8\n"
     ]
    }
   ],
   "source": [
    "def fnmax(arr):\n",
    "    ans=sorted(arr)[-1]\n",
    "    return ans\n",
    "    \n",
    "print(fnmax(df['brightness']))\n",
    "print(fnmax(df['scan']))"
   ]
  },
  {
   "cell_type": "code",
   "execution_count": 29,
   "metadata": {},
   "outputs": [
    {
     "data": {
      "text/plain": [
       "504.4"
      ]
     },
     "execution_count": 29,
     "metadata": {},
     "output_type": "execute_result"
    }
   ],
   "source": [
    "np.max(df['brightness'])"
   ]
  },
  {
   "cell_type": "code",
   "execution_count": 30,
   "metadata": {},
   "outputs": [
    {
     "data": {
      "text/plain": [
       "4.8"
      ]
     },
     "execution_count": 30,
     "metadata": {},
     "output_type": "execute_result"
    }
   ],
   "source": [
    "np.max(df['scan'])"
   ]
  },
  {
   "cell_type": "markdown",
   "metadata": {},
   "source": [
    "## Exercise 7\n",
    "\n",
    "1. Create a function from scratch that takes in an array and a percentage value as a float, and calculates the percentile of the array chosen. You can benchmark your function against `np.percentile()` for validation.\n",
    "2. Test is with at least 2 columns with quantitative data."
   ]
  },
  {
   "cell_type": "code",
   "execution_count": 31,
   "metadata": {},
   "outputs": [
    {
     "name": "stdout",
     "output_type": "stream",
     "text": [
      "316.5\n",
      "1.9\n"
     ]
    }
   ],
   "source": [
    "def fnpercent(arr,p):\n",
    "    n=len(arr)\n",
    "    ans=sorted(arr)[int((p/100) * n)]\n",
    "    return ans\n",
    "    \n",
    "print(fnpercent(df['brightness'],25))\n",
    "print(fnpercent(df['scan'],75))"
   ]
  },
  {
   "cell_type": "code",
   "execution_count": 32,
   "metadata": {},
   "outputs": [
    {
     "data": {
      "text/plain": [
       "316.5"
      ]
     },
     "execution_count": 32,
     "metadata": {},
     "output_type": "execute_result"
    }
   ],
   "source": [
    "np.percentile(df['brightness'],25)"
   ]
  },
  {
   "cell_type": "code",
   "execution_count": 33,
   "metadata": {},
   "outputs": [
    {
     "data": {
      "text/plain": [
       "1.9"
      ]
     },
     "execution_count": 33,
     "metadata": {},
     "output_type": "execute_result"
    }
   ],
   "source": [
    "np.percentile(df['scan'],75)"
   ]
  },
  {
   "cell_type": "markdown",
   "metadata": {},
   "source": [
    "## Exercise 8\n",
    "\n",
    "1. Create a function from scratch that takes in an array and calculates the range of such array. You can benchmark your function against `np.ptp()` for validation.\n",
    "2. Test is with at least 2 columns with quantitative data."
   ]
  },
  {
   "cell_type": "code",
   "execution_count": 34,
   "metadata": {},
   "outputs": [
    {
     "name": "stdout",
     "output_type": "stream",
     "text": [
      "204.39999999999998\n",
      "3.8\n"
     ]
    }
   ],
   "source": [
    "def fnptp(arr):\n",
    "    ans=sorted(arr)[-1] - sorted(arr)[0]\n",
    "    return ans\n",
    "    \n",
    "print(fnptp(df['brightness']))\n",
    "print(fnptp(df['scan']))"
   ]
  },
  {
   "cell_type": "code",
   "execution_count": 35,
   "metadata": {},
   "outputs": [
    {
     "data": {
      "text/plain": [
       "204.39999999999998"
      ]
     },
     "execution_count": 35,
     "metadata": {},
     "output_type": "execute_result"
    }
   ],
   "source": [
    "np.ptp(df['brightness'])"
   ]
  },
  {
   "cell_type": "code",
   "execution_count": 36,
   "metadata": {},
   "outputs": [
    {
     "data": {
      "text/plain": [
       "3.8"
      ]
     },
     "execution_count": 36,
     "metadata": {},
     "output_type": "execute_result"
    }
   ],
   "source": [
    "np.ptp(df['scan'])"
   ]
  },
  {
   "cell_type": "markdown",
   "metadata": {},
   "source": [
    "## Exercise 9\n",
    "\n",
    "1. Create a function from scratch that takes in an array and return the min and max value of an array as a tuple. You can benchmark your function against `np.min()` and `np.max()` for validation.\n",
    "2. Test is with at least 2 columns with quantitative data."
   ]
  },
  {
   "cell_type": "code",
   "execution_count": 37,
   "metadata": {},
   "outputs": [
    {
     "name": "stdout",
     "output_type": "stream",
     "text": [
      "(300.0, 504.4)\n",
      "(1.0, 4.8)\n"
     ]
    }
   ],
   "source": [
    "def fnminandmax(arr):\n",
    "    minimum=sorted(arr)[0]\n",
    "    maximum=sorted(arr)[-1]\n",
    "    ans=(minimum,maximum)\n",
    "    return ans\n",
    "    \n",
    "print(fnminandmax(df['brightness']))\n",
    "print(fnminandmax(df['scan']))"
   ]
  },
  {
   "cell_type": "markdown",
   "metadata": {},
   "source": [
    "## Exercise 10\n",
    "\n",
    "1. Create a function from scratch that takes two arrays and returns the correlation between both. You can benchmark your function against the examples provided in class.\n",
    "2. Test is with at least 2 pairs of columns with quantitative data."
   ]
  },
  {
   "cell_type": "code",
   "execution_count": 52,
   "metadata": {},
   "outputs": [
    {
     "name": "stdout",
     "output_type": "stream",
     "text": [
      "-0.10594007314532211\n",
      "0.6068444970040024\n"
     ]
    }
   ],
   "source": [
    "def fncorr(x,y):\n",
    "    mean_x=x.mean()\n",
    "    mean_y=y.mean()\n",
    "    arry_sum=sum((x-mean_x)*(y-mean_y))\n",
    "    arry_sqrt=np.sqrt(sum((x-mean_x)**2)*sum((y-mean_y)**2))\n",
    "    return arry_sum/arry_sqrt\n",
    "    \n",
    "print(fncorr(df['brightness'],df['scan']))\n",
    "print(fncorr(df['brightness'],df['bright_t31']))\n"
   ]
  },
  {
   "cell_type": "code",
   "execution_count": 50,
   "metadata": {},
   "outputs": [
    {
     "data": {
      "text/plain": [
       "-0.10594007314531219"
      ]
     },
     "execution_count": 50,
     "metadata": {},
     "output_type": "execute_result"
    }
   ],
   "source": [
    "df['brightness'].corr(df['scan'])"
   ]
  },
  {
   "cell_type": "code",
   "execution_count": 51,
   "metadata": {},
   "outputs": [
    {
     "data": {
      "text/plain": [
       "0.6068444970039936"
      ]
     },
     "execution_count": 51,
     "metadata": {},
     "output_type": "execute_result"
    }
   ],
   "source": [
    "df['brightness'].corr(df['bright_t31'])"
   ]
  },
  {
   "cell_type": "markdown",
   "metadata": {},
   "source": [
    "## Exercise 11\n",
    "\n",
    "1. Create a function from scratch that takes two arrays and returns the covariance between both. You can benchmark your function against the example provided in class.\n",
    "2. Test is with at least 2 pairs of columns with quantitative data."
   ]
  },
  {
   "cell_type": "code",
   "execution_count": 56,
   "metadata": {},
   "outputs": [
    {
     "name": "stdout",
     "output_type": "stream",
     "text": [
      "-1.637328418075769\n"
     ]
    }
   ],
   "source": [
    "def fncovar(a,b):\n",
    "    mean_a=a.mean()\n",
    "    mean_b=b.mean()\n",
    "    n=len(a)\n",
    "    covar=sum((a - mean_a) * (b - mean_b)) / len(a)\n",
    "    return covar\n",
    "print(fncovar(df['brightness'],df['scan']))"
   ]
  },
  {
   "cell_type": "code",
   "execution_count": 57,
   "metadata": {},
   "outputs": [
    {
     "data": {
      "text/plain": [
       "-1.6373284180757297"
      ]
     },
     "execution_count": 57,
     "metadata": {},
     "output_type": "execute_result"
    }
   ],
   "source": [
    "np.dot((df['brightness'] - df['brightness'].mean()), (df['scan'] - df['scan'].mean())) / len(df['brightness'])"
   ]
  },
  {
   "cell_type": "markdown",
   "metadata": {},
   "source": [
    "## Exercise 12\n",
    "\n",
    "1. Create a function from scratch that takes in an array and calculates the standard deviation. You can benchmark your function against `np.std()` for validation.\n",
    "2. Test is with at least 2 pairs of columns with quantitative data."
   ]
  },
  {
   "cell_type": "code",
   "execution_count": 81,
   "metadata": {},
   "outputs": [
    {
     "name": "stdout",
     "output_type": "stream",
     "text": [
      "18.992543950844777\n",
      "0.8137526036449874\n"
     ]
    }
   ],
   "source": [
    "#standard deviation is square root of variance\n",
    "def fnstd(x):\n",
    "    n=len(x)\n",
    "    x_mean=x.mean()\n",
    "    s2=sum([(i - x_mean) ** 2 for i in x]) / (n)\n",
    "    s=np.sqrt(s2)\n",
    "    return s\n",
    "    \n",
    "print(fnstd(df['brightness']))\n",
    "print(fnstd(df['scan']))"
   ]
  },
  {
   "cell_type": "code",
   "execution_count": 73,
   "metadata": {},
   "outputs": [
    {
     "data": {
      "text/plain": [
       "18.992807661093273"
      ]
     },
     "execution_count": 73,
     "metadata": {},
     "output_type": "execute_result"
    }
   ],
   "source": [
    "df['brightness'].std()"
   ]
  },
  {
   "cell_type": "code",
   "execution_count": 74,
   "metadata": {},
   "outputs": [
    {
     "data": {
      "text/plain": [
       "0.8137639025474344"
      ]
     },
     "execution_count": 74,
     "metadata": {},
     "output_type": "execute_result"
    }
   ],
   "source": [
    "df['scan'].std()"
   ]
  },
  {
   "cell_type": "markdown",
   "metadata": {},
   "source": [
    "## Exercise 13\n",
    "\n",
    "1. Create 2 pivot tables with different layers of complexity. Use both, categorical and quantitative variables.\n",
    "2. Creat 2 visualisations, one with each."
   ]
  },
  {
   "cell_type": "code",
   "execution_count": 149,
   "metadata": {},
   "outputs": [
    {
     "data": {
      "text/html": [
       "<div>\n",
       "<style scoped>\n",
       "    .dataframe tbody tr th:only-of-type {\n",
       "        vertical-align: middle;\n",
       "    }\n",
       "\n",
       "    .dataframe tbody tr th {\n",
       "        vertical-align: top;\n",
       "    }\n",
       "\n",
       "    .dataframe thead th {\n",
       "        text-align: right;\n",
       "    }\n",
       "</style>\n",
       "<table border=\"1\" class=\"dataframe\">\n",
       "  <thead>\n",
       "    <tr style=\"text-align: right;\">\n",
       "      <th></th>\n",
       "      <th>bright_t31</th>\n",
       "      <th>brightness</th>\n",
       "      <th>weekday</th>\n",
       "    </tr>\n",
       "    <tr>\n",
       "      <th>day_of_week</th>\n",
       "      <th></th>\n",
       "      <th></th>\n",
       "      <th></th>\n",
       "    </tr>\n",
       "  </thead>\n",
       "  <tbody>\n",
       "    <tr>\n",
       "      <th>Monday</th>\n",
       "      <td>300.080256</td>\n",
       "      <td>329.348830</td>\n",
       "      <td>0</td>\n",
       "    </tr>\n",
       "    <tr>\n",
       "      <th>Tuesday</th>\n",
       "      <td>301.723299</td>\n",
       "      <td>327.781133</td>\n",
       "      <td>1</td>\n",
       "    </tr>\n",
       "    <tr>\n",
       "      <th>Wednesday</th>\n",
       "      <td>302.414024</td>\n",
       "      <td>328.280720</td>\n",
       "      <td>2</td>\n",
       "    </tr>\n",
       "    <tr>\n",
       "      <th>Thursday</th>\n",
       "      <td>301.611153</td>\n",
       "      <td>327.654859</td>\n",
       "      <td>3</td>\n",
       "    </tr>\n",
       "    <tr>\n",
       "      <th>Friday</th>\n",
       "      <td>301.213578</td>\n",
       "      <td>329.679057</td>\n",
       "      <td>4</td>\n",
       "    </tr>\n",
       "    <tr>\n",
       "      <th>Saturday</th>\n",
       "      <td>300.756506</td>\n",
       "      <td>329.545470</td>\n",
       "      <td>5</td>\n",
       "    </tr>\n",
       "    <tr>\n",
       "      <th>Sunday</th>\n",
       "      <td>301.728949</td>\n",
       "      <td>328.735394</td>\n",
       "      <td>6</td>\n",
       "    </tr>\n",
       "  </tbody>\n",
       "</table>\n",
       "</div>"
      ],
      "text/plain": [
       "             bright_t31  brightness  weekday\n",
       "day_of_week                                 \n",
       "Monday       300.080256  329.348830        0\n",
       "Tuesday      301.723299  327.781133        1\n",
       "Wednesday    302.414024  328.280720        2\n",
       "Thursday     301.611153  327.654859        3\n",
       "Friday       301.213578  329.679057        4\n",
       "Saturday     300.756506  329.545470        5\n",
       "Sunday       301.728949  328.735394        6"
      ]
     },
     "execution_count": 149,
     "metadata": {},
     "output_type": "execute_result"
    }
   ],
   "source": [
    "by_weekday=df.pivot_table(\n",
    "                    aggfunc='mean',\n",
    "                    values=['weekday','brightness','bright_t31'],\n",
    "                    index=['day_of_week'])\n",
    "by_weekday.sort_values(by=['weekday'],inplace=True)\n",
    "by_weekday\n"
   ]
  },
  {
   "cell_type": "code",
   "execution_count": 164,
   "metadata": {},
   "outputs": [
    {
     "data": {
      "image/png": "[encoded data removed]",
      "text/plain": [
       "<Figure size 432x288 with 1 Axes>"
      ]
     },
     "metadata": {
      "needs_background": "light"
     },
     "output_type": "display_data"
    }
   ],
   "source": [
    "import pandas as pd\n",
    "import numpy as np\n",
    "import matplotlib.pyplot as plt\n",
    "plt.style.use('seaborn-white')\n",
    "\n",
    "%matplotlib inline\n",
    "\n",
    "fig, ax = plt.subplots()\n",
    "ax.set_xlabel(\"Day of week\")\n",
    "ax.set_ylabel(\"Average Brightness in Kelvin\")\n",
    "ax.plot(by_weekday.index, by_week['brightness'],label='brightness',marker='o')\n",
    "ax.plot(by_weekday.index, by_week['bright_t31'],label='bright_t31',marker='v')\n",
    "plt.legend()\n",
    "plt.show()"
   ]
  },
  {
   "cell_type": "code",
   "execution_count": 155,
   "metadata": {},
   "outputs": [
    {
     "data": {
      "text/html": [
       "<div>\n",
       "<style scoped>\n",
       "    .dataframe tbody tr th:only-of-type {\n",
       "        vertical-align: middle;\n",
       "    }\n",
       "\n",
       "    .dataframe tbody tr th {\n",
       "        vertical-align: top;\n",
       "    }\n",
       "\n",
       "    .dataframe thead tr th {\n",
       "        text-align: left;\n",
       "    }\n",
       "\n",
       "    .dataframe thead tr:last-of-type th {\n",
       "        text-align: right;\n",
       "    }\n",
       "</style>\n",
       "<table border=\"1\" class=\"dataframe\">\n",
       "  <thead>\n",
       "    <tr>\n",
       "      <th></th>\n",
       "      <th></th>\n",
       "      <th>mean</th>\n",
       "    </tr>\n",
       "    <tr>\n",
       "      <th></th>\n",
       "      <th></th>\n",
       "      <th>brightness</th>\n",
       "    </tr>\n",
       "    <tr>\n",
       "      <th>day_of_week</th>\n",
       "      <th>daynight</th>\n",
       "      <th></th>\n",
       "    </tr>\n",
       "  </thead>\n",
       "  <tbody>\n",
       "    <tr>\n",
       "      <th rowspan=\"2\" valign=\"top\">Friday</th>\n",
       "      <th>D</th>\n",
       "      <td>333.239526</td>\n",
       "    </tr>\n",
       "    <tr>\n",
       "      <th>N</th>\n",
       "      <td>318.203270</td>\n",
       "    </tr>\n",
       "    <tr>\n",
       "      <th rowspan=\"2\" valign=\"top\">Monday</th>\n",
       "      <th>D</th>\n",
       "      <td>333.623055</td>\n",
       "    </tr>\n",
       "    <tr>\n",
       "      <th>N</th>\n",
       "      <td>313.920634</td>\n",
       "    </tr>\n",
       "    <tr>\n",
       "      <th rowspan=\"2\" valign=\"top\">Saturday</th>\n",
       "      <th>D</th>\n",
       "      <td>333.261220</td>\n",
       "    </tr>\n",
       "    <tr>\n",
       "      <th>N</th>\n",
       "      <td>316.695314</td>\n",
       "    </tr>\n",
       "    <tr>\n",
       "      <th rowspan=\"2\" valign=\"top\">Sunday</th>\n",
       "      <th>D</th>\n",
       "      <td>333.322145</td>\n",
       "    </tr>\n",
       "    <tr>\n",
       "      <th>N</th>\n",
       "      <td>314.568970</td>\n",
       "    </tr>\n",
       "    <tr>\n",
       "      <th rowspan=\"2\" valign=\"top\">Thursday</th>\n",
       "      <th>D</th>\n",
       "      <td>331.835620</td>\n",
       "    </tr>\n",
       "    <tr>\n",
       "      <th>N</th>\n",
       "      <td>312.339753</td>\n",
       "    </tr>\n",
       "    <tr>\n",
       "      <th rowspan=\"2\" valign=\"top\">Tuesday</th>\n",
       "      <th>D</th>\n",
       "      <td>331.424422</td>\n",
       "    </tr>\n",
       "    <tr>\n",
       "      <th>N</th>\n",
       "      <td>312.960112</td>\n",
       "    </tr>\n",
       "    <tr>\n",
       "      <th rowspan=\"2\" valign=\"top\">Wednesday</th>\n",
       "      <th>D</th>\n",
       "      <td>331.780219</td>\n",
       "    </tr>\n",
       "    <tr>\n",
       "      <th>N</th>\n",
       "      <td>311.561911</td>\n",
       "    </tr>\n",
       "  </tbody>\n",
       "</table>\n",
       "</div>"
      ],
      "text/plain": [
       "                            mean\n",
       "                      brightness\n",
       "day_of_week daynight            \n",
       "Friday      D         333.239526\n",
       "            N         318.203270\n",
       "Monday      D         333.623055\n",
       "            N         313.920634\n",
       "Saturday    D         333.261220\n",
       "            N         316.695314\n",
       "Sunday      D         333.322145\n",
       "            N         314.568970\n",
       "Thursday    D         331.835620\n",
       "            N         312.339753\n",
       "Tuesday     D         331.424422\n",
       "            N         312.960112\n",
       "Wednesday   D         331.780219\n",
       "            N         311.561911"
      ]
     },
     "execution_count": 155,
     "metadata": {},
     "output_type": "execute_result"
    }
   ],
   "source": [
    "by_daynight=df.pivot_table(\n",
    "                    aggfunc=['mean'],\n",
    "                    values=['brightness'],\n",
    "                    index=['day_of_week','daynight'],\n",
    ")\n",
    "by_daynight"
   ]
  },
  {
   "cell_type": "code",
   "execution_count": 162,
   "metadata": {},
   "outputs": [
    {
     "data": {
      "text/plain": [
       "Text(0, 0.5, 'Average Brightness in Kelvin')"
      ]
     },
     "execution_count": 162,
     "metadata": {},
     "output_type": "execute_result"
    },
    {
     "data": {
      "image/png": "[encoded data removed]",
      "text/plain": [
       "<Figure size 432x288 with 1 Axes>"
      ]
     },
     "metadata": {},
     "output_type": "display_data"
    }
   ],
   "source": [
    "import seaborn as sns\n",
    "sns.set()\n",
    "pd.pivot_table(df, index= ['day_of_week'], aggfunc= 'mean',columns='daynight', values= \"brightness\").plot(kind= 'bar')\n",
    "plt.ylabel(\"Average Brightness in Kelvin\")"
   ]
  },
  {
   "cell_type": "markdown",
   "metadata": {},
   "source": [
    "## Exercise 14\n",
    "\n",
    "1. Create a new folder inside your class repo and send your instructor a link to this set of exercises."
   ]
  }
 ],
 "metadata": {
  "kernelspec": {
   "display_name": "Python 3",
   "language": "python",
   "name": "python3"
  },
  "language_info": {
   "codemirror_mode": {
    "name": "ipython",
    "version": 3
   },
   "file_extension": ".py",
   "mimetype": "text/x-python",
   "name": "python",
   "nbconvert_exporter": "python",
   "pygments_lexer": "ipython3",
   "version": "3.7.6"
  }
 },
 "nbformat": 4,
 "nbformat_minor": 4
}
